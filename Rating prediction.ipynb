{
 "cells": [
  {
   "cell_type": "markdown",
   "id": "0815a540",
   "metadata": {},
   "source": [
    "# Ratings Prediction"
   ]
  },
  {
   "cell_type": "markdown",
   "id": "b15fbb65",
   "metadata": {},
   "source": [
    "We have a client who has a website where people write different reviews for technical products. Now they are adding a new feature to their website i.e. The reviewer will have to add stars(rating) as well with the review. The rating is out 5 stars and it only has 5 options available 1 star, 2 stars, 3 stars, 4 stars, 5 stars. Now they want to predict ratings for the reviews which were written in the past and they don't have a rating. So, we have to build an application which can predict the rating by seeing the review."
   ]
  },
  {
   "cell_type": "markdown",
   "id": "9d65d988",
   "metadata": {},
   "source": [
    "# We will start our Analysis in importing the required libraries\n"
   ]
  },
  {
   "cell_type": "code",
   "execution_count": 1,
   "id": "9c3243e3",
   "metadata": {},
   "outputs": [],
   "source": [
    "import pandas as pd\n",
    "import numpy as np\n",
    "import seaborn as sns\n",
    "import matplotlib.pyplot as plt\n",
    "import warnings\n",
    "warnings.filterwarnings('ignore')"
   ]
  },
  {
   "cell_type": "code",
   "execution_count": 2,
   "id": "902b67f2",
   "metadata": {},
   "outputs": [
    {
     "name": "stderr",
     "output_type": "stream",
     "text": [
      "[nltk_data] Downloading package stopwords to\n",
      "[nltk_data]     C:\\Users\\Administrator\\AppData\\Roaming\\nltk_data...\n",
      "[nltk_data]   Package stopwords is already up-to-date!\n",
      "[nltk_data] Downloading package wordnet to\n",
      "[nltk_data]     C:\\Users\\Administrator\\AppData\\Roaming\\nltk_data...\n",
      "[nltk_data]   Package wordnet is already up-to-date!\n"
     ]
    },
    {
     "data": {
      "text/plain": [
       "True"
      ]
     },
     "execution_count": 2,
     "metadata": {},
     "output_type": "execute_result"
    }
   ],
   "source": [
    "import re\n",
    "from nltk.stem import WordNetLemmatizer\n",
    "import nltk\n",
    "from nltk.corpus import  stopwords\n",
    "import string\n",
    "import nltk\n",
    "nltk.download('stopwords')\n",
    "import nltk\n",
    "nltk.download('wordnet')\n"
   ]
  },
  {
   "cell_type": "markdown",
   "id": "cc00c154",
   "metadata": {},
   "source": [
    "# Exploratory Data Analysis"
   ]
  },
  {
   "cell_type": "markdown",
   "id": "a3195064",
   "metadata": {},
   "source": [
    "importing the csv file which we have scraped the ratting and review details...\n",
    "\n"
   ]
  },
  {
   "cell_type": "code",
   "execution_count": 3,
   "id": "820538e1",
   "metadata": {},
   "outputs": [],
   "source": [
    "df = pd.read_csv(\"https://raw.githubusercontent.com/UMARFAROOKH70228/INTERNSHIP-18-FLIPROBO/main/Rattings.csv\")\n"
   ]
  },
  {
   "cell_type": "code",
   "execution_count": 4,
   "id": "22f54c3c",
   "metadata": {},
   "outputs": [
    {
     "data": {
      "text/html": [
       "<div>\n",
       "<style scoped>\n",
       "    .dataframe tbody tr th:only-of-type {\n",
       "        vertical-align: middle;\n",
       "    }\n",
       "\n",
       "    .dataframe tbody tr th {\n",
       "        vertical-align: top;\n",
       "    }\n",
       "\n",
       "    .dataframe thead th {\n",
       "        text-align: right;\n",
       "    }\n",
       "</style>\n",
       "<table border=\"1\" class=\"dataframe\">\n",
       "  <thead>\n",
       "    <tr style=\"text-align: right;\">\n",
       "      <th></th>\n",
       "      <th>Rattings</th>\n",
       "      <th>Review</th>\n",
       "    </tr>\n",
       "  </thead>\n",
       "  <tbody>\n",
       "    <tr>\n",
       "      <th>0</th>\n",
       "      <td>3</td>\n",
       "      <td>PROS1. Its touch screen2. it doesn't have any ...</td>\n",
       "    </tr>\n",
       "    <tr>\n",
       "      <th>1</th>\n",
       "      <td>3</td>\n",
       "      <td>Pros1. Boots within 5 seconds (I bet u might h...</td>\n",
       "    </tr>\n",
       "    <tr>\n",
       "      <th>2</th>\n",
       "      <td>1</td>\n",
       "      <td>Screen is not upto the mark at this price poin...</td>\n",
       "    </tr>\n",
       "    <tr>\n",
       "      <th>3</th>\n",
       "      <td>4</td>\n",
       "      <td>The device is great when it comes to built qua...</td>\n",
       "    </tr>\n",
       "    <tr>\n",
       "      <th>4</th>\n",
       "      <td>4</td>\n",
       "      <td>The laptop arrived in a good condition and it ...</td>\n",
       "    </tr>\n",
       "    <tr>\n",
       "      <th>...</th>\n",
       "      <td>...</td>\n",
       "      <td>...</td>\n",
       "    </tr>\n",
       "    <tr>\n",
       "      <th>45072</th>\n",
       "      <td>3</td>\n",
       "      <td>I bought this product due to very high range s...</td>\n",
       "    </tr>\n",
       "    <tr>\n",
       "      <th>45073</th>\n",
       "      <td>3</td>\n",
       "      <td>i got this AC1750 and replaced my TP link rout...</td>\n",
       "    </tr>\n",
       "    <tr>\n",
       "      <th>45074</th>\n",
       "      <td>4</td>\n",
       "      <td>I was using Tenda AC 10 router (since 2019) fo...</td>\n",
       "    </tr>\n",
       "    <tr>\n",
       "      <th>45075</th>\n",
       "      <td>3</td>\n",
       "      <td>Read all the reviews but was still skeptical t...</td>\n",
       "    </tr>\n",
       "    <tr>\n",
       "      <th>45076</th>\n",
       "      <td>1</td>\n",
       "      <td>Never buy this product, pure waste of money, f...</td>\n",
       "    </tr>\n",
       "  </tbody>\n",
       "</table>\n",
       "<p>45077 rows × 2 columns</p>\n",
       "</div>"
      ],
      "text/plain": [
       "       Rattings                                             Review\n",
       "0             3  PROS1. Its touch screen2. it doesn't have any ...\n",
       "1             3  Pros1. Boots within 5 seconds (I bet u might h...\n",
       "2             1  Screen is not upto the mark at this price poin...\n",
       "3             4  The device is great when it comes to built qua...\n",
       "4             4  The laptop arrived in a good condition and it ...\n",
       "...         ...                                                ...\n",
       "45072         3  I bought this product due to very high range s...\n",
       "45073         3  i got this AC1750 and replaced my TP link rout...\n",
       "45074         4  I was using Tenda AC 10 router (since 2019) fo...\n",
       "45075         3  Read all the reviews but was still skeptical t...\n",
       "45076         1  Never buy this product, pure waste of money, f...\n",
       "\n",
       "[45077 rows x 2 columns]"
      ]
     },
     "execution_count": 4,
     "metadata": {},
     "output_type": "execute_result"
    }
   ],
   "source": [
    "df"
   ]
  },
  {
   "cell_type": "code",
   "execution_count": 5,
   "id": "29171773",
   "metadata": {},
   "outputs": [
    {
     "name": "stdout",
     "output_type": "stream",
     "text": [
      "<class 'pandas.core.frame.DataFrame'>\n",
      "RangeIndex: 45077 entries, 0 to 45076\n",
      "Data columns (total 2 columns):\n",
      " #   Column    Non-Null Count  Dtype \n",
      "---  ------    --------------  ----- \n",
      " 0   Rattings  45077 non-null  int64 \n",
      " 1   Review    45075 non-null  object\n",
      "dtypes: int64(1), object(1)\n",
      "memory usage: 704.5+ KB\n"
     ]
    }
   ],
   "source": [
    "df.info()"
   ]
  },
  {
   "cell_type": "code",
   "execution_count": 6,
   "id": "298a0f00",
   "metadata": {},
   "outputs": [
    {
     "data": {
      "text/html": [
       "<div>\n",
       "<style scoped>\n",
       "    .dataframe tbody tr th:only-of-type {\n",
       "        vertical-align: middle;\n",
       "    }\n",
       "\n",
       "    .dataframe tbody tr th {\n",
       "        vertical-align: top;\n",
       "    }\n",
       "\n",
       "    .dataframe thead th {\n",
       "        text-align: right;\n",
       "    }\n",
       "</style>\n",
       "<table border=\"1\" class=\"dataframe\">\n",
       "  <thead>\n",
       "    <tr style=\"text-align: right;\">\n",
       "      <th></th>\n",
       "      <th>Rattings</th>\n",
       "      <th>Review</th>\n",
       "      <th>length</th>\n",
       "    </tr>\n",
       "  </thead>\n",
       "  <tbody>\n",
       "    <tr>\n",
       "      <th>0</th>\n",
       "      <td>3</td>\n",
       "      <td>PROS1. Its touch screen2. it doesn't have any ...</td>\n",
       "      <td>413.0</td>\n",
       "    </tr>\n",
       "    <tr>\n",
       "      <th>1</th>\n",
       "      <td>3</td>\n",
       "      <td>Pros1. Boots within 5 seconds (I bet u might h...</td>\n",
       "      <td>775.0</td>\n",
       "    </tr>\n",
       "    <tr>\n",
       "      <th>2</th>\n",
       "      <td>1</td>\n",
       "      <td>Screen is not upto the mark at this price poin...</td>\n",
       "      <td>140.0</td>\n",
       "    </tr>\n",
       "    <tr>\n",
       "      <th>3</th>\n",
       "      <td>4</td>\n",
       "      <td>The device is great when it comes to built qua...</td>\n",
       "      <td>846.0</td>\n",
       "    </tr>\n",
       "    <tr>\n",
       "      <th>4</th>\n",
       "      <td>4</td>\n",
       "      <td>The laptop arrived in a good condition and it ...</td>\n",
       "      <td>196.0</td>\n",
       "    </tr>\n",
       "    <tr>\n",
       "      <th>...</th>\n",
       "      <td>...</td>\n",
       "      <td>...</td>\n",
       "      <td>...</td>\n",
       "    </tr>\n",
       "    <tr>\n",
       "      <th>45072</th>\n",
       "      <td>3</td>\n",
       "      <td>I bought this product due to very high range s...</td>\n",
       "      <td>1521.0</td>\n",
       "    </tr>\n",
       "    <tr>\n",
       "      <th>45073</th>\n",
       "      <td>3</td>\n",
       "      <td>i got this AC1750 and replaced my TP link rout...</td>\n",
       "      <td>736.0</td>\n",
       "    </tr>\n",
       "    <tr>\n",
       "      <th>45074</th>\n",
       "      <td>4</td>\n",
       "      <td>I was using Tenda AC 10 router (since 2019) fo...</td>\n",
       "      <td>4068.0</td>\n",
       "    </tr>\n",
       "    <tr>\n",
       "      <th>45075</th>\n",
       "      <td>3</td>\n",
       "      <td>Read all the reviews but was still skeptical t...</td>\n",
       "      <td>714.0</td>\n",
       "    </tr>\n",
       "    <tr>\n",
       "      <th>45076</th>\n",
       "      <td>1</td>\n",
       "      <td>Never buy this product, pure waste of money, f...</td>\n",
       "      <td>150.0</td>\n",
       "    </tr>\n",
       "  </tbody>\n",
       "</table>\n",
       "<p>45077 rows × 3 columns</p>\n",
       "</div>"
      ],
      "text/plain": [
       "       Rattings                                             Review  length\n",
       "0             3  PROS1. Its touch screen2. it doesn't have any ...   413.0\n",
       "1             3  Pros1. Boots within 5 seconds (I bet u might h...   775.0\n",
       "2             1  Screen is not upto the mark at this price poin...   140.0\n",
       "3             4  The device is great when it comes to built qua...   846.0\n",
       "4             4  The laptop arrived in a good condition and it ...   196.0\n",
       "...         ...                                                ...     ...\n",
       "45072         3  I bought this product due to very high range s...  1521.0\n",
       "45073         3  i got this AC1750 and replaced my TP link rout...   736.0\n",
       "45074         4  I was using Tenda AC 10 router (since 2019) fo...  4068.0\n",
       "45075         3  Read all the reviews but was still skeptical t...   714.0\n",
       "45076         1  Never buy this product, pure waste of money, f...   150.0\n",
       "\n",
       "[45077 rows x 3 columns]"
      ]
     },
     "execution_count": 6,
     "metadata": {},
     "output_type": "execute_result"
    }
   ],
   "source": [
    "df['length'] = df['Review'].str.len() #we are calculating length of each and every review before cleansing the data.\n",
    "df"
   ]
  },
  {
   "cell_type": "markdown",
   "id": "56eb7b68",
   "metadata": {},
   "source": [
    "# Data Cleansing."
   ]
  },
  {
   "cell_type": "code",
   "execution_count": 7,
   "id": "14a49b06",
   "metadata": {},
   "outputs": [],
   "source": [
    "# Convert all messages to lower case\n",
    "df['Review'] = df['Review'].str.lower()"
   ]
  },
  {
   "cell_type": "code",
   "execution_count": 8,
   "id": "6afe297f",
   "metadata": {},
   "outputs": [],
   "source": [
    "# Replace email addresses with 'email'\n",
    "df['Review'] = df['Review'].str.replace(r'^.+@[^\\.].*\\.[a-z]{2,}$','emailaddress')"
   ]
  },
  {
   "cell_type": "code",
   "execution_count": 9,
   "id": "075909e1",
   "metadata": {},
   "outputs": [],
   "source": [
    "# Replace URLs with 'webaddress'\n",
    "df['Review'] = df['Review'].str.replace(r'^http\\://[a-zA-Z0-9\\-\\.]+\\.[a-zA-Z]{2,3}(/\\S*)?$','webaddress')"
   ]
  },
  {
   "cell_type": "code",
   "execution_count": 10,
   "id": "c33c39a2",
   "metadata": {},
   "outputs": [],
   "source": [
    "# Replace money symbols with 'moneysymb' (£ can by typed with ALT key + 156)\n",
    "df['Review'] = df['Review'].str.replace(r'£|\\$', 'dollers')"
   ]
  },
  {
   "cell_type": "code",
   "execution_count": 11,
   "id": "4a75872c",
   "metadata": {},
   "outputs": [],
   "source": [
    "# Replace 10 digit phone numbers (formats include paranthesis, spaces, no spaces, dashes) with 'phonenumber'\n",
    "df['Review'] = df['Review'].str.replace(r'^\\(?[\\d]{3}\\)?[\\s-]?[\\d]{3}[\\s-]?[\\d]{4}$','phonenumber')"
   ]
  },
  {
   "cell_type": "code",
   "execution_count": 12,
   "id": "4a80ed95",
   "metadata": {},
   "outputs": [],
   "source": [
    "# Replace numbers with 'numbr'\n",
    "df['Review'] = df['Review'].str.replace(r'\\d+(\\.\\d+)?', 'numbr')"
   ]
  },
  {
   "cell_type": "code",
   "execution_count": 13,
   "id": "28c88bab",
   "metadata": {},
   "outputs": [],
   "source": [
    "df['Review']= df['Review'].astype(str)"
   ]
  },
  {
   "cell_type": "code",
   "execution_count": 14,
   "id": "7ad9d3f4",
   "metadata": {},
   "outputs": [],
   "source": [
    "df['Review'] = df['Review'].apply(lambda x: ' '.join(term for term in x.split() if term not in string.punctuation))"
   ]
  },
  {
   "cell_type": "code",
   "execution_count": 15,
   "id": "4693ee33",
   "metadata": {},
   "outputs": [],
   "source": [
    "stop_words = set(stopwords.words('english') + ['u', 'ü', 'ur', '4', '2', 'im', 'dont', 'doin', 'ure'])\n",
    "df['Review'] = df['Review'].apply(lambda x: ' '.join(\n",
    "    term for term in x.split() if term not in stop_words))"
   ]
  },
  {
   "cell_type": "code",
   "execution_count": 16,
   "id": "f953d757",
   "metadata": {},
   "outputs": [],
   "source": [
    "lem=WordNetLemmatizer()\n",
    "df['Review'] = df['Review'].apply(lambda x: ' '.join(lem.lemmatize(t) for t in x.split()))"
   ]
  },
  {
   "cell_type": "code",
   "execution_count": 17,
   "id": "f86b171f",
   "metadata": {},
   "outputs": [
    {
     "data": {
      "text/html": [
       "<div>\n",
       "<style scoped>\n",
       "    .dataframe tbody tr th:only-of-type {\n",
       "        vertical-align: middle;\n",
       "    }\n",
       "\n",
       "    .dataframe tbody tr th {\n",
       "        vertical-align: top;\n",
       "    }\n",
       "\n",
       "    .dataframe thead th {\n",
       "        text-align: right;\n",
       "    }\n",
       "</style>\n",
       "<table border=\"1\" class=\"dataframe\">\n",
       "  <thead>\n",
       "    <tr style=\"text-align: right;\">\n",
       "      <th></th>\n",
       "      <th>Rattings</th>\n",
       "      <th>Review</th>\n",
       "      <th>length</th>\n",
       "      <th>clean_length</th>\n",
       "    </tr>\n",
       "  </thead>\n",
       "  <tbody>\n",
       "    <tr>\n",
       "      <th>0</th>\n",
       "      <td>3</td>\n",
       "      <td>prosnumbr. touch screennumbr. fans, make sound...</td>\n",
       "      <td>413.0</td>\n",
       "      <td>331</td>\n",
       "    </tr>\n",
       "    <tr>\n",
       "      <th>1</th>\n",
       "      <td>3</td>\n",
       "      <td>prosnumbr. boot within numbr second (i bet mig...</td>\n",
       "      <td>775.0</td>\n",
       "      <td>687</td>\n",
       "    </tr>\n",
       "    <tr>\n",
       "      <th>2</th>\n",
       "      <td>1</td>\n",
       "      <td>screen upto mark price point! bad viewing angl...</td>\n",
       "      <td>140.0</td>\n",
       "      <td>82</td>\n",
       "    </tr>\n",
       "    <tr>\n",
       "      <th>3</th>\n",
       "      <td>4</td>\n",
       "      <td>device great come built quality, performance, ...</td>\n",
       "      <td>846.0</td>\n",
       "      <td>522</td>\n",
       "    </tr>\n",
       "    <tr>\n",
       "      <th>4</th>\n",
       "      <td>4</td>\n",
       "      <td>laptop arrived good condition packed well. rec...</td>\n",
       "      <td>196.0</td>\n",
       "      <td>139</td>\n",
       "    </tr>\n",
       "  </tbody>\n",
       "</table>\n",
       "</div>"
      ],
      "text/plain": [
       "   Rattings                                             Review  length  \\\n",
       "0         3  prosnumbr. touch screennumbr. fans, make sound...   413.0   \n",
       "1         3  prosnumbr. boot within numbr second (i bet mig...   775.0   \n",
       "2         1  screen upto mark price point! bad viewing angl...   140.0   \n",
       "3         4  device great come built quality, performance, ...   846.0   \n",
       "4         4  laptop arrived good condition packed well. rec...   196.0   \n",
       "\n",
       "   clean_length  \n",
       "0           331  \n",
       "1           687  \n",
       "2            82  \n",
       "3           522  \n",
       "4           139  "
      ]
     },
     "execution_count": 17,
     "metadata": {},
     "output_type": "execute_result"
    }
   ],
   "source": [
    "df['clean_length'] = df.Review.str.len() # checking the length of the words post cleaning.\n",
    "df.head()"
   ]
  },
  {
   "cell_type": "code",
   "execution_count": 18,
   "id": "4deb83c3",
   "metadata": {},
   "outputs": [
    {
     "name": "stdout",
     "output_type": "stream",
     "text": [
      "Origian Length 17723103.0\n",
      "Clean Length 12783826\n"
     ]
    }
   ],
   "source": [
    "\n",
    "print ('Origian Length', df.length.sum())\n",
    "print ('Clean Length', df.clean_length.sum())"
   ]
  },
  {
   "cell_type": "markdown",
   "id": "4e0dd8f2",
   "metadata": {},
   "source": [
    "# From above we can see that we have cleaned our reviews."
   ]
  },
  {
   "cell_type": "code",
   "execution_count": 19,
   "id": "79949eba",
   "metadata": {},
   "outputs": [],
   "source": [
    "labels = df.Rattings\n",
    "Text = df.Review"
   ]
  },
  {
   "cell_type": "markdown",
   "id": "0ea7f587",
   "metadata": {},
   "source": [
    "# # Preprocessing"
   ]
  },
  {
   "cell_type": "code",
   "execution_count": 20,
   "id": "4235edb6",
   "metadata": {},
   "outputs": [],
   "source": [
    "from sklearn.feature_extraction.text import CountVectorizer\n",
    "\n",
    "cv = CountVectorizer(binary = True)\n",
    "cv.fit(Text)\n",
    "x = cv.transform(Text)"
   ]
  },
  {
   "cell_type": "code",
   "execution_count": 21,
   "id": "22308b47",
   "metadata": {},
   "outputs": [
    {
     "data": {
      "text/plain": [
       "<45077x33535 sparse matrix of type '<class 'numpy.int64'>'\n",
       "\twith 1474708 stored elements in Compressed Sparse Row format>"
      ]
     },
     "execution_count": 21,
     "metadata": {},
     "output_type": "execute_result"
    }
   ],
   "source": [
    "x"
   ]
  },
  {
   "cell_type": "code",
   "execution_count": 22,
   "id": "f6be0374",
   "metadata": {},
   "outputs": [],
   "source": [
    "y = labels"
   ]
  },
  {
   "cell_type": "markdown",
   "id": "25b36b32",
   "metadata": {},
   "source": [
    "# Selecting parameters for training"
   ]
  },
  {
   "cell_type": "markdown",
   "id": "0cd4373d",
   "metadata": {},
   "source": [
    "from sklearn.linear_model import LogisticRegression from sklearn.metrics import accuracy_score, confusion_matrix, classification_report from sklearn.model_selection import train_test_split\n",
    "\n",
    "accu = 0 for i in range(0,500): x_train, x_test, y_train, y_test = train_test_split(x,y,test_size = .25, random_state = i) mod = LogisticRegression() mod.fit(x_train,y_train) y_pred = mod.predict(x_test) acc = accuracy_score(y_test,y_pred) if acc> accu: accu= acc best_rstate=i\n",
    "\n",
    "print(f\"Best Accuracy {accu*100} found on randomstate {best_rstate}\")"
   ]
  },
  {
   "cell_type": "code",
   "execution_count": 23,
   "id": "a7a316c5",
   "metadata": {},
   "outputs": [],
   "source": [
    "from sklearn.model_selection import train_test_split, GridSearchCV\n",
    "from sklearn.linear_model import LogisticRegression\n",
    "from sklearn.naive_bayes import GaussianNB\n",
    "from sklearn.model_selection import RandomizedSearchCV, cross_val_score, cross_validate, cross_val_predict\n",
    "from sklearn.linear_model import SGDClassifier\n",
    "from sklearn.neighbors import KNeighborsClassifier\n",
    "from sklearn.ensemble import RandomForestClassifier, AdaBoostClassifier, GradientBoostingClassifier \n",
    "from sklearn.tree import DecisionTreeClassifier, ExtraTreeClassifier\n",
    "from sklearn import metrics\n",
    "import xgboost as xgb\n",
    "\n",
    "import warnings\n",
    "warnings.filterwarnings('ignore')"
   ]
  },
  {
   "cell_type": "code",
   "execution_count": 24,
   "id": "8745b105",
   "metadata": {},
   "outputs": [],
   "source": [
    "x_train, x_test, y_train, y_test = train_test_split(x,y,test_size = .25, random_state = 522)"
   ]
  },
  {
   "cell_type": "markdown",
   "id": "38641888",
   "metadata": {},
   "source": [
    "# Selecting the Best model for Training"
   ]
  },
  {
   "cell_type": "code",
   "execution_count": 25,
   "id": "82d8c2fa",
   "metadata": {},
   "outputs": [],
   "source": [
    "def sort_mod(estimator, x_train, y_train, cv=5, verbose=True):\n",
    "   \n",
    "    scoring = {\"accuracy\": \"accuracy\",\n",
    "               \"precision\": \"precision_weighted\",\n",
    "               \"recall\": \"recall_weighted\",\n",
    "               \"f1\": \"f1_weighted\"}\n",
    "    scores = cross_validate(estimator, x_train, y_train, cv=cv, scoring=scoring)\n",
    "    accuracy, accuracy_std = scores['test_accuracy'].mean(),scores['test_accuracy'].std()\n",
    "    precision, precision_std = scores['test_precision'].mean(),scores['test_precision'].std()\n",
    "    recall, recall_std = scores['test_recall'].mean(),scores['test_recall'].std()\n",
    "    f1, f1_std = scores['test_f1'].mean(),scores['test_f1'].std()\n",
    "\n",
    "    \n",
    "    ScoRes = {\"Accuracy\": accuracy,\"Accuracy std\": accuracy_std,\"Precision\": precision,\"Precision std\": precision_std,\n",
    "              \"Recall\": recall,\"Recall std\": recall_std,\"f1\": f1,\"f1 std\": f1_std,}\n",
    "    \n",
    "    if verbose:\n",
    "        print(f\"Accuracy: {accuracy} - (std: {accuracy_std})\")\n",
    "        print(f\"Precision: {precision} - (std: {precision_std})\")\n",
    "        print(f\"Recall: {recall} - (std: {recall_std})\")\n",
    "        print(f\"f1: {f1} - (std: {f1_std})\")\n",
    "\n",
    "    return ScoRes"
   ]
  },
  {
   "cell_type": "code",
   "execution_count": 26,
   "id": "362d36df",
   "metadata": {},
   "outputs": [],
   "source": [
    "models = [LogisticRegression(),RandomForestClassifier(random_state=42),\n",
    "          DecisionTreeClassifier(random_state=42), ExtraTreeClassifier(random_state=42), \n",
    "          AdaBoostClassifier(random_state=42), GradientBoostingClassifier(random_state=42), \n",
    "          xgb.XGBClassifier()]\n",
    "\n",
    "model_names = [\"LogisticRegression\", \"Random Forest\",\n",
    "               \"Decision Tree\", \"Extra Tree\", \"Ada Boost\", \n",
    "               \"Gradient Boosting\", \"XGBoost\"]"
   ]
  },
  {
   "cell_type": "code",
   "execution_count": 27,
   "id": "b137ac51",
   "metadata": {},
   "outputs": [
    {
     "name": "stdout",
     "output_type": "stream",
     "text": [
      "\n",
      "\n",
      "Step 1 of 7\n",
      "....................................................................running LogisticRegression\n",
      "Accuracy: 0.738131162769089 - (std: 0.0020261949483147772)\n",
      "Precision: 0.7262052270623091 - (std: 0.0018944758738968944)\n",
      "Recall: 0.738131162769089 - (std: 0.0020261949483147772)\n",
      "f1: 0.7263893522606976 - (std: 0.0018040944097765083)\n",
      "\n",
      "\n",
      "Step 2 of 7\n",
      "....................................................................running Random Forest\n",
      "Accuracy: 0.7609665469629586 - (std: 0.003767064899360767)\n",
      "Precision: 0.7920028018880977 - (std: 0.004307811533642786)\n",
      "Recall: 0.7609665469629586 - (std: 0.003767064899360767)\n",
      "f1: 0.7386315413089615 - (std: 0.0037886605727460772)\n",
      "\n",
      "\n",
      "Step 3 of 7\n",
      "....................................................................running Decision Tree\n",
      "Accuracy: 0.6998845747053636 - (std: 0.0026717747424851025)\n",
      "Precision: 0.6926186343749156 - (std: 0.0028752053426080665)\n",
      "Recall: 0.6998845747053636 - (std: 0.0026717747424851025)\n",
      "f1: 0.6949293840224782 - (std: 0.0027817856736568882)\n",
      "\n",
      "\n",
      "Step 4 of 7\n",
      "....................................................................running Extra Tree\n",
      "Accuracy: 0.6711330765497842 - (std: 0.0019160219191575205)\n",
      "Precision: 0.6647291381367235 - (std: 0.0019642899727880573)\n",
      "Recall: 0.6711330765497842 - (std: 0.0019160219191575205)\n",
      "f1: 0.6669014642862645 - (std: 0.0021105949040314876)\n",
      "\n",
      "\n",
      "Step 5 of 7\n",
      "....................................................................running Ada Boost\n",
      "Accuracy: 0.573549820177584 - (std: 0.0014582280170360503)\n",
      "Precision: 0.5090943731210897 - (std: 0.013311494804389907)\n",
      "Recall: 0.573549820177584 - (std: 0.0014582280170360503)\n",
      "f1: 0.49278525938459516 - (std: 0.0023712290252803966)\n",
      "\n",
      "\n",
      "Step 6 of 7\n",
      "....................................................................running Gradient Boosting\n",
      "Accuracy: 0.6310231344487918 - (std: 0.0032517097782049477)\n",
      "Precision: 0.6617427057427238 - (std: 0.00552310226882973)\n",
      "Recall: 0.6310231344487918 - (std: 0.0032517097782049477)\n",
      "f1: 0.5664469780920098 - (std: 0.003769208468710003)\n",
      "\n",
      "\n",
      "Step 7 of 7\n",
      "....................................................................running XGBoost\n",
      "Accuracy: nan - (std: nan)\n",
      "Precision: nan - (std: nan)\n",
      "Recall: nan - (std: nan)\n",
      "f1: nan - (std: nan)\n"
     ]
    }
   ],
   "source": [
    "accuracy = []\n",
    "precision = []\n",
    "recall = []\n",
    "f1 = []\n",
    "\n",
    "for model in range(len(models)):\n",
    "    print(f\"\\n\\nStep {model+1} of {len(models)}\")\n",
    "    print(f\"....................................................................running {model_names[model]}\")\n",
    "    \n",
    "    clf_scores = sort_mod(models[model], x_train, y_train)\n",
    "    \n",
    "    accuracy.append(clf_scores[\"Accuracy\"])\n",
    "    precision.append(clf_scores[\"Precision\"])\n",
    "    recall.append(clf_scores[\"Recall\"])\n",
    "    f1.append(clf_scores[\"f1\"])"
   ]
  },
  {
   "cell_type": "code",
   "execution_count": 28,
   "id": "6cf639a9",
   "metadata": {},
   "outputs": [
    {
     "data": {
      "text/html": [
       "<div>\n",
       "<style scoped>\n",
       "    .dataframe tbody tr th:only-of-type {\n",
       "        vertical-align: middle;\n",
       "    }\n",
       "\n",
       "    .dataframe tbody tr th {\n",
       "        vertical-align: top;\n",
       "    }\n",
       "\n",
       "    .dataframe thead th {\n",
       "        text-align: right;\n",
       "    }\n",
       "</style>\n",
       "<table border=\"1\" class=\"dataframe\">\n",
       "  <thead>\n",
       "    <tr style=\"text-align: right;\">\n",
       "      <th></th>\n",
       "      <th>Model</th>\n",
       "      <th>accuracy</th>\n",
       "      <th>precision</th>\n",
       "      <th>recall</th>\n",
       "      <th>f1</th>\n",
       "    </tr>\n",
       "  </thead>\n",
       "  <tbody>\n",
       "    <tr>\n",
       "      <th>1</th>\n",
       "      <td>Random Forest</td>\n",
       "      <td>0.760967</td>\n",
       "      <td>0.792003</td>\n",
       "      <td>0.760967</td>\n",
       "      <td>0.738632</td>\n",
       "    </tr>\n",
       "    <tr>\n",
       "      <th>0</th>\n",
       "      <td>LogisticRegression</td>\n",
       "      <td>0.738131</td>\n",
       "      <td>0.726205</td>\n",
       "      <td>0.738131</td>\n",
       "      <td>0.726389</td>\n",
       "    </tr>\n",
       "    <tr>\n",
       "      <th>2</th>\n",
       "      <td>Decision Tree</td>\n",
       "      <td>0.699885</td>\n",
       "      <td>0.692619</td>\n",
       "      <td>0.699885</td>\n",
       "      <td>0.694929</td>\n",
       "    </tr>\n",
       "    <tr>\n",
       "      <th>3</th>\n",
       "      <td>Extra Tree</td>\n",
       "      <td>0.671133</td>\n",
       "      <td>0.664729</td>\n",
       "      <td>0.671133</td>\n",
       "      <td>0.666901</td>\n",
       "    </tr>\n",
       "    <tr>\n",
       "      <th>5</th>\n",
       "      <td>Gradient Boosting</td>\n",
       "      <td>0.631023</td>\n",
       "      <td>0.661743</td>\n",
       "      <td>0.631023</td>\n",
       "      <td>0.566447</td>\n",
       "    </tr>\n",
       "    <tr>\n",
       "      <th>4</th>\n",
       "      <td>Ada Boost</td>\n",
       "      <td>0.573550</td>\n",
       "      <td>0.509094</td>\n",
       "      <td>0.573550</td>\n",
       "      <td>0.492785</td>\n",
       "    </tr>\n",
       "    <tr>\n",
       "      <th>6</th>\n",
       "      <td>XGBoost</td>\n",
       "      <td>NaN</td>\n",
       "      <td>NaN</td>\n",
       "      <td>NaN</td>\n",
       "      <td>NaN</td>\n",
       "    </tr>\n",
       "  </tbody>\n",
       "</table>\n",
       "</div>"
      ],
      "text/plain": [
       "                Model  accuracy  precision    recall        f1\n",
       "1       Random Forest  0.760967   0.792003  0.760967  0.738632\n",
       "0  LogisticRegression  0.738131   0.726205  0.738131  0.726389\n",
       "2       Decision Tree  0.699885   0.692619  0.699885  0.694929\n",
       "3          Extra Tree  0.671133   0.664729  0.671133  0.666901\n",
       "5   Gradient Boosting  0.631023   0.661743  0.631023  0.566447\n",
       "4           Ada Boost  0.573550   0.509094  0.573550  0.492785\n",
       "6             XGBoost       NaN        NaN       NaN       NaN"
      ]
     },
     "execution_count": 28,
     "metadata": {},
     "output_type": "execute_result"
    }
   ],
   "source": [
    "df_result = pd.DataFrame({\"Model\": model_names,\n",
    "                          \"accuracy\": accuracy,\n",
    "                          \"precision\": precision,\n",
    "                          \"recall\": recall,\n",
    "                          \"f1\": f1})\n",
    "df_result.sort_values(by=\"f1\", ascending=False)"
   ]
  },
  {
   "cell_type": "code",
   "execution_count": 29,
   "id": "db08d86f",
   "metadata": {},
   "outputs": [
    {
     "data": {
      "image/png": "[encoded data removed]",
      "text/plain": [
       "<Figure size 432x288 with 1 Axes>"
      ]
     },
     "metadata": {
      "needs_background": "light"
     },
     "output_type": "display_data"
    },
    {
     "data": {
      "image/png": "[encoded data removed]",
      "text/plain": [
       "<Figure size 432x288 with 1 Axes>"
      ]
     },
     "metadata": {
      "needs_background": "light"
     },
     "output_type": "display_data"
    },
    {
     "data": {
      "image/png": "[encoded data removed]",
      "text/plain": [
       "<Figure size 432x288 with 1 Axes>"
      ]
     },
     "metadata": {
      "needs_background": "light"
     },
     "output_type": "display_data"
    },
    {
     "data": {
      "image/png": "[encoded data removed]",
      "text/plain": [
       "<Figure size 432x288 with 1 Axes>"
      ]
     },
     "metadata": {
      "needs_background": "light"
     },
     "output_type": "display_data"
    }
   ],
   "source": [
    "metrics_list = [\"f1\", \"accuracy\", \"precision\", \"recall\"]\n",
    "\n",
    "for metric in metrics_list:\n",
    "    df_result.sort_values(by=metric).plot.bar(\"Model\", metric, color = 'blue')\n",
    "    plt.title(f\"Model by {metric}\")\n",
    "    plt.show()"
   ]
  },
  {
   "cell_type": "markdown",
   "id": "193ebf50",
   "metadata": {},
   "source": [
    "# Since Random Forest tops the chart with the following metrics we will Hyper tune Random Forest to get better results."
   ]
  },
  {
   "cell_type": "raw",
   "id": "db15e7c9",
   "metadata": {},
   "source": [
    "  Random Forest\n",
    "1. accuracy  = 0.760966\n",
    "2. precision = 0.792002\n",
    "3. recall    = 0.760966       \n",
    "4. f1        = 0.738631"
   ]
  },
  {
   "cell_type": "code",
   "execution_count": 30,
   "id": "6bc26cca",
   "metadata": {},
   "outputs": [],
   "source": [
    "from sklearn.metrics import roc_curve\n",
    "import matplotlib.pyplot as plt\n",
    "from sklearn.metrics import roc_auc_score"
   ]
  },
  {
   "cell_type": "code",
   "execution_count": 31,
   "id": "2858e6b9",
   "metadata": {},
   "outputs": [
    {
     "data": {
      "text/plain": [
       "RandomForestClassifier(random_state=42)"
      ]
     },
     "execution_count": 31,
     "metadata": {},
     "output_type": "execute_result"
    }
   ],
   "source": [
    "clf_rf =  RandomForestClassifier(random_state=42)\n",
    "clf_rf.fit(x_train,y_train)"
   ]
  },
  {
   "cell_type": "code",
   "execution_count": 32,
   "id": "5397544f",
   "metadata": {},
   "outputs": [
    {
     "data": {
      "text/plain": [
       "array([[0.        , 0.        , 0.        , 0.        , 1.        ],\n",
       "       [0.36      , 0.53      , 0.05      , 0.06      , 0.        ],\n",
       "       [0.99      , 0.        , 0.        , 0.        , 0.01      ],\n",
       "       ...,\n",
       "       [0.1       , 0.01      , 0.06      , 0.26      , 0.57      ],\n",
       "       [0.11      , 0.01      , 0.08      , 0.30333333, 0.49666667],\n",
       "       [0.        , 0.        , 0.        , 0.        , 1.        ]])"
      ]
     },
     "execution_count": 32,
     "metadata": {},
     "output_type": "execute_result"
    }
   ],
   "source": [
    "y_pred_prob=clf_rf.predict_proba(x_test)\n",
    "y_pred_prob"
   ]
  },
  {
   "cell_type": "code",
   "execution_count": 33,
   "id": "0715e970",
   "metadata": {},
   "outputs": [],
   "source": [
    "fpr = {}\n",
    "tpr = {}\n",
    "thresh ={}\n",
    "\n",
    "n_class = 5\n",
    "\n",
    "for i in range(n_class):    \n",
    "    fpr[i], tpr[i], thresh[i] = roc_curve(y_test, y_pred_prob[:,i], pos_label=i)"
   ]
  },
  {
   "cell_type": "code",
   "execution_count": 34,
   "id": "9bf9c0e5",
   "metadata": {},
   "outputs": [
    {
     "data": {
      "image/png": "[encoded data removed]",
      "text/plain": [
       "<Figure size 432x288 with 1 Axes>"
      ]
     },
     "metadata": {
      "needs_background": "light"
     },
     "output_type": "display_data"
    }
   ],
   "source": [
    "plt.plot(fpr[0], tpr[0], linestyle='--',color='red', label='Class 0 vs Rest')\n",
    "plt.plot(fpr[1], tpr[1], linestyle='--',color='green', label='Class 1 vs Rest')\n",
    "plt.plot(fpr[2], tpr[2], linestyle='--',color='blue', label='Class 2 vs Rest')\n",
    "plt.plot(fpr[3], tpr[3], linestyle='--',color='yellow', label='Class 3 vs Rest')\n",
    "plt.plot(fpr[4], tpr[4], linestyle='--',color='black', label='Class 4 vs Rest')\n",
    "\n",
    "plt.title('Multiclass ROC curve-XGB')\n",
    "plt.xlabel('False Positive Rate')\n",
    "plt.ylabel('True Positive rate')\n",
    "plt.plot([0,1],[0,1],'k--')\n",
    "plt.show()"
   ]
  },
  {
   "cell_type": "code",
   "execution_count": 35,
   "id": "62f10735",
   "metadata": {},
   "outputs": [
    {
     "data": {
      "text/plain": [
       "{'bootstrap': True,\n",
       " 'ccp_alpha': 0.0,\n",
       " 'class_weight': None,\n",
       " 'criterion': 'gini',\n",
       " 'max_depth': None,\n",
       " 'max_features': 'auto',\n",
       " 'max_leaf_nodes': None,\n",
       " 'max_samples': None,\n",
       " 'min_impurity_decrease': 0.0,\n",
       " 'min_samples_leaf': 1,\n",
       " 'min_samples_split': 2,\n",
       " 'min_weight_fraction_leaf': 0.0,\n",
       " 'n_estimators': 100,\n",
       " 'n_jobs': None,\n",
       " 'oob_score': False,\n",
       " 'random_state': 42,\n",
       " 'verbose': 0,\n",
       " 'warm_start': False}"
      ]
     },
     "execution_count": 35,
     "metadata": {},
     "output_type": "execute_result"
    }
   ],
   "source": [
    "clf_rf.get_params()"
   ]
  },
  {
   "cell_type": "code",
   "execution_count": 36,
   "id": "2d160d0a",
   "metadata": {},
   "outputs": [
    {
     "data": {
      "text/html": [
       "<div>\n",
       "<style scoped>\n",
       "    .dataframe tbody tr th:only-of-type {\n",
       "        vertical-align: middle;\n",
       "    }\n",
       "\n",
       "    .dataframe tbody tr th {\n",
       "        vertical-align: top;\n",
       "    }\n",
       "\n",
       "    .dataframe thead th {\n",
       "        text-align: right;\n",
       "    }\n",
       "</style>\n",
       "<table border=\"1\" class=\"dataframe\">\n",
       "  <thead>\n",
       "    <tr style=\"text-align: right;\">\n",
       "      <th>Predicted</th>\n",
       "      <th>1</th>\n",
       "      <th>2</th>\n",
       "      <th>3</th>\n",
       "      <th>4</th>\n",
       "      <th>5</th>\n",
       "    </tr>\n",
       "    <tr>\n",
       "      <th>Real</th>\n",
       "      <th></th>\n",
       "      <th></th>\n",
       "      <th></th>\n",
       "      <th></th>\n",
       "      <th></th>\n",
       "    </tr>\n",
       "  </thead>\n",
       "  <tbody>\n",
       "    <tr>\n",
       "      <th>1</th>\n",
       "      <td>8106</td>\n",
       "      <td>22</td>\n",
       "      <td>30</td>\n",
       "      <td>54</td>\n",
       "      <td>909</td>\n",
       "    </tr>\n",
       "    <tr>\n",
       "      <th>2</th>\n",
       "      <td>721</td>\n",
       "      <td>847</td>\n",
       "      <td>9</td>\n",
       "      <td>36</td>\n",
       "      <td>440</td>\n",
       "    </tr>\n",
       "    <tr>\n",
       "      <th>3</th>\n",
       "      <td>578</td>\n",
       "      <td>5</td>\n",
       "      <td>1311</td>\n",
       "      <td>80</td>\n",
       "      <td>1071</td>\n",
       "    </tr>\n",
       "    <tr>\n",
       "      <th>4</th>\n",
       "      <td>406</td>\n",
       "      <td>5</td>\n",
       "      <td>24</td>\n",
       "      <td>2235</td>\n",
       "      <td>3010</td>\n",
       "    </tr>\n",
       "    <tr>\n",
       "      <th>5</th>\n",
       "      <td>466</td>\n",
       "      <td>12</td>\n",
       "      <td>28</td>\n",
       "      <td>175</td>\n",
       "      <td>13227</td>\n",
       "    </tr>\n",
       "  </tbody>\n",
       "</table>\n",
       "</div>"
      ],
      "text/plain": [
       "Predicted     1    2     3     4      5\n",
       "Real                                   \n",
       "1          8106   22    30    54    909\n",
       "2           721  847     9    36    440\n",
       "3           578    5  1311    80   1071\n",
       "4           406    5    24  2235   3010\n",
       "5           466   12    28   175  13227"
      ]
     },
     "execution_count": 36,
     "metadata": {},
     "output_type": "execute_result"
    }
   ],
   "source": [
    "preds = cross_val_predict(clf_rf, x_train, y_train, cv=5, n_jobs=-1)\n",
    "pd.crosstab(y_train, preds, rownames = ['Real'], colnames =['Predicted'])"
   ]
  },
  {
   "cell_type": "code",
   "execution_count": 37,
   "id": "96a0129c",
   "metadata": {},
   "outputs": [
    {
     "name": "stdout",
     "output_type": "stream",
     "text": [
      "              precision    recall  f1-score   support\n",
      "\n",
      "           1       0.79      0.89      0.84      9121\n",
      "           2       0.95      0.41      0.58      2053\n",
      "           3       0.94      0.43      0.59      3045\n",
      "           4       0.87      0.39      0.54      5680\n",
      "           5       0.71      0.95      0.81     13908\n",
      "\n",
      "    accuracy                           0.76     33807\n",
      "   macro avg       0.85      0.62      0.67     33807\n",
      "weighted avg       0.79      0.76      0.74     33807\n",
      "\n"
     ]
    }
   ],
   "source": [
    "print(metrics.classification_report(y_train, preds, zero_division=0))"
   ]
  },
  {
   "cell_type": "markdown",
   "id": "5fc31ad7",
   "metadata": {},
   "source": [
    "# Saving the model."
   ]
  },
  {
   "cell_type": "code",
   "execution_count": 38,
   "id": "7c48f105",
   "metadata": {},
   "outputs": [
    {
     "data": {
      "text/plain": [
       "['Rattingprediction.obj']"
      ]
     },
     "execution_count": 38,
     "metadata": {},
     "output_type": "execute_result"
    }
   ],
   "source": [
    "import joblib\n",
    "joblib.dump(clf_rf,\"Rattingprediction.obj\")"
   ]
  },
  {
   "cell_type": "code",
   "execution_count": null,
   "id": "3c9d8a06",
   "metadata": {},
   "outputs": [],
   "source": []
  }
 ],
 "metadata": {
  "kernelspec": {
   "display_name": "Python 3",
   "language": "python",
   "name": "python3"
  },
  "language_info": {
   "codemirror_mode": {
    "name": "ipython",
    "version": 3
   },
   "file_extension": ".py",
   "mimetype": "text/x-python",
   "name": "python",
   "nbconvert_exporter": "python",
   "pygments_lexer": "ipython3",
   "version": "3.8.8"
  }
 },
 "nbformat": 4,
 "nbformat_minor": 5
}
