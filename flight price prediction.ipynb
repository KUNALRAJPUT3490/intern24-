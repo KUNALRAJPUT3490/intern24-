{
 "cells": [
  {
   "cell_type": "code",
   "execution_count": 2,
   "id": "3cce89b2",
   "metadata": {},
   "outputs": [],
   "source": [
    "import numpy as np\n",
    "import pandas as pd\n",
    "import seaborn as sns\n",
    "import matplotlib.pyplot as plt\n",
    "from scipy.stats import zscore\n",
    "from sklearn.linear_model import LogisticRegression\n",
    "from sklearn.naive_bayes import GaussianNB\n",
    "from sklearn.svm import SVC\n",
    "from sklearn.tree import DecisionTreeClassifier,export_graphviz\n",
    "from sklearn.ensemble import RandomForestClassifier\n",
    "from sklearn.preprocessing import LabelEncoder\n",
    "from sklearn.ensemble import AdaBoostClassifier\n",
    "from sklearn.metrics import accuracy_score,confusion_matrix,classification_report,precision_recall_curve,roc_curve\n",
    "from sklearn.preprocessing import MinMaxScaler\n",
    "from sklearn.model_selection import train_test_split\n",
    "from sklearn.preprocessing import PowerTransformer\n",
    "from sklearn.model_selection import cross_val_score\n",
    "import joblib\n",
    "import warnings\n",
    "warnings.filterwarnings('ignore')"
   ]
  },
  {
   "cell_type": "code",
   "execution_count": 3,
   "id": "b25652ef",
   "metadata": {},
   "outputs": [
    {
     "data": {
      "text/html": [
       "<div>\n",
       "<style scoped>\n",
       "    .dataframe tbody tr th:only-of-type {\n",
       "        vertical-align: middle;\n",
       "    }\n",
       "\n",
       "    .dataframe tbody tr th {\n",
       "        vertical-align: top;\n",
       "    }\n",
       "\n",
       "    .dataframe thead th {\n",
       "        text-align: right;\n",
       "    }\n",
       "</style>\n",
       "<table border=\"1\" class=\"dataframe\">\n",
       "  <thead>\n",
       "    <tr style=\"text-align: right;\">\n",
       "      <th></th>\n",
       "      <th>Airline</th>\n",
       "      <th>Date_of_Journey</th>\n",
       "      <th>Source</th>\n",
       "      <th>Destination</th>\n",
       "      <th>Route</th>\n",
       "      <th>Dep_Time</th>\n",
       "      <th>Arrival_Time</th>\n",
       "      <th>Duration</th>\n",
       "      <th>Total_Stops</th>\n",
       "      <th>Additional_Info</th>\n",
       "    </tr>\n",
       "  </thead>\n",
       "  <tbody>\n",
       "    <tr>\n",
       "      <th>0</th>\n",
       "      <td>Jet Airways</td>\n",
       "      <td>6/06/2019</td>\n",
       "      <td>Delhi</td>\n",
       "      <td>Cochin</td>\n",
       "      <td>DEL → BOM → COK</td>\n",
       "      <td>17:30</td>\n",
       "      <td>04:25 07 Jun</td>\n",
       "      <td>10h 55m</td>\n",
       "      <td>1 stop</td>\n",
       "      <td>No info</td>\n",
       "    </tr>\n",
       "    <tr>\n",
       "      <th>1</th>\n",
       "      <td>IndiGo</td>\n",
       "      <td>12/05/2019</td>\n",
       "      <td>Kolkata</td>\n",
       "      <td>Banglore</td>\n",
       "      <td>CCU → MAA → BLR</td>\n",
       "      <td>06:20</td>\n",
       "      <td>10:20</td>\n",
       "      <td>4h</td>\n",
       "      <td>1 stop</td>\n",
       "      <td>No info</td>\n",
       "    </tr>\n",
       "    <tr>\n",
       "      <th>2</th>\n",
       "      <td>Jet Airways</td>\n",
       "      <td>21/05/2019</td>\n",
       "      <td>Delhi</td>\n",
       "      <td>Cochin</td>\n",
       "      <td>DEL → BOM → COK</td>\n",
       "      <td>19:15</td>\n",
       "      <td>19:00 22 May</td>\n",
       "      <td>23h 45m</td>\n",
       "      <td>1 stop</td>\n",
       "      <td>In-flight meal not included</td>\n",
       "    </tr>\n",
       "    <tr>\n",
       "      <th>3</th>\n",
       "      <td>Multiple carriers</td>\n",
       "      <td>21/05/2019</td>\n",
       "      <td>Delhi</td>\n",
       "      <td>Cochin</td>\n",
       "      <td>DEL → BOM → COK</td>\n",
       "      <td>08:00</td>\n",
       "      <td>21:00</td>\n",
       "      <td>13h</td>\n",
       "      <td>1 stop</td>\n",
       "      <td>No info</td>\n",
       "    </tr>\n",
       "    <tr>\n",
       "      <th>4</th>\n",
       "      <td>Air Asia</td>\n",
       "      <td>24/06/2019</td>\n",
       "      <td>Banglore</td>\n",
       "      <td>Delhi</td>\n",
       "      <td>BLR → DEL</td>\n",
       "      <td>23:55</td>\n",
       "      <td>02:45 25 Jun</td>\n",
       "      <td>2h 50m</td>\n",
       "      <td>non-stop</td>\n",
       "      <td>No info</td>\n",
       "    </tr>\n",
       "  </tbody>\n",
       "</table>\n",
       "</div>"
      ],
      "text/plain": [
       "             Airline Date_of_Journey    Source Destination            Route  \\\n",
       "0        Jet Airways       6/06/2019     Delhi      Cochin  DEL → BOM → COK   \n",
       "1             IndiGo      12/05/2019   Kolkata    Banglore  CCU → MAA → BLR   \n",
       "2        Jet Airways      21/05/2019     Delhi      Cochin  DEL → BOM → COK   \n",
       "3  Multiple carriers      21/05/2019     Delhi      Cochin  DEL → BOM → COK   \n",
       "4           Air Asia      24/06/2019  Banglore       Delhi        BLR → DEL   \n",
       "\n",
       "  Dep_Time  Arrival_Time Duration Total_Stops              Additional_Info  \n",
       "0    17:30  04:25 07 Jun  10h 55m      1 stop                      No info  \n",
       "1    06:20         10:20       4h      1 stop                      No info  \n",
       "2    19:15  19:00 22 May  23h 45m      1 stop  In-flight meal not included  \n",
       "3    08:00         21:00      13h      1 stop                      No info  \n",
       "4    23:55  02:45 25 Jun   2h 50m    non-stop                      No info  "
      ]
     },
     "execution_count": 3,
     "metadata": {},
     "output_type": "execute_result"
    }
   ],
   "source": [
    "df = pd.read_excel('Test_set.xlsx')\n",
    "df.head()"
   ]
  },
  {
   "cell_type": "code",
   "execution_count": 4,
   "id": "b592ae48",
   "metadata": {},
   "outputs": [
    {
     "name": "stdout",
     "output_type": "stream",
     "text": [
      "<class 'pandas.core.frame.DataFrame'>\n",
      "RangeIndex: 2671 entries, 0 to 2670\n",
      "Data columns (total 10 columns):\n",
      " #   Column           Non-Null Count  Dtype \n",
      "---  ------           --------------  ----- \n",
      " 0   Airline          2671 non-null   object\n",
      " 1   Date_of_Journey  2671 non-null   object\n",
      " 2   Source           2671 non-null   object\n",
      " 3   Destination      2671 non-null   object\n",
      " 4   Route            2671 non-null   object\n",
      " 5   Dep_Time         2671 non-null   object\n",
      " 6   Arrival_Time     2671 non-null   object\n",
      " 7   Duration         2671 non-null   object\n",
      " 8   Total_Stops      2671 non-null   object\n",
      " 9   Additional_Info  2671 non-null   object\n",
      "dtypes: object(10)\n",
      "memory usage: 208.8+ KB\n"
     ]
    }
   ],
   "source": [
    "df.info()"
   ]
  },
  {
   "cell_type": "code",
   "execution_count": 5,
   "id": "52dbba98",
   "metadata": {},
   "outputs": [
    {
     "data": {
      "text/plain": [
       "(2671, 10)"
      ]
     },
     "execution_count": 5,
     "metadata": {},
     "output_type": "execute_result"
    }
   ],
   "source": [
    "df.shape"
   ]
  },
  {
   "cell_type": "code",
   "execution_count": 6,
   "id": "e5a4013e",
   "metadata": {},
   "outputs": [
    {
     "data": {
      "text/plain": [
       "Airline            object\n",
       "Date_of_Journey    object\n",
       "Source             object\n",
       "Destination        object\n",
       "Route              object\n",
       "Dep_Time           object\n",
       "Arrival_Time       object\n",
       "Duration           object\n",
       "Total_Stops        object\n",
       "Additional_Info    object\n",
       "dtype: object"
      ]
     },
     "execution_count": 6,
     "metadata": {},
     "output_type": "execute_result"
    }
   ],
   "source": [
    "df.dtypes"
   ]
  },
  {
   "cell_type": "code",
   "execution_count": 7,
   "id": "f189e6e2",
   "metadata": {},
   "outputs": [
    {
     "data": {
      "text/plain": [
       "array(['No info', 'In-flight meal not included',\n",
       "       'No check-in baggage included', '1 Long layover', 'Business class',\n",
       "       'Change airports'], dtype=object)"
      ]
     },
     "execution_count": 7,
     "metadata": {},
     "output_type": "execute_result"
    }
   ],
   "source": [
    "df.Additional_Info.unique()"
   ]
  },
  {
   "cell_type": "code",
   "execution_count": 8,
   "id": "6ff4589b",
   "metadata": {},
   "outputs": [
    {
     "data": {
      "text/html": [
       "<div>\n",
       "<style scoped>\n",
       "    .dataframe tbody tr th:only-of-type {\n",
       "        vertical-align: middle;\n",
       "    }\n",
       "\n",
       "    .dataframe tbody tr th {\n",
       "        vertical-align: top;\n",
       "    }\n",
       "\n",
       "    .dataframe thead th {\n",
       "        text-align: right;\n",
       "    }\n",
       "</style>\n",
       "<table border=\"1\" class=\"dataframe\">\n",
       "  <thead>\n",
       "    <tr style=\"text-align: right;\">\n",
       "      <th></th>\n",
       "      <th>Airline</th>\n",
       "      <th>Date_of_Journey</th>\n",
       "      <th>Source</th>\n",
       "      <th>Destination</th>\n",
       "      <th>Route</th>\n",
       "      <th>Dep_Time</th>\n",
       "      <th>Arrival_Time</th>\n",
       "      <th>Duration</th>\n",
       "      <th>Total_Stops</th>\n",
       "      <th>Additional_Info</th>\n",
       "    </tr>\n",
       "  </thead>\n",
       "  <tbody>\n",
       "  </tbody>\n",
       "</table>\n",
       "</div>"
      ],
      "text/plain": [
       "Empty DataFrame\n",
       "Columns: [Airline, Date_of_Journey, Source, Destination, Route, Dep_Time, Arrival_Time, Duration, Total_Stops, Additional_Info]\n",
       "Index: []"
      ]
     },
     "execution_count": 8,
     "metadata": {},
     "output_type": "execute_result"
    }
   ],
   "source": [
    "df.loc[df['Additional_Info']==\" \"]"
   ]
  },
  {
   "cell_type": "code",
   "execution_count": 9,
   "id": "b2cb019b",
   "metadata": {},
   "outputs": [],
   "source": [
    "df[\"Additional_Info\"]=df[\"Additional_Info\"].replace(\" \",np.nan)"
   ]
  },
  {
   "cell_type": "code",
   "execution_count": 10,
   "id": "fd0d56e9",
   "metadata": {},
   "outputs": [
    {
     "data": {
      "text/plain": [
       "Airline            0\n",
       "Date_of_Journey    0\n",
       "Source             0\n",
       "Destination        0\n",
       "Route              0\n",
       "Dep_Time           0\n",
       "Arrival_Time       0\n",
       "Duration           0\n",
       "Total_Stops        0\n",
       "Additional_Info    0\n",
       "dtype: int64"
      ]
     },
     "execution_count": 10,
     "metadata": {},
     "output_type": "execute_result"
    }
   ],
   "source": [
    "df.isnull().sum()"
   ]
  },
  {
   "cell_type": "markdown",
   "id": "1a894dab",
   "metadata": {},
   "source": [
    "Here Dataset contains sum values will be zeros"
   ]
  },
  {
   "cell_type": "code",
   "execution_count": 11,
   "id": "d4f313ed",
   "metadata": {},
   "outputs": [
    {
     "data": {
      "text/plain": [
       "Airline            object\n",
       "Date_of_Journey    object\n",
       "Source             object\n",
       "Destination        object\n",
       "Route              object\n",
       "Dep_Time           object\n",
       "Arrival_Time       object\n",
       "Duration           object\n",
       "Total_Stops        object\n",
       "Additional_Info    object\n",
       "dtype: object"
      ]
     },
     "execution_count": 11,
     "metadata": {},
     "output_type": "execute_result"
    }
   ],
   "source": [
    "df.dtypes"
   ]
  },
  {
   "cell_type": "markdown",
   "id": "5c0868ce",
   "metadata": {},
   "source": [
    "# Making DataFrame for the Nominal Data"
   ]
  },
  {
   "cell_type": "code",
   "execution_count": 14,
   "id": "18df2600",
   "metadata": {},
   "outputs": [
    {
     "data": {
      "text/plain": [
       "Index(['Airline', 'Date_of_Journey', 'Source', 'Destination', 'Route',\n",
       "       'Dep_Time', 'Arrival_Time', 'Duration', 'Total_Stops'],\n",
       "      dtype='object')"
      ]
     },
     "execution_count": 14,
     "metadata": {},
     "output_type": "execute_result"
    }
   ],
   "source": [
    "df_visualization_nominal=df[[\"Airline\",\"Date_of_Journey\",\"Source\",\"Destination\",\"Route\",\"Dep_Time\",\"Arrival_Time\",\"Duration\",\"Total_Stops\"]].copy()\n",
    "df_visualization_nominal.columns"
   ]
  },
  {
   "cell_type": "markdown",
   "id": "644f6df7",
   "metadata": {},
   "source": [
    "Dataset contains visualization of nominal 9 columns"
   ]
  },
  {
   "cell_type": "markdown",
   "id": "7ddc2151",
   "metadata": {},
   "source": [
    "# Visualization of the Data"
   ]
  },
  {
   "cell_type": "code",
   "execution_count": 15,
   "id": "ad51cc37",
   "metadata": {},
   "outputs": [
    {
     "name": "stdout",
     "output_type": "stream",
     "text": [
      "Jet Airways                          897\n",
      "IndiGo                               511\n",
      "Air India                            440\n",
      "Multiple carriers                    347\n",
      "SpiceJet                             208\n",
      "Vistara                              129\n",
      "Air Asia                              86\n",
      "GoAir                                 46\n",
      "Multiple carriers Premium economy      3\n",
      "Vistara Premium economy                2\n",
      "Jet Airways Business                   2\n",
      "Name: Airline, dtype: int64\n"
     ]
    },
    {
     "data": {
      "image/png": "[encoded data removed]",
      "text/plain": [
       "<Figure size 432x288 with 1 Axes>"
      ]
     },
     "metadata": {
      "needs_background": "light"
     },
     "output_type": "display_data"
    }
   ],
   "source": [
    "ax = sns.countplot(x=\"Airline\",data=df_visualization_nominal)\n",
    "print(df_visualization_nominal[\"Airline\"].value_counts())"
   ]
  },
  {
   "cell_type": "code",
   "execution_count": 16,
   "id": "2c1ae869",
   "metadata": {},
   "outputs": [
    {
     "name": "stdout",
     "output_type": "stream",
     "text": [
      "9/05/2019     144\n",
      "12/06/2019    135\n",
      "18/05/2019    129\n",
      "6/06/2019     127\n",
      "9/06/2019     119\n",
      "21/05/2019    118\n",
      "15/05/2019    106\n",
      "15/06/2019    105\n",
      "6/03/2019      97\n",
      "21/03/2019     93\n",
      "3/06/2019      92\n",
      "1/06/2019      88\n",
      "24/06/2019     85\n",
      "1/04/2019      78\n",
      "24/03/2019     78\n",
      "27/06/2019     75\n",
      "6/05/2019      73\n",
      "24/05/2019     71\n",
      "12/05/2019     68\n",
      "27/03/2019     65\n",
      "27/05/2019     65\n",
      "3/03/2019      62\n",
      "1/05/2019      62\n",
      "9/03/2019      55\n",
      "12/03/2019     43\n",
      "18/03/2019     41\n",
      "01/03/2019     34\n",
      "15/03/2019     33\n",
      "3/04/2019      28\n",
      "06/03/2019     28\n",
      "3/05/2019      27\n",
      "03/03/2019     26\n",
      "9/04/2019      24\n",
      "21/06/2019     24\n",
      "15/04/2019     23\n",
      "18/06/2019     22\n",
      "21/04/2019     22\n",
      "24/04/2019     21\n",
      "09/03/2019     21\n",
      "27/04/2019     15\n",
      "6/04/2019      14\n",
      "1/03/2019      12\n",
      "18/04/2019     12\n",
      "12/04/2019     11\n",
      "Name: Date_of_Journey, dtype: int64\n"
     ]
    },
    {
     "data": {
      "image/png": "[encoded data removed]",
      "text/plain": [
       "<Figure size 432x288 with 1 Axes>"
      ]
     },
     "metadata": {
      "needs_background": "light"
     },
     "output_type": "display_data"
    }
   ],
   "source": [
    "ax = sns.countplot(x=\"Date_of_Journey\",data=df_visualization_nominal)\n",
    "print(df_visualization_nominal[\"Date_of_Journey\"].value_counts())"
   ]
  },
  {
   "cell_type": "code",
   "execution_count": 17,
   "id": "84b89513",
   "metadata": {},
   "outputs": [
    {
     "name": "stdout",
     "output_type": "stream",
     "text": [
      "Delhi       1145\n",
      "Kolkata      710\n",
      "Banglore     555\n",
      "Mumbai       186\n",
      "Chennai       75\n",
      "Name: Source, dtype: int64\n"
     ]
    },
    {
     "data": {
      "image/png": "[encoded data removed]",
      "text/plain": [
       "<Figure size 432x288 with 1 Axes>"
      ]
     },
     "metadata": {
      "needs_background": "light"
     },
     "output_type": "display_data"
    }
   ],
   "source": [
    "ax = sns.countplot(x=\"Source\",data=df_visualization_nominal)\n",
    "print(df_visualization_nominal[\"Source\"].value_counts())"
   ]
  },
  {
   "cell_type": "markdown",
   "id": "6ff4fd73",
   "metadata": {},
   "source": [
    "Here countplot contains the data visualization of nominal columns of Source"
   ]
  },
  {
   "cell_type": "code",
   "execution_count": 18,
   "id": "f6798ace",
   "metadata": {},
   "outputs": [
    {
     "name": "stdout",
     "output_type": "stream",
     "text": [
      "Cochin       1145\n",
      "Banglore      710\n",
      "Delhi         317\n",
      "New Delhi     238\n",
      "Hyderabad     186\n",
      "Kolkata        75\n",
      "Name: Destination, dtype: int64\n"
     ]
    },
    {
     "data": {
      "image/png": "[encoded data removed]",
      "text/plain": [
       "<Figure size 432x288 with 1 Axes>"
      ]
     },
     "metadata": {
      "needs_background": "light"
     },
     "output_type": "display_data"
    }
   ],
   "source": [
    "ax = sns.countplot(x=\"Destination\",data=df_visualization_nominal)\n",
    "print(df_visualization_nominal[\"Destination\"].value_counts())"
   ]
  },
  {
   "cell_type": "markdown",
   "id": "856024bf",
   "metadata": {},
   "source": [
    "Here countplot contains the data visualization of nominal columns of Destination"
   ]
  },
  {
   "cell_type": "code",
   "execution_count": 19,
   "id": "54ee49cd",
   "metadata": {},
   "outputs": [
    {
     "name": "stdout",
     "output_type": "stream",
     "text": [
      "DEL → BOM → COK          624\n",
      "BLR → DEL                389\n",
      "CCU → BOM → BLR          253\n",
      "CCU → BLR                172\n",
      "BOM → HYD                164\n",
      "                        ... \n",
      "BLR → VGA → DEL            1\n",
      "BOM → GOI → HYD            1\n",
      "BOM → AMD → ISK → HYD      1\n",
      "BOM → GOI → PNQ → HYD      1\n",
      "CCU → AMD → BLR            1\n",
      "Name: Route, Length: 100, dtype: int64\n"
     ]
    },
    {
     "data": {
      "image/png": "[encoded data removed]",
      "text/plain": [
       "<Figure size 432x288 with 1 Axes>"
      ]
     },
     "metadata": {
      "needs_background": "light"
     },
     "output_type": "display_data"
    }
   ],
   "source": [
    "ax = sns.countplot(x=\"Route\",data=df_visualization_nominal)\n",
    "print(df_visualization_nominal[\"Route\"].value_counts())"
   ]
  },
  {
   "cell_type": "markdown",
   "id": "b16b6f02",
   "metadata": {},
   "source": [
    "Here countplot contains the data visualization of nominal columns of Route"
   ]
  },
  {
   "cell_type": "code",
   "execution_count": 20,
   "id": "b24592d3",
   "metadata": {},
   "outputs": [
    {
     "name": "stdout",
     "output_type": "stream",
     "text": [
      "10:00    62\n",
      "18:55    55\n",
      "20:00    53\n",
      "14:05    51\n",
      "17:00    48\n",
      "         ..\n",
      "18:35     1\n",
      "02:30     1\n",
      "15:35     1\n",
      "00:25     1\n",
      "10:25     1\n",
      "Name: Dep_Time, Length: 199, dtype: int64\n"
     ]
    },
    {
     "data": {
      "image/png": "[encoded data removed]",
      "text/plain": [
       "<Figure size 432x288 with 1 Axes>"
      ]
     },
     "metadata": {
      "needs_background": "light"
     },
     "output_type": "display_data"
    }
   ],
   "source": [
    "ax = sns.countplot(x=\"Dep_Time\",data=df_visualization_nominal)\n",
    "print(df_visualization_nominal[\"Dep_Time\"].value_counts())"
   ]
  },
  {
   "cell_type": "markdown",
   "id": "f0b95280",
   "metadata": {},
   "source": [
    "Here countplot contains the data visualization of nominal columns of Dep_Time"
   ]
  },
  {
   "cell_type": "code",
   "execution_count": 21,
   "id": "e84e0ea9",
   "metadata": {},
   "outputs": [
    {
     "name": "stdout",
     "output_type": "stream",
     "text": [
      "19:00           113\n",
      "21:00           106\n",
      "19:15           101\n",
      "12:35            37\n",
      "16:10            31\n",
      "               ... \n",
      "10:45 07 Jun      1\n",
      "10:00 10 Jun      1\n",
      "08:15 04 Mar      1\n",
      "00:15 22 Jun      1\n",
      "09:25 02 Mar      1\n",
      "Name: Arrival_Time, Length: 704, dtype: int64\n"
     ]
    },
    {
     "data": {
      "image/png": "[encoded data removed]",
      "text/plain": [
       "<Figure size 432x288 with 1 Axes>"
      ]
     },
     "metadata": {
      "needs_background": "light"
     },
     "output_type": "display_data"
    }
   ],
   "source": [
    "ax = sns.countplot(x=\"Arrival_Time\",data=df_visualization_nominal)\n",
    "print(df_visualization_nominal[\"Arrival_Time\"].value_counts())"
   ]
  },
  {
   "cell_type": "markdown",
   "id": "ac82af38",
   "metadata": {},
   "source": [
    "Here countplot contains the data visualization of nominal columns of Arrival_Time"
   ]
  },
  {
   "cell_type": "code",
   "execution_count": 22,
   "id": "20db688f",
   "metadata": {},
   "outputs": [
    {
     "name": "stdout",
     "output_type": "stream",
     "text": [
      "2h 50m     122\n",
      "1h 30m     107\n",
      "2h 45m      95\n",
      "2h 55m      81\n",
      "3h          72\n",
      "          ... \n",
      "39h 5m       1\n",
      "24h 15m      1\n",
      "19h 45m      1\n",
      "3h 45m       1\n",
      "27h 50m      1\n",
      "Name: Duration, Length: 320, dtype: int64\n"
     ]
    },
    {
     "data": {
      "image/png": "[encoded data removed]",
      "text/plain": [
       "<Figure size 432x288 with 1 Axes>"
      ]
     },
     "metadata": {
      "needs_background": "light"
     },
     "output_type": "display_data"
    }
   ],
   "source": [
    "ax = sns.countplot(x=\"Duration\",data=df_visualization_nominal)\n",
    "print(df_visualization_nominal[\"Duration\"].value_counts())"
   ]
  },
  {
   "cell_type": "markdown",
   "id": "418173a8",
   "metadata": {},
   "source": [
    "Here countplot contains the data visualization of nominal columns of Duration"
   ]
  },
  {
   "cell_type": "code",
   "execution_count": 23,
   "id": "385c2a4a",
   "metadata": {},
   "outputs": [
    {
     "name": "stdout",
     "output_type": "stream",
     "text": [
      "1 stop      1431\n",
      "non-stop     849\n",
      "2 stops      379\n",
      "3 stops       11\n",
      "4 stops        1\n",
      "Name: Total_Stops, dtype: int64\n"
     ]
    },
    {
     "data": {
      "image/png": "[encoded data removed]",
      "text/plain": [
       "<Figure size 432x288 with 1 Axes>"
      ]
     },
     "metadata": {
      "needs_background": "light"
     },
     "output_type": "display_data"
    }
   ],
   "source": [
    "ax = sns.countplot(x=\"Total_Stops\",data=df_visualization_nominal)\n",
    "print(df_visualization_nominal[\"Total_Stops\"].value_counts())"
   ]
  },
  {
   "cell_type": "markdown",
   "id": "2fe48c1d",
   "metadata": {},
   "source": [
    "Here countplot contains the data visualization of nominal columns of Total_Stops"
   ]
  },
  {
   "cell_type": "markdown",
   "id": "486085c8",
   "metadata": {},
   "source": [
    "# Making dataframe of the ordinal data"
   ]
  },
  {
   "cell_type": "code",
   "execution_count": 24,
   "id": "58283c7d",
   "metadata": {},
   "outputs": [],
   "source": [
    "df_visualization_ordinal=df[[\"Airline\",\"Source\"]].copy()"
   ]
  },
  {
   "cell_type": "code",
   "execution_count": 25,
   "id": "8f1f4a84",
   "metadata": {},
   "outputs": [
    {
     "data": {
      "text/plain": [
       "<seaborn.axisgrid.FacetGrid at 0x26abce85610>"
      ]
     },
     "execution_count": 25,
     "metadata": {},
     "output_type": "execute_result"
    },
    {
     "data": {
      "image/png": "[encoded data removed]",
      "text/plain": [
       "<Figure size 360x360 with 1 Axes>"
      ]
     },
     "metadata": {
      "needs_background": "light"
     },
     "output_type": "display_data"
    }
   ],
   "source": [
    "sns.catplot(x=\"Airline\",y=\"Source\",data=df)"
   ]
  },
  {
   "cell_type": "markdown",
   "id": "22837f1a",
   "metadata": {},
   "source": [
    "Here catplot contains the data visualization of ordinal data of Airline and Source,here x=Airline and y=Source"
   ]
  },
  {
   "cell_type": "code",
   "execution_count": 26,
   "id": "60e9794e",
   "metadata": {},
   "outputs": [
    {
     "data": {
      "text/plain": [
       "<seaborn.axisgrid.FacetGrid at 0x26aba6a3220>"
      ]
     },
     "execution_count": 26,
     "metadata": {},
     "output_type": "execute_result"
    },
    {
     "data": {
      "image/png": "[encoded data removed]",
      "text/plain": [
       "<Figure size 360x360 with 1 Axes>"
      ]
     },
     "metadata": {
      "needs_background": "light"
     },
     "output_type": "display_data"
    }
   ],
   "source": [
    "sns.catplot(x=\"Date_of_Journey\",y=\"Source\",data=df)"
   ]
  },
  {
   "cell_type": "markdown",
   "id": "84e7a39b",
   "metadata": {},
   "source": [
    "Here catplot contains the data visualization of ordinal data of Airline and Source,here x=Data_of_journey and y=Source"
   ]
  },
  {
   "cell_type": "code",
   "execution_count": 27,
   "id": "b0c94dc8",
   "metadata": {},
   "outputs": [
    {
     "data": {
      "text/plain": [
       "<seaborn.axisgrid.FacetGrid at 0x26abaaad310>"
      ]
     },
     "execution_count": 27,
     "metadata": {},
     "output_type": "execute_result"
    },
    {
     "data": {
      "image/png": "[encoded data removed]",
      "text/plain": [
       "<Figure size 360x360 with 1 Axes>"
      ]
     },
     "metadata": {
      "needs_background": "light"
     },
     "output_type": "display_data"
    }
   ],
   "source": [
    "sns.catplot(x=\"Destination\",y=\"Source\",data=df)"
   ]
  },
  {
   "cell_type": "markdown",
   "id": "c91323e1",
   "metadata": {},
   "source": [
    "Here catplot contains the data visualization of ordinal data of Airline and Source,here x=Destination and y=Source\n",
    "\n"
   ]
  },
  {
   "cell_type": "code",
   "execution_count": 28,
   "id": "8cd2eee8",
   "metadata": {},
   "outputs": [
    {
     "data": {
      "text/plain": [
       "<seaborn.axisgrid.FacetGrid at 0x26abaa9f610>"
      ]
     },
     "execution_count": 28,
     "metadata": {},
     "output_type": "execute_result"
    },
    {
     "data": {
      "image/png": "[encoded data removed]",
      "text/plain": [
       "<Figure size 360x360 with 1 Axes>"
      ]
     },
     "metadata": {
      "needs_background": "light"
     },
     "output_type": "display_data"
    }
   ],
   "source": [
    "sns.catplot(x=\"Route\",y=\"Source\",data=df)"
   ]
  },
  {
   "cell_type": "markdown",
   "id": "41061532",
   "metadata": {},
   "source": [
    "Here catplot contains the data visualization of ordinal data of Airline and Source,here x=Route and y=Source"
   ]
  },
  {
   "cell_type": "code",
   "execution_count": 29,
   "id": "c02f313c",
   "metadata": {},
   "outputs": [
    {
     "data": {
      "text/plain": [
       "<seaborn.axisgrid.FacetGrid at 0x26abaa910d0>"
      ]
     },
     "execution_count": 29,
     "metadata": {},
     "output_type": "execute_result"
    },
    {
     "data": {
      "image/png": "[encoded data removed]",
      "text/plain": [
       "<Figure size 360x360 with 1 Axes>"
      ]
     },
     "metadata": {
      "needs_background": "light"
     },
     "output_type": "display_data"
    }
   ],
   "source": [
    "sns.catplot(x=\"Dep_Time\",y=\"Source\",data=df)"
   ]
  },
  {
   "cell_type": "markdown",
   "id": "ca738414",
   "metadata": {},
   "source": [
    "\n",
    "Here catplot contains the data visualization of ordinal data of Airline and Source,here x=Dep_Time and y=Source"
   ]
  },
  {
   "cell_type": "code",
   "execution_count": 30,
   "id": "296f8714",
   "metadata": {},
   "outputs": [
    {
     "data": {
      "text/plain": [
       "<seaborn.axisgrid.FacetGrid at 0x26abab64430>"
      ]
     },
     "execution_count": 30,
     "metadata": {},
     "output_type": "execute_result"
    },
    {
     "data": {
      "image/png": "[encoded data removed]",
      "text/plain": [
       "<Figure size 360x360 with 1 Axes>"
      ]
     },
     "metadata": {
      "needs_background": "light"
     },
     "output_type": "display_data"
    }
   ],
   "source": [
    "sns.catplot(x=\"Arrival_Time\",y=\"Source\",data=df)"
   ]
  },
  {
   "cell_type": "markdown",
   "id": "d0146a24",
   "metadata": {},
   "source": [
    "Here catplot contains the data visualization of ordinal data of Airline and Source,here x=Airrival_Time and y=Source"
   ]
  },
  {
   "cell_type": "code",
   "execution_count": 31,
   "id": "664c9216",
   "metadata": {},
   "outputs": [
    {
     "data": {
      "text/plain": [
       "<seaborn.axisgrid.FacetGrid at 0x26abd3193d0>"
      ]
     },
     "execution_count": 31,
     "metadata": {},
     "output_type": "execute_result"
    },
    {
     "data": {
      "image/png": "[encoded data removed]",
      "text/plain": [
       "<Figure size 360x360 with 1 Axes>"
      ]
     },
     "metadata": {
      "needs_background": "light"
     },
     "output_type": "display_data"
    }
   ],
   "source": [
    "sns.catplot(x=\"Duration\",y=\"Source\",data=df)"
   ]
  },
  {
   "cell_type": "markdown",
   "id": "a521645c",
   "metadata": {},
   "source": [
    "Here catplot contains the data visualization of ordinal data of Airline and Source,here x=Duration and y=Source\n",
    "\n"
   ]
  },
  {
   "cell_type": "code",
   "execution_count": 32,
   "id": "c45ab63a",
   "metadata": {},
   "outputs": [
    {
     "data": {
      "text/plain": [
       "<seaborn.axisgrid.FacetGrid at 0x26abd2d3610>"
      ]
     },
     "execution_count": 32,
     "metadata": {},
     "output_type": "execute_result"
    },
    {
     "data": {
      "image/png": "[encoded data removed]",
      "text/plain": [
       "<Figure size 360x360 with 1 Axes>"
      ]
     },
     "metadata": {
      "needs_background": "light"
     },
     "output_type": "display_data"
    }
   ],
   "source": [
    "sns.catplot(x=\"Total_Stops\",y=\"Source\",data=df)"
   ]
  },
  {
   "cell_type": "markdown",
   "id": "519922dc",
   "metadata": {},
   "source": [
    "Here catplot contains the data visualization of ordinal data of Airline and Source,here x=Total_Stops and y=Source"
   ]
  },
  {
   "cell_type": "markdown",
   "id": "eb2838e4",
   "metadata": {},
   "source": [
    "# checking the distribution of the continuous value of the object type columns\n"
   ]
  },
  {
   "cell_type": "code",
   "execution_count": 33,
   "id": "44ee2fd2",
   "metadata": {},
   "outputs": [],
   "source": [
    "df_visualization_continuous=df[[\"Total_Stops\",\"Additional_Info\",\"Duration\",\"Arrival_Time\",\"Airline\",\"Source\"]].copy()"
   ]
  },
  {
   "cell_type": "code",
   "execution_count": 34,
   "id": "37c7aa20",
   "metadata": {},
   "outputs": [
    {
     "data": {
      "text/plain": [
       "<seaborn.axisgrid.FacetGrid at 0x26abe93ef10>"
      ]
     },
     "execution_count": 34,
     "metadata": {},
     "output_type": "execute_result"
    },
    {
     "data": {
      "image/png": "[encoded data removed]",
      "text/plain": [
       "<Figure size 360x360 with 1 Axes>"
      ]
     },
     "metadata": {
      "needs_background": "light"
     },
     "output_type": "display_data"
    }
   ],
   "source": [
    "sns.displot(df_visualization_continuous['Additional_Info'], kde=True)"
   ]
  },
  {
   "cell_type": "markdown",
   "id": "d7b8d092",
   "metadata": {},
   "source": [
    "Data is not normally distributed in this columns,because of viscous problem.\n",
    "\n"
   ]
  },
  {
   "cell_type": "code",
   "execution_count": 35,
   "id": "05ddd15f",
   "metadata": {},
   "outputs": [
    {
     "data": {
      "text/plain": [
       "<seaborn.axisgrid.FacetGrid at 0x26abe963e20>"
      ]
     },
     "execution_count": 35,
     "metadata": {},
     "output_type": "execute_result"
    },
    {
     "data": {
      "image/png": "[encoded data removed]",
      "text/plain": [
       "<Figure size 360x360 with 1 Axes>"
      ]
     },
     "metadata": {
      "needs_background": "light"
     },
     "output_type": "display_data"
    }
   ],
   "source": [
    "sns.displot(df_visualization_continuous['Total_Stops'], kde=True)"
   ]
  },
  {
   "cell_type": "markdown",
   "id": "2ccee388",
   "metadata": {},
   "source": [
    "Data is not normally distributed in this columns,because of viscous problem.\n",
    "\n"
   ]
  },
  {
   "cell_type": "code",
   "execution_count": 36,
   "id": "a6f426ff",
   "metadata": {},
   "outputs": [
    {
     "data": {
      "text/plain": [
       "<seaborn.axisgrid.FacetGrid at 0x26abe96e5b0>"
      ]
     },
     "execution_count": 36,
     "metadata": {},
     "output_type": "execute_result"
    },
    {
     "data": {
      "image/png": "[encoded data removed]",
      "text/plain": [
       "<Figure size 360x360 with 1 Axes>"
      ]
     },
     "metadata": {
      "needs_background": "light"
     },
     "output_type": "display_data"
    }
   ],
   "source": [
    "sns.displot(df_visualization_continuous['Duration'], kde=True)\n"
   ]
  },
  {
   "cell_type": "markdown",
   "id": "5628d9fb",
   "metadata": {},
   "source": [
    "Data is not normally distributed in this columns,because of viscous problem."
   ]
  },
  {
   "cell_type": "code",
   "execution_count": 37,
   "id": "980afd21",
   "metadata": {},
   "outputs": [
    {
     "data": {
      "text/plain": [
       "<seaborn.axisgrid.FacetGrid at 0x26abeae7d30>"
      ]
     },
     "execution_count": 37,
     "metadata": {},
     "output_type": "execute_result"
    },
    {
     "data": {
      "image/png": "[encoded data removed]",
      "text/plain": [
       "<Figure size 360x360 with 1 Axes>"
      ]
     },
     "metadata": {
      "needs_background": "light"
     },
     "output_type": "display_data"
    }
   ],
   "source": [
    "sns.displot(df_visualization_continuous['Arrival_Time'], kde=True)"
   ]
  },
  {
   "cell_type": "code",
   "execution_count": 38,
   "id": "31aeb5a4",
   "metadata": {},
   "outputs": [
    {
     "data": {
      "text/plain": [
       "<seaborn.axisgrid.FacetGrid at 0x26abf1904c0>"
      ]
     },
     "execution_count": 38,
     "metadata": {},
     "output_type": "execute_result"
    },
    {
     "data": {
      "image/png": "[encoded data removed]",
      "text/plain": [
       "<Figure size 360x360 with 1 Axes>"
      ]
     },
     "metadata": {
      "needs_background": "light"
     },
     "output_type": "display_data"
    }
   ],
   "source": [
    "sns.displot(df_visualization_continuous['Airline'], kde=True)\n"
   ]
  },
  {
   "cell_type": "code",
   "execution_count": 39,
   "id": "366410a5",
   "metadata": {},
   "outputs": [
    {
     "data": {
      "text/plain": [
       "<seaborn.axisgrid.FacetGrid at 0x26abf08deb0>"
      ]
     },
     "execution_count": 39,
     "metadata": {},
     "output_type": "execute_result"
    },
    {
     "data": {
      "image/png": "[encoded data removed]",
      "text/plain": [
       "<Figure size 360x360 with 1 Axes>"
      ]
     },
     "metadata": {
      "needs_background": "light"
     },
     "output_type": "display_data"
    }
   ],
   "source": [
    "sns.displot(df_visualization_continuous['Source'], kde=True)"
   ]
  },
  {
   "cell_type": "markdown",
   "id": "d980b824",
   "metadata": {},
   "source": [
    "# Encoding Method"
   ]
  },
  {
   "cell_type": "code",
   "execution_count": 40,
   "id": "649f4bd7",
   "metadata": {},
   "outputs": [],
   "source": [
    "from sklearn.preprocessing import LabelEncoder\n",
    "LE=LabelEncoder()\n",
    "df['Additional_Info']=LE.fit_transform(df['Additional_Info'])"
   ]
  },
  {
   "cell_type": "code",
   "execution_count": 41,
   "id": "3f280e46",
   "metadata": {},
   "outputs": [
    {
     "data": {
      "text/plain": [
       "array([5, 3, 4, 0, 1, 2])"
      ]
     },
     "execution_count": 41,
     "metadata": {},
     "output_type": "execute_result"
    }
   ],
   "source": [
    "df.Additional_Info.unique()"
   ]
  },
  {
   "cell_type": "code",
   "execution_count": 42,
   "id": "c94e816c",
   "metadata": {},
   "outputs": [
    {
     "data": {
      "text/html": [
       "<div>\n",
       "<style scoped>\n",
       "    .dataframe tbody tr th:only-of-type {\n",
       "        vertical-align: middle;\n",
       "    }\n",
       "\n",
       "    .dataframe tbody tr th {\n",
       "        vertical-align: top;\n",
       "    }\n",
       "\n",
       "    .dataframe thead th {\n",
       "        text-align: right;\n",
       "    }\n",
       "</style>\n",
       "<table border=\"1\" class=\"dataframe\">\n",
       "  <thead>\n",
       "    <tr style=\"text-align: right;\">\n",
       "      <th></th>\n",
       "      <th>Airline</th>\n",
       "      <th>Date_of_Journey</th>\n",
       "      <th>Source</th>\n",
       "      <th>Destination</th>\n",
       "      <th>Route</th>\n",
       "      <th>Dep_Time</th>\n",
       "      <th>Arrival_Time</th>\n",
       "      <th>Duration</th>\n",
       "      <th>Total_Stops</th>\n",
       "      <th>Additional_Info</th>\n",
       "    </tr>\n",
       "  </thead>\n",
       "  <tbody>\n",
       "    <tr>\n",
       "      <th>0</th>\n",
       "      <td>Jet Airways</td>\n",
       "      <td>6/06/2019</td>\n",
       "      <td>Delhi</td>\n",
       "      <td>Cochin</td>\n",
       "      <td>DEL → BOM → COK</td>\n",
       "      <td>17:30</td>\n",
       "      <td>04:25 07 Jun</td>\n",
       "      <td>10h 55m</td>\n",
       "      <td>1 stop</td>\n",
       "      <td>5</td>\n",
       "    </tr>\n",
       "    <tr>\n",
       "      <th>1</th>\n",
       "      <td>IndiGo</td>\n",
       "      <td>12/05/2019</td>\n",
       "      <td>Kolkata</td>\n",
       "      <td>Banglore</td>\n",
       "      <td>CCU → MAA → BLR</td>\n",
       "      <td>06:20</td>\n",
       "      <td>10:20</td>\n",
       "      <td>4h</td>\n",
       "      <td>1 stop</td>\n",
       "      <td>5</td>\n",
       "    </tr>\n",
       "    <tr>\n",
       "      <th>2</th>\n",
       "      <td>Jet Airways</td>\n",
       "      <td>21/05/2019</td>\n",
       "      <td>Delhi</td>\n",
       "      <td>Cochin</td>\n",
       "      <td>DEL → BOM → COK</td>\n",
       "      <td>19:15</td>\n",
       "      <td>19:00 22 May</td>\n",
       "      <td>23h 45m</td>\n",
       "      <td>1 stop</td>\n",
       "      <td>3</td>\n",
       "    </tr>\n",
       "    <tr>\n",
       "      <th>3</th>\n",
       "      <td>Multiple carriers</td>\n",
       "      <td>21/05/2019</td>\n",
       "      <td>Delhi</td>\n",
       "      <td>Cochin</td>\n",
       "      <td>DEL → BOM → COK</td>\n",
       "      <td>08:00</td>\n",
       "      <td>21:00</td>\n",
       "      <td>13h</td>\n",
       "      <td>1 stop</td>\n",
       "      <td>5</td>\n",
       "    </tr>\n",
       "    <tr>\n",
       "      <th>4</th>\n",
       "      <td>Air Asia</td>\n",
       "      <td>24/06/2019</td>\n",
       "      <td>Banglore</td>\n",
       "      <td>Delhi</td>\n",
       "      <td>BLR → DEL</td>\n",
       "      <td>23:55</td>\n",
       "      <td>02:45 25 Jun</td>\n",
       "      <td>2h 50m</td>\n",
       "      <td>non-stop</td>\n",
       "      <td>5</td>\n",
       "    </tr>\n",
       "  </tbody>\n",
       "</table>\n",
       "</div>"
      ],
      "text/plain": [
       "             Airline Date_of_Journey    Source Destination            Route  \\\n",
       "0        Jet Airways       6/06/2019     Delhi      Cochin  DEL → BOM → COK   \n",
       "1             IndiGo      12/05/2019   Kolkata    Banglore  CCU → MAA → BLR   \n",
       "2        Jet Airways      21/05/2019     Delhi      Cochin  DEL → BOM → COK   \n",
       "3  Multiple carriers      21/05/2019     Delhi      Cochin  DEL → BOM → COK   \n",
       "4           Air Asia      24/06/2019  Banglore       Delhi        BLR → DEL   \n",
       "\n",
       "  Dep_Time  Arrival_Time Duration Total_Stops  Additional_Info  \n",
       "0    17:30  04:25 07 Jun  10h 55m      1 stop                5  \n",
       "1    06:20         10:20       4h      1 stop                5  \n",
       "2    19:15  19:00 22 May  23h 45m      1 stop                3  \n",
       "3    08:00         21:00      13h      1 stop                5  \n",
       "4    23:55  02:45 25 Jun   2h 50m    non-stop                5  "
      ]
     },
     "execution_count": 42,
     "metadata": {},
     "output_type": "execute_result"
    }
   ],
   "source": [
    "df.head()"
   ]
  },
  {
   "cell_type": "code",
   "execution_count": 43,
   "id": "7a470524",
   "metadata": {},
   "outputs": [],
   "source": [
    "from sklearn.preprocessing import LabelEncoder\n",
    "LE=LabelEncoder()\n",
    "df['Airline']=LE.fit_transform(df['Airline'])"
   ]
  },
  {
   "cell_type": "code",
   "execution_count": 44,
   "id": "f1bd4e52",
   "metadata": {},
   "outputs": [
    {
     "data": {
      "text/plain": [
       "array([ 4,  3,  6,  0,  1,  9,  8, 10,  2,  7,  5])"
      ]
     },
     "execution_count": 44,
     "metadata": {},
     "output_type": "execute_result"
    }
   ],
   "source": [
    "df.Airline.unique()"
   ]
  },
  {
   "cell_type": "code",
   "execution_count": 45,
   "id": "bcf3f4fb",
   "metadata": {},
   "outputs": [
    {
     "data": {
      "text/html": [
       "<div>\n",
       "<style scoped>\n",
       "    .dataframe tbody tr th:only-of-type {\n",
       "        vertical-align: middle;\n",
       "    }\n",
       "\n",
       "    .dataframe tbody tr th {\n",
       "        vertical-align: top;\n",
       "    }\n",
       "\n",
       "    .dataframe thead th {\n",
       "        text-align: right;\n",
       "    }\n",
       "</style>\n",
       "<table border=\"1\" class=\"dataframe\">\n",
       "  <thead>\n",
       "    <tr style=\"text-align: right;\">\n",
       "      <th></th>\n",
       "      <th>Airline</th>\n",
       "      <th>Date_of_Journey</th>\n",
       "      <th>Source</th>\n",
       "      <th>Destination</th>\n",
       "      <th>Route</th>\n",
       "      <th>Dep_Time</th>\n",
       "      <th>Arrival_Time</th>\n",
       "      <th>Duration</th>\n",
       "      <th>Total_Stops</th>\n",
       "      <th>Additional_Info</th>\n",
       "    </tr>\n",
       "  </thead>\n",
       "  <tbody>\n",
       "    <tr>\n",
       "      <th>0</th>\n",
       "      <td>4</td>\n",
       "      <td>6/06/2019</td>\n",
       "      <td>Delhi</td>\n",
       "      <td>Cochin</td>\n",
       "      <td>DEL → BOM → COK</td>\n",
       "      <td>17:30</td>\n",
       "      <td>04:25 07 Jun</td>\n",
       "      <td>10h 55m</td>\n",
       "      <td>1 stop</td>\n",
       "      <td>5</td>\n",
       "    </tr>\n",
       "    <tr>\n",
       "      <th>1</th>\n",
       "      <td>3</td>\n",
       "      <td>12/05/2019</td>\n",
       "      <td>Kolkata</td>\n",
       "      <td>Banglore</td>\n",
       "      <td>CCU → MAA → BLR</td>\n",
       "      <td>06:20</td>\n",
       "      <td>10:20</td>\n",
       "      <td>4h</td>\n",
       "      <td>1 stop</td>\n",
       "      <td>5</td>\n",
       "    </tr>\n",
       "    <tr>\n",
       "      <th>2</th>\n",
       "      <td>4</td>\n",
       "      <td>21/05/2019</td>\n",
       "      <td>Delhi</td>\n",
       "      <td>Cochin</td>\n",
       "      <td>DEL → BOM → COK</td>\n",
       "      <td>19:15</td>\n",
       "      <td>19:00 22 May</td>\n",
       "      <td>23h 45m</td>\n",
       "      <td>1 stop</td>\n",
       "      <td>3</td>\n",
       "    </tr>\n",
       "    <tr>\n",
       "      <th>3</th>\n",
       "      <td>6</td>\n",
       "      <td>21/05/2019</td>\n",
       "      <td>Delhi</td>\n",
       "      <td>Cochin</td>\n",
       "      <td>DEL → BOM → COK</td>\n",
       "      <td>08:00</td>\n",
       "      <td>21:00</td>\n",
       "      <td>13h</td>\n",
       "      <td>1 stop</td>\n",
       "      <td>5</td>\n",
       "    </tr>\n",
       "    <tr>\n",
       "      <th>4</th>\n",
       "      <td>0</td>\n",
       "      <td>24/06/2019</td>\n",
       "      <td>Banglore</td>\n",
       "      <td>Delhi</td>\n",
       "      <td>BLR → DEL</td>\n",
       "      <td>23:55</td>\n",
       "      <td>02:45 25 Jun</td>\n",
       "      <td>2h 50m</td>\n",
       "      <td>non-stop</td>\n",
       "      <td>5</td>\n",
       "    </tr>\n",
       "  </tbody>\n",
       "</table>\n",
       "</div>"
      ],
      "text/plain": [
       "   Airline Date_of_Journey    Source Destination            Route Dep_Time  \\\n",
       "0        4       6/06/2019     Delhi      Cochin  DEL → BOM → COK    17:30   \n",
       "1        3      12/05/2019   Kolkata    Banglore  CCU → MAA → BLR    06:20   \n",
       "2        4      21/05/2019     Delhi      Cochin  DEL → BOM → COK    19:15   \n",
       "3        6      21/05/2019     Delhi      Cochin  DEL → BOM → COK    08:00   \n",
       "4        0      24/06/2019  Banglore       Delhi        BLR → DEL    23:55   \n",
       "\n",
       "   Arrival_Time Duration Total_Stops  Additional_Info  \n",
       "0  04:25 07 Jun  10h 55m      1 stop                5  \n",
       "1         10:20       4h      1 stop                5  \n",
       "2  19:00 22 May  23h 45m      1 stop                3  \n",
       "3         21:00      13h      1 stop                5  \n",
       "4  02:45 25 Jun   2h 50m    non-stop                5  "
      ]
     },
     "execution_count": 45,
     "metadata": {},
     "output_type": "execute_result"
    }
   ],
   "source": [
    "df.head()"
   ]
  },
  {
   "cell_type": "code",
   "execution_count": 46,
   "id": "7dfd79f2",
   "metadata": {},
   "outputs": [],
   "source": [
    "from sklearn.preprocessing import LabelEncoder\n",
    "LE=LabelEncoder()\n",
    "df['Date_of_Journey']=LE.fit_transform(df['Date_of_Journey'])"
   ]
  },
  {
   "cell_type": "code",
   "execution_count": 47,
   "id": "62beb883",
   "metadata": {},
   "outputs": [
    {
     "data": {
      "text/plain": [
       "array([39, 10, 22, 27, 11,  8,  6, 12, 18, 20, 15, 14, 35,  2, 24, 36, 42,\n",
       "       16, 37,  7, 32, 28, 43, 34,  5, 19, 13, 38, 40, 33, 31, 23, 21, 17,\n",
       "       41, 26,  0,  3, 30,  1, 29,  4, 25,  9])"
      ]
     },
     "execution_count": 47,
     "metadata": {},
     "output_type": "execute_result"
    }
   ],
   "source": [
    "df.Date_of_Journey.unique()"
   ]
  },
  {
   "cell_type": "code",
   "execution_count": 48,
   "id": "e5821efd",
   "metadata": {},
   "outputs": [
    {
     "data": {
      "text/html": [
       "<div>\n",
       "<style scoped>\n",
       "    .dataframe tbody tr th:only-of-type {\n",
       "        vertical-align: middle;\n",
       "    }\n",
       "\n",
       "    .dataframe tbody tr th {\n",
       "        vertical-align: top;\n",
       "    }\n",
       "\n",
       "    .dataframe thead th {\n",
       "        text-align: right;\n",
       "    }\n",
       "</style>\n",
       "<table border=\"1\" class=\"dataframe\">\n",
       "  <thead>\n",
       "    <tr style=\"text-align: right;\">\n",
       "      <th></th>\n",
       "      <th>Airline</th>\n",
       "      <th>Date_of_Journey</th>\n",
       "      <th>Source</th>\n",
       "      <th>Destination</th>\n",
       "      <th>Route</th>\n",
       "      <th>Dep_Time</th>\n",
       "      <th>Arrival_Time</th>\n",
       "      <th>Duration</th>\n",
       "      <th>Total_Stops</th>\n",
       "      <th>Additional_Info</th>\n",
       "    </tr>\n",
       "  </thead>\n",
       "  <tbody>\n",
       "    <tr>\n",
       "      <th>0</th>\n",
       "      <td>4</td>\n",
       "      <td>39</td>\n",
       "      <td>Delhi</td>\n",
       "      <td>Cochin</td>\n",
       "      <td>DEL → BOM → COK</td>\n",
       "      <td>17:30</td>\n",
       "      <td>04:25 07 Jun</td>\n",
       "      <td>10h 55m</td>\n",
       "      <td>1 stop</td>\n",
       "      <td>5</td>\n",
       "    </tr>\n",
       "    <tr>\n",
       "      <th>1</th>\n",
       "      <td>3</td>\n",
       "      <td>10</td>\n",
       "      <td>Kolkata</td>\n",
       "      <td>Banglore</td>\n",
       "      <td>CCU → MAA → BLR</td>\n",
       "      <td>06:20</td>\n",
       "      <td>10:20</td>\n",
       "      <td>4h</td>\n",
       "      <td>1 stop</td>\n",
       "      <td>5</td>\n",
       "    </tr>\n",
       "    <tr>\n",
       "      <th>2</th>\n",
       "      <td>4</td>\n",
       "      <td>22</td>\n",
       "      <td>Delhi</td>\n",
       "      <td>Cochin</td>\n",
       "      <td>DEL → BOM → COK</td>\n",
       "      <td>19:15</td>\n",
       "      <td>19:00 22 May</td>\n",
       "      <td>23h 45m</td>\n",
       "      <td>1 stop</td>\n",
       "      <td>3</td>\n",
       "    </tr>\n",
       "    <tr>\n",
       "      <th>3</th>\n",
       "      <td>6</td>\n",
       "      <td>22</td>\n",
       "      <td>Delhi</td>\n",
       "      <td>Cochin</td>\n",
       "      <td>DEL → BOM → COK</td>\n",
       "      <td>08:00</td>\n",
       "      <td>21:00</td>\n",
       "      <td>13h</td>\n",
       "      <td>1 stop</td>\n",
       "      <td>5</td>\n",
       "    </tr>\n",
       "    <tr>\n",
       "      <th>4</th>\n",
       "      <td>0</td>\n",
       "      <td>27</td>\n",
       "      <td>Banglore</td>\n",
       "      <td>Delhi</td>\n",
       "      <td>BLR → DEL</td>\n",
       "      <td>23:55</td>\n",
       "      <td>02:45 25 Jun</td>\n",
       "      <td>2h 50m</td>\n",
       "      <td>non-stop</td>\n",
       "      <td>5</td>\n",
       "    </tr>\n",
       "  </tbody>\n",
       "</table>\n",
       "</div>"
      ],
      "text/plain": [
       "   Airline  Date_of_Journey    Source Destination            Route Dep_Time  \\\n",
       "0        4               39     Delhi      Cochin  DEL → BOM → COK    17:30   \n",
       "1        3               10   Kolkata    Banglore  CCU → MAA → BLR    06:20   \n",
       "2        4               22     Delhi      Cochin  DEL → BOM → COK    19:15   \n",
       "3        6               22     Delhi      Cochin  DEL → BOM → COK    08:00   \n",
       "4        0               27  Banglore       Delhi        BLR → DEL    23:55   \n",
       "\n",
       "   Arrival_Time Duration Total_Stops  Additional_Info  \n",
       "0  04:25 07 Jun  10h 55m      1 stop                5  \n",
       "1         10:20       4h      1 stop                5  \n",
       "2  19:00 22 May  23h 45m      1 stop                3  \n",
       "3         21:00      13h      1 stop                5  \n",
       "4  02:45 25 Jun   2h 50m    non-stop                5  "
      ]
     },
     "execution_count": 48,
     "metadata": {},
     "output_type": "execute_result"
    }
   ],
   "source": [
    "df.head()"
   ]
  },
  {
   "cell_type": "code",
   "execution_count": 49,
   "id": "1e404ce1",
   "metadata": {},
   "outputs": [],
   "source": [
    "from sklearn.preprocessing import LabelEncoder\n",
    "LE=LabelEncoder()\n",
    "df['Source']=LE.fit_transform(df['Source'])"
   ]
  },
  {
   "cell_type": "code",
   "execution_count": 50,
   "id": "51dbe162",
   "metadata": {},
   "outputs": [
    {
     "data": {
      "text/plain": [
       "array([2, 3, 0, 4, 1])"
      ]
     },
     "execution_count": 50,
     "metadata": {},
     "output_type": "execute_result"
    }
   ],
   "source": [
    "df.Source.unique()"
   ]
  },
  {
   "cell_type": "code",
   "execution_count": 51,
   "id": "195f885f",
   "metadata": {},
   "outputs": [
    {
     "data": {
      "text/html": [
       "<div>\n",
       "<style scoped>\n",
       "    .dataframe tbody tr th:only-of-type {\n",
       "        vertical-align: middle;\n",
       "    }\n",
       "\n",
       "    .dataframe tbody tr th {\n",
       "        vertical-align: top;\n",
       "    }\n",
       "\n",
       "    .dataframe thead th {\n",
       "        text-align: right;\n",
       "    }\n",
       "</style>\n",
       "<table border=\"1\" class=\"dataframe\">\n",
       "  <thead>\n",
       "    <tr style=\"text-align: right;\">\n",
       "      <th></th>\n",
       "      <th>Airline</th>\n",
       "      <th>Date_of_Journey</th>\n",
       "      <th>Source</th>\n",
       "      <th>Destination</th>\n",
       "      <th>Route</th>\n",
       "      <th>Dep_Time</th>\n",
       "      <th>Arrival_Time</th>\n",
       "      <th>Duration</th>\n",
       "      <th>Total_Stops</th>\n",
       "      <th>Additional_Info</th>\n",
       "    </tr>\n",
       "  </thead>\n",
       "  <tbody>\n",
       "    <tr>\n",
       "      <th>0</th>\n",
       "      <td>4</td>\n",
       "      <td>39</td>\n",
       "      <td>2</td>\n",
       "      <td>Cochin</td>\n",
       "      <td>DEL → BOM → COK</td>\n",
       "      <td>17:30</td>\n",
       "      <td>04:25 07 Jun</td>\n",
       "      <td>10h 55m</td>\n",
       "      <td>1 stop</td>\n",
       "      <td>5</td>\n",
       "    </tr>\n",
       "    <tr>\n",
       "      <th>1</th>\n",
       "      <td>3</td>\n",
       "      <td>10</td>\n",
       "      <td>3</td>\n",
       "      <td>Banglore</td>\n",
       "      <td>CCU → MAA → BLR</td>\n",
       "      <td>06:20</td>\n",
       "      <td>10:20</td>\n",
       "      <td>4h</td>\n",
       "      <td>1 stop</td>\n",
       "      <td>5</td>\n",
       "    </tr>\n",
       "    <tr>\n",
       "      <th>2</th>\n",
       "      <td>4</td>\n",
       "      <td>22</td>\n",
       "      <td>2</td>\n",
       "      <td>Cochin</td>\n",
       "      <td>DEL → BOM → COK</td>\n",
       "      <td>19:15</td>\n",
       "      <td>19:00 22 May</td>\n",
       "      <td>23h 45m</td>\n",
       "      <td>1 stop</td>\n",
       "      <td>3</td>\n",
       "    </tr>\n",
       "    <tr>\n",
       "      <th>3</th>\n",
       "      <td>6</td>\n",
       "      <td>22</td>\n",
       "      <td>2</td>\n",
       "      <td>Cochin</td>\n",
       "      <td>DEL → BOM → COK</td>\n",
       "      <td>08:00</td>\n",
       "      <td>21:00</td>\n",
       "      <td>13h</td>\n",
       "      <td>1 stop</td>\n",
       "      <td>5</td>\n",
       "    </tr>\n",
       "    <tr>\n",
       "      <th>4</th>\n",
       "      <td>0</td>\n",
       "      <td>27</td>\n",
       "      <td>0</td>\n",
       "      <td>Delhi</td>\n",
       "      <td>BLR → DEL</td>\n",
       "      <td>23:55</td>\n",
       "      <td>02:45 25 Jun</td>\n",
       "      <td>2h 50m</td>\n",
       "      <td>non-stop</td>\n",
       "      <td>5</td>\n",
       "    </tr>\n",
       "  </tbody>\n",
       "</table>\n",
       "</div>"
      ],
      "text/plain": [
       "   Airline  Date_of_Journey  Source Destination            Route Dep_Time  \\\n",
       "0        4               39       2      Cochin  DEL → BOM → COK    17:30   \n",
       "1        3               10       3    Banglore  CCU → MAA → BLR    06:20   \n",
       "2        4               22       2      Cochin  DEL → BOM → COK    19:15   \n",
       "3        6               22       2      Cochin  DEL → BOM → COK    08:00   \n",
       "4        0               27       0       Delhi        BLR → DEL    23:55   \n",
       "\n",
       "   Arrival_Time Duration Total_Stops  Additional_Info  \n",
       "0  04:25 07 Jun  10h 55m      1 stop                5  \n",
       "1         10:20       4h      1 stop                5  \n",
       "2  19:00 22 May  23h 45m      1 stop                3  \n",
       "3         21:00      13h      1 stop                5  \n",
       "4  02:45 25 Jun   2h 50m    non-stop                5  "
      ]
     },
     "execution_count": 51,
     "metadata": {},
     "output_type": "execute_result"
    }
   ],
   "source": [
    "df.head()"
   ]
  },
  {
   "cell_type": "code",
   "execution_count": 52,
   "id": "c77e7d6b",
   "metadata": {},
   "outputs": [],
   "source": [
    "from sklearn.preprocessing import LabelEncoder\n",
    "LE=LabelEncoder()\n",
    "df['Destination']=LE.fit_transform(df['Destination'])"
   ]
  },
  {
   "cell_type": "code",
   "execution_count": 53,
   "id": "0849435b",
   "metadata": {},
   "outputs": [
    {
     "data": {
      "text/plain": [
       "array([1, 0, 2, 5, 3, 4])"
      ]
     },
     "execution_count": 53,
     "metadata": {},
     "output_type": "execute_result"
    }
   ],
   "source": [
    "df.Destination.unique()"
   ]
  },
  {
   "cell_type": "code",
   "execution_count": 54,
   "id": "1e57eeb0",
   "metadata": {},
   "outputs": [
    {
     "data": {
      "text/html": [
       "<div>\n",
       "<style scoped>\n",
       "    .dataframe tbody tr th:only-of-type {\n",
       "        vertical-align: middle;\n",
       "    }\n",
       "\n",
       "    .dataframe tbody tr th {\n",
       "        vertical-align: top;\n",
       "    }\n",
       "\n",
       "    .dataframe thead th {\n",
       "        text-align: right;\n",
       "    }\n",
       "</style>\n",
       "<table border=\"1\" class=\"dataframe\">\n",
       "  <thead>\n",
       "    <tr style=\"text-align: right;\">\n",
       "      <th></th>\n",
       "      <th>Airline</th>\n",
       "      <th>Date_of_Journey</th>\n",
       "      <th>Source</th>\n",
       "      <th>Destination</th>\n",
       "      <th>Route</th>\n",
       "      <th>Dep_Time</th>\n",
       "      <th>Arrival_Time</th>\n",
       "      <th>Duration</th>\n",
       "      <th>Total_Stops</th>\n",
       "      <th>Additional_Info</th>\n",
       "    </tr>\n",
       "  </thead>\n",
       "  <tbody>\n",
       "    <tr>\n",
       "      <th>0</th>\n",
       "      <td>4</td>\n",
       "      <td>39</td>\n",
       "      <td>2</td>\n",
       "      <td>1</td>\n",
       "      <td>DEL → BOM → COK</td>\n",
       "      <td>17:30</td>\n",
       "      <td>04:25 07 Jun</td>\n",
       "      <td>10h 55m</td>\n",
       "      <td>1 stop</td>\n",
       "      <td>5</td>\n",
       "    </tr>\n",
       "    <tr>\n",
       "      <th>1</th>\n",
       "      <td>3</td>\n",
       "      <td>10</td>\n",
       "      <td>3</td>\n",
       "      <td>0</td>\n",
       "      <td>CCU → MAA → BLR</td>\n",
       "      <td>06:20</td>\n",
       "      <td>10:20</td>\n",
       "      <td>4h</td>\n",
       "      <td>1 stop</td>\n",
       "      <td>5</td>\n",
       "    </tr>\n",
       "    <tr>\n",
       "      <th>2</th>\n",
       "      <td>4</td>\n",
       "      <td>22</td>\n",
       "      <td>2</td>\n",
       "      <td>1</td>\n",
       "      <td>DEL → BOM → COK</td>\n",
       "      <td>19:15</td>\n",
       "      <td>19:00 22 May</td>\n",
       "      <td>23h 45m</td>\n",
       "      <td>1 stop</td>\n",
       "      <td>3</td>\n",
       "    </tr>\n",
       "    <tr>\n",
       "      <th>3</th>\n",
       "      <td>6</td>\n",
       "      <td>22</td>\n",
       "      <td>2</td>\n",
       "      <td>1</td>\n",
       "      <td>DEL → BOM → COK</td>\n",
       "      <td>08:00</td>\n",
       "      <td>21:00</td>\n",
       "      <td>13h</td>\n",
       "      <td>1 stop</td>\n",
       "      <td>5</td>\n",
       "    </tr>\n",
       "    <tr>\n",
       "      <th>4</th>\n",
       "      <td>0</td>\n",
       "      <td>27</td>\n",
       "      <td>0</td>\n",
       "      <td>2</td>\n",
       "      <td>BLR → DEL</td>\n",
       "      <td>23:55</td>\n",
       "      <td>02:45 25 Jun</td>\n",
       "      <td>2h 50m</td>\n",
       "      <td>non-stop</td>\n",
       "      <td>5</td>\n",
       "    </tr>\n",
       "  </tbody>\n",
       "</table>\n",
       "</div>"
      ],
      "text/plain": [
       "   Airline  Date_of_Journey  Source  Destination            Route Dep_Time  \\\n",
       "0        4               39       2            1  DEL → BOM → COK    17:30   \n",
       "1        3               10       3            0  CCU → MAA → BLR    06:20   \n",
       "2        4               22       2            1  DEL → BOM → COK    19:15   \n",
       "3        6               22       2            1  DEL → BOM → COK    08:00   \n",
       "4        0               27       0            2        BLR → DEL    23:55   \n",
       "\n",
       "   Arrival_Time Duration Total_Stops  Additional_Info  \n",
       "0  04:25 07 Jun  10h 55m      1 stop                5  \n",
       "1         10:20       4h      1 stop                5  \n",
       "2  19:00 22 May  23h 45m      1 stop                3  \n",
       "3         21:00      13h      1 stop                5  \n",
       "4  02:45 25 Jun   2h 50m    non-stop                5  "
      ]
     },
     "execution_count": 54,
     "metadata": {},
     "output_type": "execute_result"
    }
   ],
   "source": [
    "df.head()"
   ]
  },
  {
   "cell_type": "code",
   "execution_count": 55,
   "id": "43f9afe2",
   "metadata": {},
   "outputs": [],
   "source": [
    "from sklearn.preprocessing import LabelEncoder\n",
    "LE=LabelEncoder()\n",
    "df['Route']=LE.fit_transform(df['Route'])"
   ]
  },
  {
   "cell_type": "code",
   "execution_count": 56,
   "id": "1fae3ac7",
   "metadata": {},
   "outputs": [
    {
     "data": {
      "text/plain": [
       "array([76, 65, 16, 24, 57, 43, 45, 92, 83,  5, 51, 88, 74, 33, 68, 99, 46,\n",
       "       75, 84, 93, 60, 50, 78, 62, 91, 58, 77, 56, 15, 10, 40,  0, 30, 80,\n",
       "       87, 82, 52, 18,  4, 85, 70, 96, 94, 67, 20,  8,  6, 69, 39, 21, 61,\n",
       "       47, 72, 25, 73, 19,  3, 79, 71, 48, 23, 64, 97, 14, 98, 29, 44, 89,\n",
       "       95, 81,  7,  2, 36, 55, 11,  1, 37, 54, 90, 63, 66, 35, 13, 27, 49,\n",
       "       31, 34, 53, 17,  9, 86, 41, 26, 22, 38, 28, 12, 42, 59, 32])"
      ]
     },
     "execution_count": 56,
     "metadata": {},
     "output_type": "execute_result"
    }
   ],
   "source": [
    "df.Route.unique()"
   ]
  },
  {
   "cell_type": "code",
   "execution_count": 57,
   "id": "6fa8bdc1",
   "metadata": {},
   "outputs": [
    {
     "data": {
      "text/html": [
       "<div>\n",
       "<style scoped>\n",
       "    .dataframe tbody tr th:only-of-type {\n",
       "        vertical-align: middle;\n",
       "    }\n",
       "\n",
       "    .dataframe tbody tr th {\n",
       "        vertical-align: top;\n",
       "    }\n",
       "\n",
       "    .dataframe thead th {\n",
       "        text-align: right;\n",
       "    }\n",
       "</style>\n",
       "<table border=\"1\" class=\"dataframe\">\n",
       "  <thead>\n",
       "    <tr style=\"text-align: right;\">\n",
       "      <th></th>\n",
       "      <th>Airline</th>\n",
       "      <th>Date_of_Journey</th>\n",
       "      <th>Source</th>\n",
       "      <th>Destination</th>\n",
       "      <th>Route</th>\n",
       "      <th>Dep_Time</th>\n",
       "      <th>Arrival_Time</th>\n",
       "      <th>Duration</th>\n",
       "      <th>Total_Stops</th>\n",
       "      <th>Additional_Info</th>\n",
       "    </tr>\n",
       "  </thead>\n",
       "  <tbody>\n",
       "    <tr>\n",
       "      <th>0</th>\n",
       "      <td>4</td>\n",
       "      <td>39</td>\n",
       "      <td>2</td>\n",
       "      <td>1</td>\n",
       "      <td>76</td>\n",
       "      <td>17:30</td>\n",
       "      <td>04:25 07 Jun</td>\n",
       "      <td>10h 55m</td>\n",
       "      <td>1 stop</td>\n",
       "      <td>5</td>\n",
       "    </tr>\n",
       "    <tr>\n",
       "      <th>1</th>\n",
       "      <td>3</td>\n",
       "      <td>10</td>\n",
       "      <td>3</td>\n",
       "      <td>0</td>\n",
       "      <td>65</td>\n",
       "      <td>06:20</td>\n",
       "      <td>10:20</td>\n",
       "      <td>4h</td>\n",
       "      <td>1 stop</td>\n",
       "      <td>5</td>\n",
       "    </tr>\n",
       "    <tr>\n",
       "      <th>2</th>\n",
       "      <td>4</td>\n",
       "      <td>22</td>\n",
       "      <td>2</td>\n",
       "      <td>1</td>\n",
       "      <td>76</td>\n",
       "      <td>19:15</td>\n",
       "      <td>19:00 22 May</td>\n",
       "      <td>23h 45m</td>\n",
       "      <td>1 stop</td>\n",
       "      <td>3</td>\n",
       "    </tr>\n",
       "    <tr>\n",
       "      <th>3</th>\n",
       "      <td>6</td>\n",
       "      <td>22</td>\n",
       "      <td>2</td>\n",
       "      <td>1</td>\n",
       "      <td>76</td>\n",
       "      <td>08:00</td>\n",
       "      <td>21:00</td>\n",
       "      <td>13h</td>\n",
       "      <td>1 stop</td>\n",
       "      <td>5</td>\n",
       "    </tr>\n",
       "    <tr>\n",
       "      <th>4</th>\n",
       "      <td>0</td>\n",
       "      <td>27</td>\n",
       "      <td>0</td>\n",
       "      <td>2</td>\n",
       "      <td>16</td>\n",
       "      <td>23:55</td>\n",
       "      <td>02:45 25 Jun</td>\n",
       "      <td>2h 50m</td>\n",
       "      <td>non-stop</td>\n",
       "      <td>5</td>\n",
       "    </tr>\n",
       "  </tbody>\n",
       "</table>\n",
       "</div>"
      ],
      "text/plain": [
       "   Airline  Date_of_Journey  Source  Destination  Route Dep_Time  \\\n",
       "0        4               39       2            1     76    17:30   \n",
       "1        3               10       3            0     65    06:20   \n",
       "2        4               22       2            1     76    19:15   \n",
       "3        6               22       2            1     76    08:00   \n",
       "4        0               27       0            2     16    23:55   \n",
       "\n",
       "   Arrival_Time Duration Total_Stops  Additional_Info  \n",
       "0  04:25 07 Jun  10h 55m      1 stop                5  \n",
       "1         10:20       4h      1 stop                5  \n",
       "2  19:00 22 May  23h 45m      1 stop                3  \n",
       "3         21:00      13h      1 stop                5  \n",
       "4  02:45 25 Jun   2h 50m    non-stop                5  "
      ]
     },
     "execution_count": 57,
     "metadata": {},
     "output_type": "execute_result"
    }
   ],
   "source": [
    "df.head()"
   ]
  },
  {
   "cell_type": "code",
   "execution_count": 58,
   "id": "fe91ade1",
   "metadata": {},
   "outputs": [],
   "source": [
    "from sklearn.preprocessing import LabelEncoder\n",
    "LE=LabelEncoder()\n",
    "df['Dep_Time']=LE.fit_transform(df['Dep_Time'])"
   ]
  },
  {
   "cell_type": "code",
   "execution_count": 59,
   "id": "3e8d8aec",
   "metadata": {},
   "outputs": [
    {
     "data": {
      "text/plain": [
       "array([138,  31, 156,  48, 198, 146,  44, 116,  70, 127, 101,  36,  58,\n",
       "        24, 181,  96,  68, 193,  75, 164,  21, 177, 124, 102, 192, 162,\n",
       "        40,  26, 132, 152,  71, 135,  93, 191, 176, 141,  62, 103,  66,\n",
       "         5,  84, 133,  27,  39, 130, 160,  10, 179,  82,  88, 183,  25,\n",
       "        47,  59,  51,  63,  69, 112, 186,  38, 163, 158, 113,  22,  34,\n",
       "       136, 180,  45,  37, 139,  79, 167, 169,  23, 114, 175, 107, 161,\n",
       "        52, 184, 178,   6,  53, 172, 105, 109,  78, 159, 117,  29, 188,\n",
       "        54, 110,  65,   3,  56, 154,  57,  83,  15, 104,  64, 142, 121,\n",
       "         9,   1, 153, 195,  81,  20,  19,  91,  35, 145,  98,  61,   7,\n",
       "       197,  46,  87, 168,  50, 137,  67, 122,  74, 108,  33,  86, 155,\n",
       "       173, 115, 131, 128,  73,  13,  11,  12, 148, 119, 157,  95,  94,\n",
       "        60, 170,  90,  77,  55,  42, 111,  76,  16, 123, 118, 165, 151,\n",
       "       125, 196, 129,  41,  97,  28, 174,  80,  30, 144, 150,  92,  18,\n",
       "       185,  43,  17, 189,  14, 147, 140,   2,  85, 187, 120, 106, 171,\n",
       "        99,   8, 134, 143, 182, 190,  49,  32, 166, 149, 100,   0,   4,\n",
       "       126,  72,  89, 194])"
      ]
     },
     "execution_count": 59,
     "metadata": {},
     "output_type": "execute_result"
    }
   ],
   "source": [
    "df.Dep_Time.unique()"
   ]
  },
  {
   "cell_type": "code",
   "execution_count": 60,
   "id": "0290c3f1",
   "metadata": {},
   "outputs": [
    {
     "data": {
      "text/html": [
       "<div>\n",
       "<style scoped>\n",
       "    .dataframe tbody tr th:only-of-type {\n",
       "        vertical-align: middle;\n",
       "    }\n",
       "\n",
       "    .dataframe tbody tr th {\n",
       "        vertical-align: top;\n",
       "    }\n",
       "\n",
       "    .dataframe thead th {\n",
       "        text-align: right;\n",
       "    }\n",
       "</style>\n",
       "<table border=\"1\" class=\"dataframe\">\n",
       "  <thead>\n",
       "    <tr style=\"text-align: right;\">\n",
       "      <th></th>\n",
       "      <th>Airline</th>\n",
       "      <th>Date_of_Journey</th>\n",
       "      <th>Source</th>\n",
       "      <th>Destination</th>\n",
       "      <th>Route</th>\n",
       "      <th>Dep_Time</th>\n",
       "      <th>Arrival_Time</th>\n",
       "      <th>Duration</th>\n",
       "      <th>Total_Stops</th>\n",
       "      <th>Additional_Info</th>\n",
       "    </tr>\n",
       "  </thead>\n",
       "  <tbody>\n",
       "    <tr>\n",
       "      <th>0</th>\n",
       "      <td>4</td>\n",
       "      <td>39</td>\n",
       "      <td>2</td>\n",
       "      <td>1</td>\n",
       "      <td>76</td>\n",
       "      <td>138</td>\n",
       "      <td>04:25 07 Jun</td>\n",
       "      <td>10h 55m</td>\n",
       "      <td>1 stop</td>\n",
       "      <td>5</td>\n",
       "    </tr>\n",
       "    <tr>\n",
       "      <th>1</th>\n",
       "      <td>3</td>\n",
       "      <td>10</td>\n",
       "      <td>3</td>\n",
       "      <td>0</td>\n",
       "      <td>65</td>\n",
       "      <td>31</td>\n",
       "      <td>10:20</td>\n",
       "      <td>4h</td>\n",
       "      <td>1 stop</td>\n",
       "      <td>5</td>\n",
       "    </tr>\n",
       "    <tr>\n",
       "      <th>2</th>\n",
       "      <td>4</td>\n",
       "      <td>22</td>\n",
       "      <td>2</td>\n",
       "      <td>1</td>\n",
       "      <td>76</td>\n",
       "      <td>156</td>\n",
       "      <td>19:00 22 May</td>\n",
       "      <td>23h 45m</td>\n",
       "      <td>1 stop</td>\n",
       "      <td>3</td>\n",
       "    </tr>\n",
       "    <tr>\n",
       "      <th>3</th>\n",
       "      <td>6</td>\n",
       "      <td>22</td>\n",
       "      <td>2</td>\n",
       "      <td>1</td>\n",
       "      <td>76</td>\n",
       "      <td>48</td>\n",
       "      <td>21:00</td>\n",
       "      <td>13h</td>\n",
       "      <td>1 stop</td>\n",
       "      <td>5</td>\n",
       "    </tr>\n",
       "    <tr>\n",
       "      <th>4</th>\n",
       "      <td>0</td>\n",
       "      <td>27</td>\n",
       "      <td>0</td>\n",
       "      <td>2</td>\n",
       "      <td>16</td>\n",
       "      <td>198</td>\n",
       "      <td>02:45 25 Jun</td>\n",
       "      <td>2h 50m</td>\n",
       "      <td>non-stop</td>\n",
       "      <td>5</td>\n",
       "    </tr>\n",
       "  </tbody>\n",
       "</table>\n",
       "</div>"
      ],
      "text/plain": [
       "   Airline  Date_of_Journey  Source  Destination  Route  Dep_Time  \\\n",
       "0        4               39       2            1     76       138   \n",
       "1        3               10       3            0     65        31   \n",
       "2        4               22       2            1     76       156   \n",
       "3        6               22       2            1     76        48   \n",
       "4        0               27       0            2     16       198   \n",
       "\n",
       "   Arrival_Time Duration Total_Stops  Additional_Info  \n",
       "0  04:25 07 Jun  10h 55m      1 stop                5  \n",
       "1         10:20       4h      1 stop                5  \n",
       "2  19:00 22 May  23h 45m      1 stop                3  \n",
       "3         21:00      13h      1 stop                5  \n",
       "4  02:45 25 Jun   2h 50m    non-stop                5  "
      ]
     },
     "execution_count": 60,
     "metadata": {},
     "output_type": "execute_result"
    }
   ],
   "source": [
    "df.head()"
   ]
  },
  {
   "cell_type": "code",
   "execution_count": 61,
   "id": "0c0eefa8",
   "metadata": {},
   "outputs": [],
   "source": [
    "from sklearn.preprocessing import LabelEncoder\n",
    "LE=LabelEncoder()\n",
    "df['Arrival_Time']=LE.fit_transform(df['Arrival_Time'])"
   ]
  },
  {
   "cell_type": "code",
   "execution_count": 62,
   "id": "6fc4e15d",
   "metadata": {},
   "outputs": [
    {
     "data": {
      "text/plain": [
       "array([150, 353, 566, 633, 135, 432, 662, 620, 442, 554, 488, 577, 355,\n",
       "       428, 258, 661, 657, 157, 263, 119, 344, 287, 555, 702, 161, 516,\n",
       "        87, 122, 427, 674, 274, 678, 410, 598, 111,  32, 230, 125, 610,\n",
       "       548, 481, 663, 455, 603, 499, 399, 408, 527, 240, 570, 419, 549,\n",
       "       318, 660, 659, 485, 218,  34, 546, 449, 565, 647, 484, 366, 398,\n",
       "       421, 190, 517, 347,  83, 289, 107, 363, 261, 267, 535, 578, 624,\n",
       "       220, 158, 211, 539, 350, 120, 600, 345,  68, 640, 324, 658, 590,\n",
       "       538, 109, 151, 619, 357, 461, 276, 611, 431, 507, 597, 138, 440,\n",
       "       493, 189, 379, 667, 403, 323,  36, 504, 177, 266,  16, 607, 412,\n",
       "       634, 482, 518, 278,  62, 510, 508,  30, 143, 365, 542, 621,  64,\n",
       "       648, 382, 103,  65, 316, 474, 581, 460, 390, 162, 249, 377, 509,\n",
       "       395, 381, 255, 224, 506, 116, 104, 483, 650, 334,  85, 606, 144,\n",
       "       254, 137, 616,  75, 388, 467, 685, 106, 329, 115, 148, 595, 639,\n",
       "       437, 463, 282, 141, 622, 127, 438,  40, 691, 194, 464,  74, 495,\n",
       "       147, 310, 614, 675, 327, 340, 268, 459, 309, 519, 284, 409, 394,\n",
       "       701, 112, 295, 465, 511, 281, 501, 226, 153, 445, 405, 352, 564,\n",
       "       380, 215, 533, 690, 585, 201, 452, 536, 560, 668, 108, 696, 642,\n",
       "       291, 273, 231, 166, 556, 101, 145, 568,  78, 550, 243, 206, 270,\n",
       "       458,  96, 217, 118, 264,  51, 524, 146, 358, 698, 699, 569, 173,\n",
       "        69, 433, 360, 429, 471, 596, 167, 152, 453, 203, 515, 159, 315,\n",
       "       684, 551, 302, 219, 692, 652, 110, 451, 349, 423, 512, 528, 237,\n",
       "       351, 497, 325, 591, 525,  55, 646, 626, 645,  31, 436, 530, 123,\n",
       "       204, 601,  47, 643, 492,  12, 222, 594, 563, 117, 447, 312, 486,\n",
       "       331, 232, 416,  84, 277, 553, 299, 683, 322, 303, 523, 385, 552,\n",
       "       181, 154, 180, 100, 372, 602, 163, 209, 448, 544, 234, 262, 383,\n",
       "       682,   4, 490, 113, 687, 221, 537, 500, 387,  11, 644, 589, 156,\n",
       "       478, 197, 239, 306, 250,  67,  95,  89, 514,  50,   9, 417, 534,\n",
       "       450, 582, 168, 384, 688, 599, 401, 406, 369, 335, 477, 195,  76,\n",
       "       443, 411, 435, 454, 386, 175,  63, 227, 418, 233, 185, 279, 669,\n",
       "       164, 317, 526, 170,  15, 121,   2, 247, 557, 588,  79, 700, 294,\n",
       "       256, 235, 176, 155, 342,  82, 632, 130, 502,   6, 114, 571, 338,\n",
       "       574,  81, 397, 225, 271, 330, 183, 415, 296, 300, 586,  22, 562,\n",
       "        90,  43,  23, 293, 126, 532, 561, 393, 520, 476, 359, 192, 321,\n",
       "       314,  71,  61, 305, 193, 609, 404,  59, 627, 308, 304,   8, 188,\n",
       "       400, 424, 320, 223, 292, 260, 498,  13,  39, 697, 252, 625, 689,\n",
       "       513, 608, 179,  18, 462,  48,  56, 105, 592, 456, 182, 580, 430,\n",
       "       703, 241, 613, 307, 200, 184, 656,  28, 346, 202, 695, 579, 311,\n",
       "       629, 333, 573, 413, 666, 301, 567, 676, 392, 457,  20, 494, 172,\n",
       "        27, 142, 543, 664, 178, 272,  70, 654, 402, 251, 677, 328, 337,\n",
       "       434, 364, 198, 313,  94, 641, 214, 605,  60,  25,  14, 426, 628,\n",
       "       259, 636,  53, 326, 468, 638, 343,   7,  77, 265, 446, 649, 673,\n",
       "       396, 472, 285, 693, 470, 319,   3, 186, 165, 631, 174, 129, 637,\n",
       "        33, 371, 480,  92, 615, 420, 583,  41, 653, 479, 288, 496, 373,\n",
       "       391, 205, 280, 290, 283, 378, 375, 102, 216,  99, 473, 489, 593,\n",
       "        45, 134, 370,  49, 236, 671, 286, 576,  86, 354, 545, 332, 348,\n",
       "        93, 361, 339, 238,  10,  58, 604, 208, 612, 244, 522, 529, 212,\n",
       "       367, 680, 681, 487,  97, 503, 196, 207, 665, 124, 572, 547, 491,\n",
       "        46, 275, 623, 362,  66, 133, 253, 297, 139, 199, 531, 374, 505,\n",
       "        91, 635, 128,  19, 630, 389, 132, 559, 670, 229, 149,  80, 521,\n",
       "        52, 140,  38, 414, 469,  26, 651, 213, 257, 228,  35, 541, 575,\n",
       "       441, 136, 336,   5, 587, 356, 269, 191,  24,  29, 694, 686,  88,\n",
       "       672, 466, 368, 298, 679, 376,  72, 475,  98, 618, 422, 169, 407,\n",
       "       341,   0, 187, 171, 210, 425,   1, 246, 439, 540, 248, 131, 558,\n",
       "        73, 444,  57,  17,  54,  44, 655, 584,  21, 245, 160,  42, 242,\n",
       "        37, 617])"
      ]
     },
     "execution_count": 62,
     "metadata": {},
     "output_type": "execute_result"
    }
   ],
   "source": [
    "df.Arrival_Time.unique()"
   ]
  },
  {
   "cell_type": "code",
   "execution_count": 63,
   "id": "b930659b",
   "metadata": {},
   "outputs": [
    {
     "data": {
      "text/html": [
       "<div>\n",
       "<style scoped>\n",
       "    .dataframe tbody tr th:only-of-type {\n",
       "        vertical-align: middle;\n",
       "    }\n",
       "\n",
       "    .dataframe tbody tr th {\n",
       "        vertical-align: top;\n",
       "    }\n",
       "\n",
       "    .dataframe thead th {\n",
       "        text-align: right;\n",
       "    }\n",
       "</style>\n",
       "<table border=\"1\" class=\"dataframe\">\n",
       "  <thead>\n",
       "    <tr style=\"text-align: right;\">\n",
       "      <th></th>\n",
       "      <th>Airline</th>\n",
       "      <th>Date_of_Journey</th>\n",
       "      <th>Source</th>\n",
       "      <th>Destination</th>\n",
       "      <th>Route</th>\n",
       "      <th>Dep_Time</th>\n",
       "      <th>Arrival_Time</th>\n",
       "      <th>Duration</th>\n",
       "      <th>Total_Stops</th>\n",
       "      <th>Additional_Info</th>\n",
       "    </tr>\n",
       "  </thead>\n",
       "  <tbody>\n",
       "    <tr>\n",
       "      <th>0</th>\n",
       "      <td>4</td>\n",
       "      <td>39</td>\n",
       "      <td>2</td>\n",
       "      <td>1</td>\n",
       "      <td>76</td>\n",
       "      <td>138</td>\n",
       "      <td>150</td>\n",
       "      <td>10h 55m</td>\n",
       "      <td>1 stop</td>\n",
       "      <td>5</td>\n",
       "    </tr>\n",
       "    <tr>\n",
       "      <th>1</th>\n",
       "      <td>3</td>\n",
       "      <td>10</td>\n",
       "      <td>3</td>\n",
       "      <td>0</td>\n",
       "      <td>65</td>\n",
       "      <td>31</td>\n",
       "      <td>353</td>\n",
       "      <td>4h</td>\n",
       "      <td>1 stop</td>\n",
       "      <td>5</td>\n",
       "    </tr>\n",
       "    <tr>\n",
       "      <th>2</th>\n",
       "      <td>4</td>\n",
       "      <td>22</td>\n",
       "      <td>2</td>\n",
       "      <td>1</td>\n",
       "      <td>76</td>\n",
       "      <td>156</td>\n",
       "      <td>566</td>\n",
       "      <td>23h 45m</td>\n",
       "      <td>1 stop</td>\n",
       "      <td>3</td>\n",
       "    </tr>\n",
       "    <tr>\n",
       "      <th>3</th>\n",
       "      <td>6</td>\n",
       "      <td>22</td>\n",
       "      <td>2</td>\n",
       "      <td>1</td>\n",
       "      <td>76</td>\n",
       "      <td>48</td>\n",
       "      <td>633</td>\n",
       "      <td>13h</td>\n",
       "      <td>1 stop</td>\n",
       "      <td>5</td>\n",
       "    </tr>\n",
       "    <tr>\n",
       "      <th>4</th>\n",
       "      <td>0</td>\n",
       "      <td>27</td>\n",
       "      <td>0</td>\n",
       "      <td>2</td>\n",
       "      <td>16</td>\n",
       "      <td>198</td>\n",
       "      <td>135</td>\n",
       "      <td>2h 50m</td>\n",
       "      <td>non-stop</td>\n",
       "      <td>5</td>\n",
       "    </tr>\n",
       "  </tbody>\n",
       "</table>\n",
       "</div>"
      ],
      "text/plain": [
       "   Airline  Date_of_Journey  Source  Destination  Route  Dep_Time  \\\n",
       "0        4               39       2            1     76       138   \n",
       "1        3               10       3            0     65        31   \n",
       "2        4               22       2            1     76       156   \n",
       "3        6               22       2            1     76        48   \n",
       "4        0               27       0            2     16       198   \n",
       "\n",
       "   Arrival_Time Duration Total_Stops  Additional_Info  \n",
       "0           150  10h 55m      1 stop                5  \n",
       "1           353       4h      1 stop                5  \n",
       "2           566  23h 45m      1 stop                3  \n",
       "3           633      13h      1 stop                5  \n",
       "4           135   2h 50m    non-stop                5  "
      ]
     },
     "execution_count": 63,
     "metadata": {},
     "output_type": "execute_result"
    }
   ],
   "source": [
    "df.head()"
   ]
  },
  {
   "cell_type": "code",
   "execution_count": 64,
   "id": "7bc2438e",
   "metadata": {},
   "outputs": [],
   "source": [
    "from sklearn.preprocessing import LabelEncoder\n",
    "LE=LabelEncoder()\n",
    "df['Duration']=LE.fit_transform(df['Duration'])\n",
    "df['Total_Stops']=LE.fit_transform(df['Total_Stops'])"
   ]
  },
  {
   "cell_type": "code",
   "execution_count": 65,
   "id": "fb709ef6",
   "metadata": {},
   "outputs": [
    {
     "data": {
      "text/plain": [
       "array([ 10, 248, 148,  36, 216,  93,  69, 261, 215, 283, 202, 311,   2,\n",
       "       254,  83,   9, 310,  26, 309,  55,  57,  18,  41,  28, 212, 168,\n",
       "       102, 284,  19, 295, 241, 110, 214,  90,   7,  29, 111, 147, 210,\n",
       "       146, 191, 199, 267, 179, 266, 209, 217, 289, 262, 172,  38, 178,\n",
       "       263, 304, 287, 122,  70, 293,  81, 269,  44,  22,  39,  92, 197,\n",
       "       259, 143, 108, 109,  40, 274,   1, 253,  12,  27,  59,  99,  43,\n",
       "       317, 213, 286, 141,   4, 270, 137, 303,  17,  65, 294,  33, 167,\n",
       "         3, 301,  32,  25, 135, 292, 129, 277, 211, 171, 230,  16,  60,\n",
       "        51, 296, 123, 183,  79, 319,  78,  14, 139,  88, 142, 166, 149,\n",
       "        50, 161,   5, 104, 275, 188, 312, 260, 291, 278, 201,  52, 106,\n",
       "       236, 255, 276, 127, 246, 257,  71, 280,  20, 272, 134, 100, 152,\n",
       "        53, 118,  72, 298, 300, 151, 103, 165, 125, 256,  94, 258,  77,\n",
       "       196, 162, 282, 299, 175, 308, 121, 144, 190, 126,  63,  47, 200,\n",
       "        54,  13, 113, 154,  24, 114, 192, 119,  23,  30, 164,   0,  98,\n",
       "        97, 307, 251,  56, 140, 316, 173, 174, 249, 314, 184,  21, 290,\n",
       "       265, 264, 233,  82,  66, 243,  74, 170,  31,  34,   6, 225, 120,\n",
       "       237, 160, 112, 157, 232, 145, 273, 313, 306, 181,  64, 268, 116,\n",
       "       150, 132, 115,  45, 244, 229, 169,  89, 153, 205, 195,  62, 242,\n",
       "        42, 305, 279, 219,  68, 130, 182, 235, 204,  46, 206,  11, 252,\n",
       "       124,  37,  86, 231, 281, 176,  76, 234, 245,  49, 133,  84, 224,\n",
       "       163, 117,  95, 177, 222, 218, 187, 159,  61, 285, 198,  48,  96,\n",
       "       193, 297, 240,  73,  35, 101, 207, 186, 223, 208, 228, 226,  58,\n",
       "        67, 136, 105, 221,  91, 203, 156, 315, 158, 128,   8,  87,  75,\n",
       "       194,  80, 302, 180, 220, 189, 185, 131, 107,  15, 247, 138, 227,\n",
       "        85, 288, 250, 155, 239, 318, 238, 271])"
      ]
     },
     "execution_count": 65,
     "metadata": {},
     "output_type": "execute_result"
    }
   ],
   "source": [
    "df.Duration.unique()"
   ]
  },
  {
   "cell_type": "code",
   "execution_count": 66,
   "id": "16ed03f5",
   "metadata": {},
   "outputs": [
    {
     "data": {
      "text/plain": [
       "array([0, 4, 1, 2, 3])"
      ]
     },
     "execution_count": 66,
     "metadata": {},
     "output_type": "execute_result"
    }
   ],
   "source": [
    "df.Total_Stops.unique()"
   ]
  },
  {
   "cell_type": "code",
   "execution_count": 67,
   "id": "55208584",
   "metadata": {},
   "outputs": [
    {
     "data": {
      "text/html": [
       "<div>\n",
       "<style scoped>\n",
       "    .dataframe tbody tr th:only-of-type {\n",
       "        vertical-align: middle;\n",
       "    }\n",
       "\n",
       "    .dataframe tbody tr th {\n",
       "        vertical-align: top;\n",
       "    }\n",
       "\n",
       "    .dataframe thead th {\n",
       "        text-align: right;\n",
       "    }\n",
       "</style>\n",
       "<table border=\"1\" class=\"dataframe\">\n",
       "  <thead>\n",
       "    <tr style=\"text-align: right;\">\n",
       "      <th></th>\n",
       "      <th>Airline</th>\n",
       "      <th>Date_of_Journey</th>\n",
       "      <th>Source</th>\n",
       "      <th>Destination</th>\n",
       "      <th>Route</th>\n",
       "      <th>Dep_Time</th>\n",
       "      <th>Arrival_Time</th>\n",
       "      <th>Duration</th>\n",
       "      <th>Total_Stops</th>\n",
       "      <th>Additional_Info</th>\n",
       "    </tr>\n",
       "  </thead>\n",
       "  <tbody>\n",
       "    <tr>\n",
       "      <th>0</th>\n",
       "      <td>4</td>\n",
       "      <td>39</td>\n",
       "      <td>2</td>\n",
       "      <td>1</td>\n",
       "      <td>76</td>\n",
       "      <td>138</td>\n",
       "      <td>150</td>\n",
       "      <td>10</td>\n",
       "      <td>0</td>\n",
       "      <td>5</td>\n",
       "    </tr>\n",
       "    <tr>\n",
       "      <th>1</th>\n",
       "      <td>3</td>\n",
       "      <td>10</td>\n",
       "      <td>3</td>\n",
       "      <td>0</td>\n",
       "      <td>65</td>\n",
       "      <td>31</td>\n",
       "      <td>353</td>\n",
       "      <td>248</td>\n",
       "      <td>0</td>\n",
       "      <td>5</td>\n",
       "    </tr>\n",
       "    <tr>\n",
       "      <th>2</th>\n",
       "      <td>4</td>\n",
       "      <td>22</td>\n",
       "      <td>2</td>\n",
       "      <td>1</td>\n",
       "      <td>76</td>\n",
       "      <td>156</td>\n",
       "      <td>566</td>\n",
       "      <td>148</td>\n",
       "      <td>0</td>\n",
       "      <td>3</td>\n",
       "    </tr>\n",
       "    <tr>\n",
       "      <th>3</th>\n",
       "      <td>6</td>\n",
       "      <td>22</td>\n",
       "      <td>2</td>\n",
       "      <td>1</td>\n",
       "      <td>76</td>\n",
       "      <td>48</td>\n",
       "      <td>633</td>\n",
       "      <td>36</td>\n",
       "      <td>0</td>\n",
       "      <td>5</td>\n",
       "    </tr>\n",
       "    <tr>\n",
       "      <th>4</th>\n",
       "      <td>0</td>\n",
       "      <td>27</td>\n",
       "      <td>0</td>\n",
       "      <td>2</td>\n",
       "      <td>16</td>\n",
       "      <td>198</td>\n",
       "      <td>135</td>\n",
       "      <td>216</td>\n",
       "      <td>4</td>\n",
       "      <td>5</td>\n",
       "    </tr>\n",
       "  </tbody>\n",
       "</table>\n",
       "</div>"
      ],
      "text/plain": [
       "   Airline  Date_of_Journey  Source  Destination  Route  Dep_Time  \\\n",
       "0        4               39       2            1     76       138   \n",
       "1        3               10       3            0     65        31   \n",
       "2        4               22       2            1     76       156   \n",
       "3        6               22       2            1     76        48   \n",
       "4        0               27       0            2     16       198   \n",
       "\n",
       "   Arrival_Time  Duration  Total_Stops  Additional_Info  \n",
       "0           150        10            0                5  \n",
       "1           353       248            0                5  \n",
       "2           566       148            0                3  \n",
       "3           633        36            0                5  \n",
       "4           135       216            4                5  "
      ]
     },
     "execution_count": 67,
     "metadata": {},
     "output_type": "execute_result"
    }
   ],
   "source": [
    "df.head()"
   ]
  },
  {
   "cell_type": "markdown",
   "id": "fe577880",
   "metadata": {},
   "source": [
    "# Importing The Dataset"
   ]
  },
  {
   "cell_type": "code",
   "execution_count": 68,
   "id": "af6ff78f",
   "metadata": {},
   "outputs": [
    {
     "data": {
      "text/html": [
       "<div>\n",
       "<style scoped>\n",
       "    .dataframe tbody tr th:only-of-type {\n",
       "        vertical-align: middle;\n",
       "    }\n",
       "\n",
       "    .dataframe tbody tr th {\n",
       "        vertical-align: top;\n",
       "    }\n",
       "\n",
       "    .dataframe thead th {\n",
       "        text-align: right;\n",
       "    }\n",
       "</style>\n",
       "<table border=\"1\" class=\"dataframe\">\n",
       "  <thead>\n",
       "    <tr style=\"text-align: right;\">\n",
       "      <th></th>\n",
       "      <th>Airline</th>\n",
       "      <th>Date_of_Journey</th>\n",
       "      <th>Source</th>\n",
       "      <th>Destination</th>\n",
       "      <th>Route</th>\n",
       "      <th>Dep_Time</th>\n",
       "      <th>Arrival_Time</th>\n",
       "      <th>Duration</th>\n",
       "      <th>Total_Stops</th>\n",
       "      <th>Additional_Info</th>\n",
       "      <th>Price</th>\n",
       "    </tr>\n",
       "  </thead>\n",
       "  <tbody>\n",
       "    <tr>\n",
       "      <th>0</th>\n",
       "      <td>IndiGo</td>\n",
       "      <td>24/03/2019</td>\n",
       "      <td>Banglore</td>\n",
       "      <td>New Delhi</td>\n",
       "      <td>BLR → DEL</td>\n",
       "      <td>22:20</td>\n",
       "      <td>01:10 22 Mar</td>\n",
       "      <td>2h 50m</td>\n",
       "      <td>non-stop</td>\n",
       "      <td>No info</td>\n",
       "      <td>3897</td>\n",
       "    </tr>\n",
       "    <tr>\n",
       "      <th>1</th>\n",
       "      <td>Air India</td>\n",
       "      <td>1/05/2019</td>\n",
       "      <td>Kolkata</td>\n",
       "      <td>Banglore</td>\n",
       "      <td>CCU → IXR → BBI → BLR</td>\n",
       "      <td>05:50</td>\n",
       "      <td>13:15</td>\n",
       "      <td>7h 25m</td>\n",
       "      <td>2 stops</td>\n",
       "      <td>No info</td>\n",
       "      <td>7662</td>\n",
       "    </tr>\n",
       "    <tr>\n",
       "      <th>2</th>\n",
       "      <td>Jet Airways</td>\n",
       "      <td>9/06/2019</td>\n",
       "      <td>Delhi</td>\n",
       "      <td>Cochin</td>\n",
       "      <td>DEL → LKO → BOM → COK</td>\n",
       "      <td>09:25</td>\n",
       "      <td>04:25 10 Jun</td>\n",
       "      <td>19h</td>\n",
       "      <td>2 stops</td>\n",
       "      <td>No info</td>\n",
       "      <td>13882</td>\n",
       "    </tr>\n",
       "    <tr>\n",
       "      <th>3</th>\n",
       "      <td>IndiGo</td>\n",
       "      <td>12/05/2019</td>\n",
       "      <td>Kolkata</td>\n",
       "      <td>Banglore</td>\n",
       "      <td>CCU → NAG → BLR</td>\n",
       "      <td>18:05</td>\n",
       "      <td>23:30</td>\n",
       "      <td>5h 25m</td>\n",
       "      <td>1 stop</td>\n",
       "      <td>No info</td>\n",
       "      <td>6218</td>\n",
       "    </tr>\n",
       "    <tr>\n",
       "      <th>4</th>\n",
       "      <td>IndiGo</td>\n",
       "      <td>01/03/2019</td>\n",
       "      <td>Banglore</td>\n",
       "      <td>New Delhi</td>\n",
       "      <td>BLR → NAG → DEL</td>\n",
       "      <td>16:50</td>\n",
       "      <td>21:35</td>\n",
       "      <td>4h 45m</td>\n",
       "      <td>1 stop</td>\n",
       "      <td>No info</td>\n",
       "      <td>13302</td>\n",
       "    </tr>\n",
       "  </tbody>\n",
       "</table>\n",
       "</div>"
      ],
      "text/plain": [
       "       Airline Date_of_Journey    Source Destination                  Route  \\\n",
       "0       IndiGo      24/03/2019  Banglore   New Delhi              BLR → DEL   \n",
       "1    Air India       1/05/2019   Kolkata    Banglore  CCU → IXR → BBI → BLR   \n",
       "2  Jet Airways       9/06/2019     Delhi      Cochin  DEL → LKO → BOM → COK   \n",
       "3       IndiGo      12/05/2019   Kolkata    Banglore        CCU → NAG → BLR   \n",
       "4       IndiGo      01/03/2019  Banglore   New Delhi        BLR → NAG → DEL   \n",
       "\n",
       "  Dep_Time  Arrival_Time Duration Total_Stops Additional_Info  Price  \n",
       "0    22:20  01:10 22 Mar   2h 50m    non-stop         No info   3897  \n",
       "1    05:50         13:15   7h 25m     2 stops         No info   7662  \n",
       "2    09:25  04:25 10 Jun      19h     2 stops         No info  13882  \n",
       "3    18:05         23:30   5h 25m      1 stop         No info   6218  \n",
       "4    16:50         21:35   4h 45m      1 stop         No info  13302  "
      ]
     },
     "execution_count": 68,
     "metadata": {},
     "output_type": "execute_result"
    }
   ],
   "source": [
    "df = pd.read_excel('Data_Train.xlsx')\n",
    "df.head()"
   ]
  },
  {
   "cell_type": "code",
   "execution_count": 69,
   "id": "d3854d6d",
   "metadata": {},
   "outputs": [
    {
     "data": {
      "text/plain": [
       "Airline            0\n",
       "Date_of_Journey    0\n",
       "Source             0\n",
       "Destination        0\n",
       "Route              1\n",
       "Dep_Time           0\n",
       "Arrival_Time       0\n",
       "Duration           0\n",
       "Total_Stops        1\n",
       "Additional_Info    0\n",
       "Price              0\n",
       "dtype: int64"
      ]
     },
     "execution_count": 69,
     "metadata": {},
     "output_type": "execute_result"
    }
   ],
   "source": [
    "df.isnull().sum()"
   ]
  },
  {
   "cell_type": "markdown",
   "id": "e869f653",
   "metadata": {},
   "source": [
    "Here Route and Total_Stops contains sum values and remaining values will be zero"
   ]
  },
  {
   "cell_type": "code",
   "execution_count": 70,
   "id": "42feafcd",
   "metadata": {},
   "outputs": [
    {
     "data": {
      "text/html": [
       "<div>\n",
       "<style scoped>\n",
       "    .dataframe tbody tr th:only-of-type {\n",
       "        vertical-align: middle;\n",
       "    }\n",
       "\n",
       "    .dataframe tbody tr th {\n",
       "        vertical-align: top;\n",
       "    }\n",
       "\n",
       "    .dataframe thead th {\n",
       "        text-align: right;\n",
       "    }\n",
       "</style>\n",
       "<table border=\"1\" class=\"dataframe\">\n",
       "  <thead>\n",
       "    <tr style=\"text-align: right;\">\n",
       "      <th></th>\n",
       "      <th>Price</th>\n",
       "    </tr>\n",
       "  </thead>\n",
       "  <tbody>\n",
       "    <tr>\n",
       "      <th>count</th>\n",
       "      <td>10683.000000</td>\n",
       "    </tr>\n",
       "    <tr>\n",
       "      <th>mean</th>\n",
       "      <td>9087.064121</td>\n",
       "    </tr>\n",
       "    <tr>\n",
       "      <th>std</th>\n",
       "      <td>4611.359167</td>\n",
       "    </tr>\n",
       "    <tr>\n",
       "      <th>min</th>\n",
       "      <td>1759.000000</td>\n",
       "    </tr>\n",
       "    <tr>\n",
       "      <th>25%</th>\n",
       "      <td>5277.000000</td>\n",
       "    </tr>\n",
       "    <tr>\n",
       "      <th>50%</th>\n",
       "      <td>8372.000000</td>\n",
       "    </tr>\n",
       "    <tr>\n",
       "      <th>75%</th>\n",
       "      <td>12373.000000</td>\n",
       "    </tr>\n",
       "    <tr>\n",
       "      <th>max</th>\n",
       "      <td>79512.000000</td>\n",
       "    </tr>\n",
       "  </tbody>\n",
       "</table>\n",
       "</div>"
      ],
      "text/plain": [
       "              Price\n",
       "count  10683.000000\n",
       "mean    9087.064121\n",
       "std     4611.359167\n",
       "min     1759.000000\n",
       "25%     5277.000000\n",
       "50%     8372.000000\n",
       "75%    12373.000000\n",
       "max    79512.000000"
      ]
     },
     "execution_count": 70,
     "metadata": {},
     "output_type": "execute_result"
    }
   ],
   "source": [
    "df.describe()"
   ]
  },
  {
   "cell_type": "code",
   "execution_count": 71,
   "id": "d5dd8620",
   "metadata": {},
   "outputs": [
    {
     "data": {
      "text/plain": [
       "<AxesSubplot:>"
      ]
     },
     "execution_count": 71,
     "metadata": {},
     "output_type": "execute_result"
    },
    {
     "data": {
      "image/png": "[encoded data removed]",
      "text/plain": [
       "<Figure size 1584x504 with 2 Axes>"
      ]
     },
     "metadata": {
      "needs_background": "light"
     },
     "output_type": "display_data"
    }
   ],
   "source": [
    "plt.figure(figsize=(22,7))\n",
    "sns.heatmap(df.describe(),annot=True,linewidths=0.1,linecolor='black',fmt=\"0.2f\")"
   ]
  },
  {
   "cell_type": "markdown",
   "id": "35ca905d",
   "metadata": {},
   "source": [
    "Here heatmap containes the difference of describe values of dataset.\n",
    "\n",
    "Light shades are higly describe"
   ]
  },
  {
   "cell_type": "markdown",
   "id": "b2b86f92",
   "metadata": {},
   "source": [
    "# Correlation of the columns with the target columns\n"
   ]
  },
  {
   "cell_type": "code",
   "execution_count": 72,
   "id": "16bb1392",
   "metadata": {},
   "outputs": [
    {
     "data": {
      "text/html": [
       "<div>\n",
       "<style scoped>\n",
       "    .dataframe tbody tr th:only-of-type {\n",
       "        vertical-align: middle;\n",
       "    }\n",
       "\n",
       "    .dataframe tbody tr th {\n",
       "        vertical-align: top;\n",
       "    }\n",
       "\n",
       "    .dataframe thead th {\n",
       "        text-align: right;\n",
       "    }\n",
       "</style>\n",
       "<table border=\"1\" class=\"dataframe\">\n",
       "  <thead>\n",
       "    <tr style=\"text-align: right;\">\n",
       "      <th></th>\n",
       "      <th>Price</th>\n",
       "    </tr>\n",
       "  </thead>\n",
       "  <tbody>\n",
       "    <tr>\n",
       "      <th>Price</th>\n",
       "      <td>1.0</td>\n",
       "    </tr>\n",
       "  </tbody>\n",
       "</table>\n",
       "</div>"
      ],
      "text/plain": [
       "       Price\n",
       "Price    1.0"
      ]
     },
     "execution_count": 72,
     "metadata": {},
     "output_type": "execute_result"
    }
   ],
   "source": [
    "df.corr()"
   ]
  },
  {
   "cell_type": "code",
   "execution_count": 73,
   "id": "590b6082",
   "metadata": {},
   "outputs": [
    {
     "data": {
      "text/plain": [
       "<AxesSubplot:>"
      ]
     },
     "execution_count": 73,
     "metadata": {},
     "output_type": "execute_result"
    },
    {
     "data": {
      "image/png": "[encoded data removed]",
      "text/plain": [
       "<Figure size 1584x504 with 2 Axes>"
      ]
     },
     "metadata": {
      "needs_background": "light"
     },
     "output_type": "display_data"
    }
   ],
   "source": [
    "plt.figure(figsize=(22,7))\n",
    "sns.heatmap(df.corr(),annot=True,linewidths=0.1,linecolor='black',fmt=\"0.2f\")"
   ]
  },
  {
   "cell_type": "code",
   "execution_count": 74,
   "id": "585a0657",
   "metadata": {},
   "outputs": [
    {
     "data": {
      "text/plain": [
       "Price    1.812552\n",
       "dtype: float64"
      ]
     },
     "execution_count": 74,
     "metadata": {},
     "output_type": "execute_result"
    }
   ],
   "source": [
    "df.skew()"
   ]
  },
  {
   "cell_type": "markdown",
   "id": "ae4f5473",
   "metadata": {},
   "source": [
    "# Outlier Check"
   ]
  },
  {
   "cell_type": "code",
   "execution_count": 75,
   "id": "3e2a7b69",
   "metadata": {},
   "outputs": [
    {
     "data": {
      "text/plain": [
       "Airline            object\n",
       "Date_of_Journey    object\n",
       "Source             object\n",
       "Destination        object\n",
       "Route              object\n",
       "Dep_Time           object\n",
       "Arrival_Time       object\n",
       "Duration           object\n",
       "Total_Stops        object\n",
       "Additional_Info    object\n",
       "Price               int64\n",
       "dtype: object"
      ]
     },
     "execution_count": 75,
     "metadata": {},
     "output_type": "execute_result"
    }
   ],
   "source": [
    "df.dtypes"
   ]
  },
  {
   "cell_type": "code",
   "execution_count": 76,
   "id": "20f14469",
   "metadata": {},
   "outputs": [
    {
     "data": {
      "text/plain": [
       "<AxesSubplot:>"
      ]
     },
     "execution_count": 76,
     "metadata": {},
     "output_type": "execute_result"
    },
    {
     "data": {
      "image/png": "[encoded data removed]",
      "text/plain": [
       "<Figure size 432x288 with 1 Axes>"
      ]
     },
     "metadata": {
      "needs_background": "light"
     },
     "output_type": "display_data"
    }
   ],
   "source": [
    "df['Price'].plot.box()"
   ]
  },
  {
   "cell_type": "code",
   "execution_count": 77,
   "id": "ef9c94ca",
   "metadata": {},
   "outputs": [
    {
     "data": {
      "text/plain": [
       "(10683, 11)"
      ]
     },
     "execution_count": 77,
     "metadata": {},
     "output_type": "execute_result"
    }
   ],
   "source": [
    "df.shape"
   ]
  },
  {
   "cell_type": "code",
   "execution_count": 78,
   "id": "be4d071e",
   "metadata": {},
   "outputs": [
    {
     "data": {
      "text/plain": [
       "<seaborn.axisgrid.PairGrid at 0x26ac1193490>"
      ]
     },
     "execution_count": 78,
     "metadata": {},
     "output_type": "execute_result"
    },
    {
     "data": {
      "image/png": "[encoded data removed]",
      "text/plain": [
       "<Figure size 180x180 with 2 Axes>"
      ]
     },
     "metadata": {
      "needs_background": "light"
     },
     "output_type": "display_data"
    }
   ],
   "source": [
    "sns.pairplot(df)"
   ]
  },
  {
   "cell_type": "markdown",
   "id": "1d67029f",
   "metadata": {},
   "source": [
    "# considering the outlier removal"
   ]
  },
  {
   "cell_type": "code",
   "execution_count": 79,
   "id": "906a8232",
   "metadata": {},
   "outputs": [
    {
     "data": {
      "text/html": [
       "<div>\n",
       "<style scoped>\n",
       "    .dataframe tbody tr th:only-of-type {\n",
       "        vertical-align: middle;\n",
       "    }\n",
       "\n",
       "    .dataframe tbody tr th {\n",
       "        vertical-align: top;\n",
       "    }\n",
       "\n",
       "    .dataframe thead th {\n",
       "        text-align: right;\n",
       "    }\n",
       "</style>\n",
       "<table border=\"1\" class=\"dataframe\">\n",
       "  <thead>\n",
       "    <tr style=\"text-align: right;\">\n",
       "      <th></th>\n",
       "      <th>Airline</th>\n",
       "      <th>Source</th>\n",
       "      <th>Destination</th>\n",
       "      <th>Route</th>\n",
       "      <th>Dep_Time</th>\n",
       "      <th>Arrival_Time</th>\n",
       "      <th>Duration</th>\n",
       "      <th>Total_Stops</th>\n",
       "      <th>Additional_Info</th>\n",
       "      <th>Price</th>\n",
       "    </tr>\n",
       "  </thead>\n",
       "  <tbody>\n",
       "    <tr>\n",
       "      <th>0</th>\n",
       "      <td>IndiGo</td>\n",
       "      <td>Banglore</td>\n",
       "      <td>New Delhi</td>\n",
       "      <td>BLR → DEL</td>\n",
       "      <td>22:20</td>\n",
       "      <td>01:10 22 Mar</td>\n",
       "      <td>2h 50m</td>\n",
       "      <td>non-stop</td>\n",
       "      <td>No info</td>\n",
       "      <td>3897</td>\n",
       "    </tr>\n",
       "    <tr>\n",
       "      <th>1</th>\n",
       "      <td>Air India</td>\n",
       "      <td>Kolkata</td>\n",
       "      <td>Banglore</td>\n",
       "      <td>CCU → IXR → BBI → BLR</td>\n",
       "      <td>05:50</td>\n",
       "      <td>13:15</td>\n",
       "      <td>7h 25m</td>\n",
       "      <td>2 stops</td>\n",
       "      <td>No info</td>\n",
       "      <td>7662</td>\n",
       "    </tr>\n",
       "    <tr>\n",
       "      <th>2</th>\n",
       "      <td>Jet Airways</td>\n",
       "      <td>Delhi</td>\n",
       "      <td>Cochin</td>\n",
       "      <td>DEL → LKO → BOM → COK</td>\n",
       "      <td>09:25</td>\n",
       "      <td>04:25 10 Jun</td>\n",
       "      <td>19h</td>\n",
       "      <td>2 stops</td>\n",
       "      <td>No info</td>\n",
       "      <td>13882</td>\n",
       "    </tr>\n",
       "    <tr>\n",
       "      <th>3</th>\n",
       "      <td>IndiGo</td>\n",
       "      <td>Kolkata</td>\n",
       "      <td>Banglore</td>\n",
       "      <td>CCU → NAG → BLR</td>\n",
       "      <td>18:05</td>\n",
       "      <td>23:30</td>\n",
       "      <td>5h 25m</td>\n",
       "      <td>1 stop</td>\n",
       "      <td>No info</td>\n",
       "      <td>6218</td>\n",
       "    </tr>\n",
       "    <tr>\n",
       "      <th>4</th>\n",
       "      <td>IndiGo</td>\n",
       "      <td>Banglore</td>\n",
       "      <td>New Delhi</td>\n",
       "      <td>BLR → NAG → DEL</td>\n",
       "      <td>16:50</td>\n",
       "      <td>21:35</td>\n",
       "      <td>4h 45m</td>\n",
       "      <td>1 stop</td>\n",
       "      <td>No info</td>\n",
       "      <td>13302</td>\n",
       "    </tr>\n",
       "  </tbody>\n",
       "</table>\n",
       "</div>"
      ],
      "text/plain": [
       "       Airline    Source Destination                  Route Dep_Time  \\\n",
       "0       IndiGo  Banglore   New Delhi              BLR → DEL    22:20   \n",
       "1    Air India   Kolkata    Banglore  CCU → IXR → BBI → BLR    05:50   \n",
       "2  Jet Airways     Delhi      Cochin  DEL → LKO → BOM → COK    09:25   \n",
       "3       IndiGo   Kolkata    Banglore        CCU → NAG → BLR    18:05   \n",
       "4       IndiGo  Banglore   New Delhi        BLR → NAG → DEL    16:50   \n",
       "\n",
       "   Arrival_Time Duration Total_Stops Additional_Info  Price  \n",
       "0  01:10 22 Mar   2h 50m    non-stop         No info   3897  \n",
       "1         13:15   7h 25m     2 stops         No info   7662  \n",
       "2  04:25 10 Jun      19h     2 stops         No info  13882  \n",
       "3         23:30   5h 25m      1 stop         No info   6218  \n",
       "4         21:35   4h 45m      1 stop         No info  13302  "
      ]
     },
     "execution_count": 79,
     "metadata": {},
     "output_type": "execute_result"
    }
   ],
   "source": [
    "df.drop('Date_of_Journey',axis=1,inplace=True)\n",
    "df.head()"
   ]
  },
  {
   "cell_type": "code",
   "execution_count": 80,
   "id": "fff8be77",
   "metadata": {},
   "outputs": [
    {
     "data": {
      "text/plain": [
       "(10683, 10)"
      ]
     },
     "execution_count": 80,
     "metadata": {},
     "output_type": "execute_result"
    }
   ],
   "source": [
    "df.shape"
   ]
  },
  {
   "cell_type": "code",
   "execution_count": 81,
   "id": "58a6933d",
   "metadata": {},
   "outputs": [
    {
     "data": {
      "text/plain": [
       "Index(['Airline', 'Source', 'Destination', 'Route', 'Dep_Time', 'Arrival_Time',\n",
       "       'Duration', 'Total_Stops', 'Additional_Info', 'Price'],\n",
       "      dtype='object')"
      ]
     },
     "execution_count": 81,
     "metadata": {},
     "output_type": "execute_result"
    }
   ],
   "source": [
    "df.columns"
   ]
  },
  {
   "cell_type": "markdown",
   "id": "746818ae",
   "metadata": {},
   "source": [
    "# Encoding Method"
   ]
  },
  {
   "cell_type": "code",
   "execution_count": 82,
   "id": "93cd2a60",
   "metadata": {},
   "outputs": [],
   "source": [
    "from sklearn.preprocessing import LabelEncoder\n",
    "LE=LabelEncoder()\n",
    "df['Airline']=LE.fit_transform(df['Airline'])"
   ]
  },
  {
   "cell_type": "code",
   "execution_count": 83,
   "id": "497e7de8",
   "metadata": {},
   "outputs": [
    {
     "data": {
      "text/plain": [
       "array([ 3,  1,  4,  8,  6,  2, 10,  0, 11,  5,  7,  9])"
      ]
     },
     "execution_count": 83,
     "metadata": {},
     "output_type": "execute_result"
    }
   ],
   "source": [
    "df.Airline.unique()"
   ]
  },
  {
   "cell_type": "code",
   "execution_count": 84,
   "id": "a6f0571c",
   "metadata": {},
   "outputs": [
    {
     "data": {
      "text/html": [
       "<div>\n",
       "<style scoped>\n",
       "    .dataframe tbody tr th:only-of-type {\n",
       "        vertical-align: middle;\n",
       "    }\n",
       "\n",
       "    .dataframe tbody tr th {\n",
       "        vertical-align: top;\n",
       "    }\n",
       "\n",
       "    .dataframe thead th {\n",
       "        text-align: right;\n",
       "    }\n",
       "</style>\n",
       "<table border=\"1\" class=\"dataframe\">\n",
       "  <thead>\n",
       "    <tr style=\"text-align: right;\">\n",
       "      <th></th>\n",
       "      <th>Airline</th>\n",
       "      <th>Source</th>\n",
       "      <th>Destination</th>\n",
       "      <th>Route</th>\n",
       "      <th>Dep_Time</th>\n",
       "      <th>Arrival_Time</th>\n",
       "      <th>Duration</th>\n",
       "      <th>Total_Stops</th>\n",
       "      <th>Additional_Info</th>\n",
       "      <th>Price</th>\n",
       "    </tr>\n",
       "  </thead>\n",
       "  <tbody>\n",
       "    <tr>\n",
       "      <th>0</th>\n",
       "      <td>3</td>\n",
       "      <td>Banglore</td>\n",
       "      <td>New Delhi</td>\n",
       "      <td>BLR → DEL</td>\n",
       "      <td>22:20</td>\n",
       "      <td>01:10 22 Mar</td>\n",
       "      <td>2h 50m</td>\n",
       "      <td>non-stop</td>\n",
       "      <td>No info</td>\n",
       "      <td>3897</td>\n",
       "    </tr>\n",
       "    <tr>\n",
       "      <th>1</th>\n",
       "      <td>1</td>\n",
       "      <td>Kolkata</td>\n",
       "      <td>Banglore</td>\n",
       "      <td>CCU → IXR → BBI → BLR</td>\n",
       "      <td>05:50</td>\n",
       "      <td>13:15</td>\n",
       "      <td>7h 25m</td>\n",
       "      <td>2 stops</td>\n",
       "      <td>No info</td>\n",
       "      <td>7662</td>\n",
       "    </tr>\n",
       "    <tr>\n",
       "      <th>2</th>\n",
       "      <td>4</td>\n",
       "      <td>Delhi</td>\n",
       "      <td>Cochin</td>\n",
       "      <td>DEL → LKO → BOM → COK</td>\n",
       "      <td>09:25</td>\n",
       "      <td>04:25 10 Jun</td>\n",
       "      <td>19h</td>\n",
       "      <td>2 stops</td>\n",
       "      <td>No info</td>\n",
       "      <td>13882</td>\n",
       "    </tr>\n",
       "    <tr>\n",
       "      <th>3</th>\n",
       "      <td>3</td>\n",
       "      <td>Kolkata</td>\n",
       "      <td>Banglore</td>\n",
       "      <td>CCU → NAG → BLR</td>\n",
       "      <td>18:05</td>\n",
       "      <td>23:30</td>\n",
       "      <td>5h 25m</td>\n",
       "      <td>1 stop</td>\n",
       "      <td>No info</td>\n",
       "      <td>6218</td>\n",
       "    </tr>\n",
       "    <tr>\n",
       "      <th>4</th>\n",
       "      <td>3</td>\n",
       "      <td>Banglore</td>\n",
       "      <td>New Delhi</td>\n",
       "      <td>BLR → NAG → DEL</td>\n",
       "      <td>16:50</td>\n",
       "      <td>21:35</td>\n",
       "      <td>4h 45m</td>\n",
       "      <td>1 stop</td>\n",
       "      <td>No info</td>\n",
       "      <td>13302</td>\n",
       "    </tr>\n",
       "  </tbody>\n",
       "</table>\n",
       "</div>"
      ],
      "text/plain": [
       "   Airline    Source Destination                  Route Dep_Time  \\\n",
       "0        3  Banglore   New Delhi              BLR → DEL    22:20   \n",
       "1        1   Kolkata    Banglore  CCU → IXR → BBI → BLR    05:50   \n",
       "2        4     Delhi      Cochin  DEL → LKO → BOM → COK    09:25   \n",
       "3        3   Kolkata    Banglore        CCU → NAG → BLR    18:05   \n",
       "4        3  Banglore   New Delhi        BLR → NAG → DEL    16:50   \n",
       "\n",
       "   Arrival_Time Duration Total_Stops Additional_Info  Price  \n",
       "0  01:10 22 Mar   2h 50m    non-stop         No info   3897  \n",
       "1         13:15   7h 25m     2 stops         No info   7662  \n",
       "2  04:25 10 Jun      19h     2 stops         No info  13882  \n",
       "3         23:30   5h 25m      1 stop         No info   6218  \n",
       "4         21:35   4h 45m      1 stop         No info  13302  "
      ]
     },
     "execution_count": 84,
     "metadata": {},
     "output_type": "execute_result"
    }
   ],
   "source": [
    "df.head()"
   ]
  },
  {
   "cell_type": "code",
   "execution_count": 85,
   "id": "2f3fd3f3",
   "metadata": {},
   "outputs": [],
   "source": [
    "from sklearn.preprocessing import LabelEncoder\n",
    "LE=LabelEncoder()\n",
    "df['Source']=LE.fit_transform(df['Source'])"
   ]
  },
  {
   "cell_type": "code",
   "execution_count": 86,
   "id": "5f9f0fe7",
   "metadata": {},
   "outputs": [
    {
     "data": {
      "text/plain": [
       "array([0, 3, 2, 1, 4])"
      ]
     },
     "execution_count": 86,
     "metadata": {},
     "output_type": "execute_result"
    }
   ],
   "source": [
    "df.Source.unique()"
   ]
  },
  {
   "cell_type": "code",
   "execution_count": 87,
   "id": "d7595471",
   "metadata": {},
   "outputs": [
    {
     "data": {
      "text/html": [
       "<div>\n",
       "<style scoped>\n",
       "    .dataframe tbody tr th:only-of-type {\n",
       "        vertical-align: middle;\n",
       "    }\n",
       "\n",
       "    .dataframe tbody tr th {\n",
       "        vertical-align: top;\n",
       "    }\n",
       "\n",
       "    .dataframe thead th {\n",
       "        text-align: right;\n",
       "    }\n",
       "</style>\n",
       "<table border=\"1\" class=\"dataframe\">\n",
       "  <thead>\n",
       "    <tr style=\"text-align: right;\">\n",
       "      <th></th>\n",
       "      <th>Airline</th>\n",
       "      <th>Source</th>\n",
       "      <th>Destination</th>\n",
       "      <th>Route</th>\n",
       "      <th>Dep_Time</th>\n",
       "      <th>Arrival_Time</th>\n",
       "      <th>Duration</th>\n",
       "      <th>Total_Stops</th>\n",
       "      <th>Additional_Info</th>\n",
       "      <th>Price</th>\n",
       "    </tr>\n",
       "  </thead>\n",
       "  <tbody>\n",
       "    <tr>\n",
       "      <th>0</th>\n",
       "      <td>3</td>\n",
       "      <td>0</td>\n",
       "      <td>New Delhi</td>\n",
       "      <td>BLR → DEL</td>\n",
       "      <td>22:20</td>\n",
       "      <td>01:10 22 Mar</td>\n",
       "      <td>2h 50m</td>\n",
       "      <td>non-stop</td>\n",
       "      <td>No info</td>\n",
       "      <td>3897</td>\n",
       "    </tr>\n",
       "    <tr>\n",
       "      <th>1</th>\n",
       "      <td>1</td>\n",
       "      <td>3</td>\n",
       "      <td>Banglore</td>\n",
       "      <td>CCU → IXR → BBI → BLR</td>\n",
       "      <td>05:50</td>\n",
       "      <td>13:15</td>\n",
       "      <td>7h 25m</td>\n",
       "      <td>2 stops</td>\n",
       "      <td>No info</td>\n",
       "      <td>7662</td>\n",
       "    </tr>\n",
       "    <tr>\n",
       "      <th>2</th>\n",
       "      <td>4</td>\n",
       "      <td>2</td>\n",
       "      <td>Cochin</td>\n",
       "      <td>DEL → LKO → BOM → COK</td>\n",
       "      <td>09:25</td>\n",
       "      <td>04:25 10 Jun</td>\n",
       "      <td>19h</td>\n",
       "      <td>2 stops</td>\n",
       "      <td>No info</td>\n",
       "      <td>13882</td>\n",
       "    </tr>\n",
       "    <tr>\n",
       "      <th>3</th>\n",
       "      <td>3</td>\n",
       "      <td>3</td>\n",
       "      <td>Banglore</td>\n",
       "      <td>CCU → NAG → BLR</td>\n",
       "      <td>18:05</td>\n",
       "      <td>23:30</td>\n",
       "      <td>5h 25m</td>\n",
       "      <td>1 stop</td>\n",
       "      <td>No info</td>\n",
       "      <td>6218</td>\n",
       "    </tr>\n",
       "    <tr>\n",
       "      <th>4</th>\n",
       "      <td>3</td>\n",
       "      <td>0</td>\n",
       "      <td>New Delhi</td>\n",
       "      <td>BLR → NAG → DEL</td>\n",
       "      <td>16:50</td>\n",
       "      <td>21:35</td>\n",
       "      <td>4h 45m</td>\n",
       "      <td>1 stop</td>\n",
       "      <td>No info</td>\n",
       "      <td>13302</td>\n",
       "    </tr>\n",
       "  </tbody>\n",
       "</table>\n",
       "</div>"
      ],
      "text/plain": [
       "   Airline  Source Destination                  Route Dep_Time  Arrival_Time  \\\n",
       "0        3       0   New Delhi              BLR → DEL    22:20  01:10 22 Mar   \n",
       "1        1       3    Banglore  CCU → IXR → BBI → BLR    05:50         13:15   \n",
       "2        4       2      Cochin  DEL → LKO → BOM → COK    09:25  04:25 10 Jun   \n",
       "3        3       3    Banglore        CCU → NAG → BLR    18:05         23:30   \n",
       "4        3       0   New Delhi        BLR → NAG → DEL    16:50         21:35   \n",
       "\n",
       "  Duration Total_Stops Additional_Info  Price  \n",
       "0   2h 50m    non-stop         No info   3897  \n",
       "1   7h 25m     2 stops         No info   7662  \n",
       "2      19h     2 stops         No info  13882  \n",
       "3   5h 25m      1 stop         No info   6218  \n",
       "4   4h 45m      1 stop         No info  13302  "
      ]
     },
     "execution_count": 87,
     "metadata": {},
     "output_type": "execute_result"
    }
   ],
   "source": [
    "df.head()"
   ]
  },
  {
   "cell_type": "code",
   "execution_count": 88,
   "id": "2951b543",
   "metadata": {},
   "outputs": [],
   "source": [
    "from sklearn.preprocessing import LabelEncoder\n",
    "LE=LabelEncoder()\n",
    "df['Destination']=LE.fit_transform(df['Destination'])"
   ]
  },
  {
   "cell_type": "code",
   "execution_count": 89,
   "id": "954bf0fa",
   "metadata": {},
   "outputs": [
    {
     "data": {
      "text/plain": [
       "array([5, 0, 1, 4, 2, 3])"
      ]
     },
     "execution_count": 89,
     "metadata": {},
     "output_type": "execute_result"
    }
   ],
   "source": [
    "df.Destination.unique()"
   ]
  },
  {
   "cell_type": "code",
   "execution_count": 90,
   "id": "ed499709",
   "metadata": {},
   "outputs": [
    {
     "data": {
      "text/html": [
       "<div>\n",
       "<style scoped>\n",
       "    .dataframe tbody tr th:only-of-type {\n",
       "        vertical-align: middle;\n",
       "    }\n",
       "\n",
       "    .dataframe tbody tr th {\n",
       "        vertical-align: top;\n",
       "    }\n",
       "\n",
       "    .dataframe thead th {\n",
       "        text-align: right;\n",
       "    }\n",
       "</style>\n",
       "<table border=\"1\" class=\"dataframe\">\n",
       "  <thead>\n",
       "    <tr style=\"text-align: right;\">\n",
       "      <th></th>\n",
       "      <th>Airline</th>\n",
       "      <th>Source</th>\n",
       "      <th>Destination</th>\n",
       "      <th>Route</th>\n",
       "      <th>Dep_Time</th>\n",
       "      <th>Arrival_Time</th>\n",
       "      <th>Duration</th>\n",
       "      <th>Total_Stops</th>\n",
       "      <th>Additional_Info</th>\n",
       "      <th>Price</th>\n",
       "    </tr>\n",
       "  </thead>\n",
       "  <tbody>\n",
       "    <tr>\n",
       "      <th>0</th>\n",
       "      <td>3</td>\n",
       "      <td>0</td>\n",
       "      <td>5</td>\n",
       "      <td>BLR → DEL</td>\n",
       "      <td>22:20</td>\n",
       "      <td>01:10 22 Mar</td>\n",
       "      <td>2h 50m</td>\n",
       "      <td>non-stop</td>\n",
       "      <td>No info</td>\n",
       "      <td>3897</td>\n",
       "    </tr>\n",
       "    <tr>\n",
       "      <th>1</th>\n",
       "      <td>1</td>\n",
       "      <td>3</td>\n",
       "      <td>0</td>\n",
       "      <td>CCU → IXR → BBI → BLR</td>\n",
       "      <td>05:50</td>\n",
       "      <td>13:15</td>\n",
       "      <td>7h 25m</td>\n",
       "      <td>2 stops</td>\n",
       "      <td>No info</td>\n",
       "      <td>7662</td>\n",
       "    </tr>\n",
       "    <tr>\n",
       "      <th>2</th>\n",
       "      <td>4</td>\n",
       "      <td>2</td>\n",
       "      <td>1</td>\n",
       "      <td>DEL → LKO → BOM → COK</td>\n",
       "      <td>09:25</td>\n",
       "      <td>04:25 10 Jun</td>\n",
       "      <td>19h</td>\n",
       "      <td>2 stops</td>\n",
       "      <td>No info</td>\n",
       "      <td>13882</td>\n",
       "    </tr>\n",
       "    <tr>\n",
       "      <th>3</th>\n",
       "      <td>3</td>\n",
       "      <td>3</td>\n",
       "      <td>0</td>\n",
       "      <td>CCU → NAG → BLR</td>\n",
       "      <td>18:05</td>\n",
       "      <td>23:30</td>\n",
       "      <td>5h 25m</td>\n",
       "      <td>1 stop</td>\n",
       "      <td>No info</td>\n",
       "      <td>6218</td>\n",
       "    </tr>\n",
       "    <tr>\n",
       "      <th>4</th>\n",
       "      <td>3</td>\n",
       "      <td>0</td>\n",
       "      <td>5</td>\n",
       "      <td>BLR → NAG → DEL</td>\n",
       "      <td>16:50</td>\n",
       "      <td>21:35</td>\n",
       "      <td>4h 45m</td>\n",
       "      <td>1 stop</td>\n",
       "      <td>No info</td>\n",
       "      <td>13302</td>\n",
       "    </tr>\n",
       "  </tbody>\n",
       "</table>\n",
       "</div>"
      ],
      "text/plain": [
       "   Airline  Source  Destination                  Route Dep_Time  Arrival_Time  \\\n",
       "0        3       0            5              BLR → DEL    22:20  01:10 22 Mar   \n",
       "1        1       3            0  CCU → IXR → BBI → BLR    05:50         13:15   \n",
       "2        4       2            1  DEL → LKO → BOM → COK    09:25  04:25 10 Jun   \n",
       "3        3       3            0        CCU → NAG → BLR    18:05         23:30   \n",
       "4        3       0            5        BLR → NAG → DEL    16:50         21:35   \n",
       "\n",
       "  Duration Total_Stops Additional_Info  Price  \n",
       "0   2h 50m    non-stop         No info   3897  \n",
       "1   7h 25m     2 stops         No info   7662  \n",
       "2      19h     2 stops         No info  13882  \n",
       "3   5h 25m      1 stop         No info   6218  \n",
       "4   4h 45m      1 stop         No info  13302  "
      ]
     },
     "execution_count": 90,
     "metadata": {},
     "output_type": "execute_result"
    }
   ],
   "source": [
    "df.head()"
   ]
  },
  {
   "cell_type": "code",
   "execution_count": 91,
   "id": "318aee03",
   "metadata": {},
   "outputs": [],
   "source": [
    "from sklearn.preprocessing import LabelEncoder\n",
    "LE=LabelEncoder()\n",
    "df['Arrival_Time']=LE.fit_transform(df['Arrival_Time'])"
   ]
  },
  {
   "cell_type": "code",
   "execution_count": 92,
   "id": "a36b3d45",
   "metadata": {},
   "outputs": [
    {
     "data": {
      "text/html": [
       "<div>\n",
       "<style scoped>\n",
       "    .dataframe tbody tr th:only-of-type {\n",
       "        vertical-align: middle;\n",
       "    }\n",
       "\n",
       "    .dataframe tbody tr th {\n",
       "        vertical-align: top;\n",
       "    }\n",
       "\n",
       "    .dataframe thead th {\n",
       "        text-align: right;\n",
       "    }\n",
       "</style>\n",
       "<table border=\"1\" class=\"dataframe\">\n",
       "  <thead>\n",
       "    <tr style=\"text-align: right;\">\n",
       "      <th></th>\n",
       "      <th>Airline</th>\n",
       "      <th>Source</th>\n",
       "      <th>Destination</th>\n",
       "      <th>Route</th>\n",
       "      <th>Dep_Time</th>\n",
       "      <th>Arrival_Time</th>\n",
       "      <th>Duration</th>\n",
       "      <th>Total_Stops</th>\n",
       "      <th>Additional_Info</th>\n",
       "      <th>Price</th>\n",
       "    </tr>\n",
       "  </thead>\n",
       "  <tbody>\n",
       "    <tr>\n",
       "      <th>0</th>\n",
       "      <td>3</td>\n",
       "      <td>0</td>\n",
       "      <td>5</td>\n",
       "      <td>BLR → DEL</td>\n",
       "      <td>22:20</td>\n",
       "      <td>233</td>\n",
       "      <td>2h 50m</td>\n",
       "      <td>non-stop</td>\n",
       "      <td>No info</td>\n",
       "      <td>3897</td>\n",
       "    </tr>\n",
       "    <tr>\n",
       "      <th>1</th>\n",
       "      <td>1</td>\n",
       "      <td>3</td>\n",
       "      <td>0</td>\n",
       "      <td>CCU → IXR → BBI → BLR</td>\n",
       "      <td>05:50</td>\n",
       "      <td>906</td>\n",
       "      <td>7h 25m</td>\n",
       "      <td>2 stops</td>\n",
       "      <td>No info</td>\n",
       "      <td>7662</td>\n",
       "    </tr>\n",
       "    <tr>\n",
       "      <th>2</th>\n",
       "      <td>4</td>\n",
       "      <td>2</td>\n",
       "      <td>1</td>\n",
       "      <td>DEL → LKO → BOM → COK</td>\n",
       "      <td>09:25</td>\n",
       "      <td>413</td>\n",
       "      <td>19h</td>\n",
       "      <td>2 stops</td>\n",
       "      <td>No info</td>\n",
       "      <td>13882</td>\n",
       "    </tr>\n",
       "    <tr>\n",
       "      <th>3</th>\n",
       "      <td>3</td>\n",
       "      <td>3</td>\n",
       "      <td>0</td>\n",
       "      <td>CCU → NAG → BLR</td>\n",
       "      <td>18:05</td>\n",
       "      <td>1324</td>\n",
       "      <td>5h 25m</td>\n",
       "      <td>1 stop</td>\n",
       "      <td>No info</td>\n",
       "      <td>6218</td>\n",
       "    </tr>\n",
       "    <tr>\n",
       "      <th>4</th>\n",
       "      <td>3</td>\n",
       "      <td>0</td>\n",
       "      <td>5</td>\n",
       "      <td>BLR → NAG → DEL</td>\n",
       "      <td>16:50</td>\n",
       "      <td>1237</td>\n",
       "      <td>4h 45m</td>\n",
       "      <td>1 stop</td>\n",
       "      <td>No info</td>\n",
       "      <td>13302</td>\n",
       "    </tr>\n",
       "  </tbody>\n",
       "</table>\n",
       "</div>"
      ],
      "text/plain": [
       "   Airline  Source  Destination                  Route Dep_Time  Arrival_Time  \\\n",
       "0        3       0            5              BLR → DEL    22:20           233   \n",
       "1        1       3            0  CCU → IXR → BBI → BLR    05:50           906   \n",
       "2        4       2            1  DEL → LKO → BOM → COK    09:25           413   \n",
       "3        3       3            0        CCU → NAG → BLR    18:05          1324   \n",
       "4        3       0            5        BLR → NAG → DEL    16:50          1237   \n",
       "\n",
       "  Duration Total_Stops Additional_Info  Price  \n",
       "0   2h 50m    non-stop         No info   3897  \n",
       "1   7h 25m     2 stops         No info   7662  \n",
       "2      19h     2 stops         No info  13882  \n",
       "3   5h 25m      1 stop         No info   6218  \n",
       "4   4h 45m      1 stop         No info  13302  "
      ]
     },
     "execution_count": 92,
     "metadata": {},
     "output_type": "execute_result"
    }
   ],
   "source": [
    "df.head()"
   ]
  },
  {
   "cell_type": "code",
   "execution_count": 93,
   "id": "7c9c7832",
   "metadata": {},
   "outputs": [],
   "source": [
    "from sklearn.preprocessing import LabelEncoder\n",
    "LE=LabelEncoder()\n",
    "df['Additional_Info']=LE.fit_transform(df['Additional_Info'])"
   ]
  },
  {
   "cell_type": "code",
   "execution_count": 94,
   "id": "e25eb1ff",
   "metadata": {},
   "outputs": [
    {
     "data": {
      "text/plain": [
       "array([8, 5, 7, 1, 6, 0, 4, 3, 9, 2])"
      ]
     },
     "execution_count": 94,
     "metadata": {},
     "output_type": "execute_result"
    }
   ],
   "source": [
    "df.Additional_Info.unique()"
   ]
  },
  {
   "cell_type": "code",
   "execution_count": 95,
   "id": "dd401a5e",
   "metadata": {},
   "outputs": [
    {
     "data": {
      "text/html": [
       "<div>\n",
       "<style scoped>\n",
       "    .dataframe tbody tr th:only-of-type {\n",
       "        vertical-align: middle;\n",
       "    }\n",
       "\n",
       "    .dataframe tbody tr th {\n",
       "        vertical-align: top;\n",
       "    }\n",
       "\n",
       "    .dataframe thead th {\n",
       "        text-align: right;\n",
       "    }\n",
       "</style>\n",
       "<table border=\"1\" class=\"dataframe\">\n",
       "  <thead>\n",
       "    <tr style=\"text-align: right;\">\n",
       "      <th></th>\n",
       "      <th>Airline</th>\n",
       "      <th>Source</th>\n",
       "      <th>Destination</th>\n",
       "      <th>Route</th>\n",
       "      <th>Dep_Time</th>\n",
       "      <th>Arrival_Time</th>\n",
       "      <th>Duration</th>\n",
       "      <th>Total_Stops</th>\n",
       "      <th>Additional_Info</th>\n",
       "      <th>Price</th>\n",
       "    </tr>\n",
       "  </thead>\n",
       "  <tbody>\n",
       "    <tr>\n",
       "      <th>0</th>\n",
       "      <td>3</td>\n",
       "      <td>0</td>\n",
       "      <td>5</td>\n",
       "      <td>BLR → DEL</td>\n",
       "      <td>22:20</td>\n",
       "      <td>233</td>\n",
       "      <td>2h 50m</td>\n",
       "      <td>non-stop</td>\n",
       "      <td>8</td>\n",
       "      <td>3897</td>\n",
       "    </tr>\n",
       "    <tr>\n",
       "      <th>1</th>\n",
       "      <td>1</td>\n",
       "      <td>3</td>\n",
       "      <td>0</td>\n",
       "      <td>CCU → IXR → BBI → BLR</td>\n",
       "      <td>05:50</td>\n",
       "      <td>906</td>\n",
       "      <td>7h 25m</td>\n",
       "      <td>2 stops</td>\n",
       "      <td>8</td>\n",
       "      <td>7662</td>\n",
       "    </tr>\n",
       "    <tr>\n",
       "      <th>2</th>\n",
       "      <td>4</td>\n",
       "      <td>2</td>\n",
       "      <td>1</td>\n",
       "      <td>DEL → LKO → BOM → COK</td>\n",
       "      <td>09:25</td>\n",
       "      <td>413</td>\n",
       "      <td>19h</td>\n",
       "      <td>2 stops</td>\n",
       "      <td>8</td>\n",
       "      <td>13882</td>\n",
       "    </tr>\n",
       "    <tr>\n",
       "      <th>3</th>\n",
       "      <td>3</td>\n",
       "      <td>3</td>\n",
       "      <td>0</td>\n",
       "      <td>CCU → NAG → BLR</td>\n",
       "      <td>18:05</td>\n",
       "      <td>1324</td>\n",
       "      <td>5h 25m</td>\n",
       "      <td>1 stop</td>\n",
       "      <td>8</td>\n",
       "      <td>6218</td>\n",
       "    </tr>\n",
       "    <tr>\n",
       "      <th>4</th>\n",
       "      <td>3</td>\n",
       "      <td>0</td>\n",
       "      <td>5</td>\n",
       "      <td>BLR → NAG → DEL</td>\n",
       "      <td>16:50</td>\n",
       "      <td>1237</td>\n",
       "      <td>4h 45m</td>\n",
       "      <td>1 stop</td>\n",
       "      <td>8</td>\n",
       "      <td>13302</td>\n",
       "    </tr>\n",
       "  </tbody>\n",
       "</table>\n",
       "</div>"
      ],
      "text/plain": [
       "   Airline  Source  Destination                  Route Dep_Time  Arrival_Time  \\\n",
       "0        3       0            5              BLR → DEL    22:20           233   \n",
       "1        1       3            0  CCU → IXR → BBI → BLR    05:50           906   \n",
       "2        4       2            1  DEL → LKO → BOM → COK    09:25           413   \n",
       "3        3       3            0        CCU → NAG → BLR    18:05          1324   \n",
       "4        3       0            5        BLR → NAG → DEL    16:50          1237   \n",
       "\n",
       "  Duration Total_Stops  Additional_Info  Price  \n",
       "0   2h 50m    non-stop                8   3897  \n",
       "1   7h 25m     2 stops                8   7662  \n",
       "2      19h     2 stops                8  13882  \n",
       "3   5h 25m      1 stop                8   6218  \n",
       "4   4h 45m      1 stop                8  13302  "
      ]
     },
     "execution_count": 95,
     "metadata": {},
     "output_type": "execute_result"
    }
   ],
   "source": [
    "df.head()"
   ]
  },
  {
   "cell_type": "code",
   "execution_count": 96,
   "id": "e9ba7b17",
   "metadata": {},
   "outputs": [],
   "source": [
    "from sklearn.preprocessing import LabelEncoder\n",
    "LE=LabelEncoder()\n",
    "df['Duration']=LE.fit_transform(df['Duration'])"
   ]
  },
  {
   "cell_type": "code",
   "execution_count": 97,
   "id": "e2515772",
   "metadata": {},
   "outputs": [
    {
     "data": {
      "text/plain": [
       "array([240, 336, 106, 311, 303, 235,  65, 145, 185, 341,  38, 237, 233,\n",
       "        25, 198, 300, 151, 156, 128, 308,  63, 241,  39,  61, 315, 317,\n",
       "        40, 146, 312,   4, 309, 236, 322,  22,  23, 349, 155, 239,  24,\n",
       "        83, 116, 282, 183, 280,  74,  71, 325, 191,  28, 206,   2,   5,\n",
       "       121, 120, 197, 335,  41, 307, 117,  57, 238, 147, 362,   0, 137,\n",
       "       103,  27,  95, 358,  88,  78,  26, 337, 168, 354, 333,  53, 245,\n",
       "        60,  32,   1,  64,  59, 125, 157,  96,  72, 234, 344,  82, 281,\n",
       "        48, 165, 141, 136,   9, 346, 350,  21, 209, 348, 132, 304, 345,\n",
       "       172, 162, 188, 193, 222, 182, 359, 357, 288,  17, 361,  89, 318,\n",
       "       189, 123,  36,  99, 169, 305, 186, 323, 102, 110, 226, 367,   8,\n",
       "        19, 154, 274, 187,  46, 351, 161,  30, 170, 119,  12,  14,  54,\n",
       "        34, 356, 339,  20, 178,  94, 231, 148,  55, 334, 124, 130, 204,\n",
       "       173, 127, 313,  56, 314, 306,  70, 340, 218, 298, 285, 353, 164,\n",
       "       176, 140, 355, 324,  69, 196, 177, 192, 167, 342, 195, 158, 310,\n",
       "       295, 364, 347,  87, 343, 265, 331, 316, 332, 299,  44, 108, 150,\n",
       "        76,  45, 214, 216, 302,  67, 301, 100, 276, 326,  29,  15, 338,\n",
       "       228, 202, 163,  33, 365, 144,  10, 135, 129, 242,  37, 352, 321,\n",
       "        91, 142, 287,  86, 247, 138,  31, 174, 107, 152,  58, 134, 328,\n",
       "       221, 363,  79,  75,  80, 118, 330,  16,  51,  35, 179, 217,  92,\n",
       "       126, 224,   3,  50, 266, 268, 199, 215,  52,  47, 273, 270, 190,\n",
       "       269, 114, 213, 293,   6, 122,  73, 277, 320,  81,  49, 159,  90,\n",
       "        18,  98, 327, 250, 175, 230, 219,  85, 153, 184, 143, 259, 244,\n",
       "       284, 210, 246, 104, 211,  62,   7, 194, 271, 201,  68, 113, 149,\n",
       "       112, 180, 200, 275, 297, 181,  97, 329, 166,  93, 160,  84, 171,\n",
       "       220, 205, 109,  66, 360, 139, 263, 101, 229, 203, 232, 207,  77,\n",
       "        13, 223, 225, 262, 248, 249, 257,  11, 267, 258, 252, 115, 261,\n",
       "       243,  43, 111, 251, 264, 212, 278, 292, 296, 279, 286, 319, 256,\n",
       "       254, 260, 208, 105, 366, 290, 133, 253, 291, 283, 272, 227, 255,\n",
       "       131, 289,  42, 294])"
      ]
     },
     "execution_count": 97,
     "metadata": {},
     "output_type": "execute_result"
    }
   ],
   "source": [
    "df.Duration.unique()"
   ]
  },
  {
   "cell_type": "code",
   "execution_count": 98,
   "id": "1f80eebf",
   "metadata": {},
   "outputs": [
    {
     "data": {
      "text/html": [
       "<div>\n",
       "<style scoped>\n",
       "    .dataframe tbody tr th:only-of-type {\n",
       "        vertical-align: middle;\n",
       "    }\n",
       "\n",
       "    .dataframe tbody tr th {\n",
       "        vertical-align: top;\n",
       "    }\n",
       "\n",
       "    .dataframe thead th {\n",
       "        text-align: right;\n",
       "    }\n",
       "</style>\n",
       "<table border=\"1\" class=\"dataframe\">\n",
       "  <thead>\n",
       "    <tr style=\"text-align: right;\">\n",
       "      <th></th>\n",
       "      <th>Airline</th>\n",
       "      <th>Source</th>\n",
       "      <th>Destination</th>\n",
       "      <th>Route</th>\n",
       "      <th>Dep_Time</th>\n",
       "      <th>Arrival_Time</th>\n",
       "      <th>Duration</th>\n",
       "      <th>Total_Stops</th>\n",
       "      <th>Additional_Info</th>\n",
       "      <th>Price</th>\n",
       "    </tr>\n",
       "  </thead>\n",
       "  <tbody>\n",
       "    <tr>\n",
       "      <th>0</th>\n",
       "      <td>3</td>\n",
       "      <td>0</td>\n",
       "      <td>5</td>\n",
       "      <td>BLR → DEL</td>\n",
       "      <td>22:20</td>\n",
       "      <td>233</td>\n",
       "      <td>240</td>\n",
       "      <td>non-stop</td>\n",
       "      <td>8</td>\n",
       "      <td>3897</td>\n",
       "    </tr>\n",
       "    <tr>\n",
       "      <th>1</th>\n",
       "      <td>1</td>\n",
       "      <td>3</td>\n",
       "      <td>0</td>\n",
       "      <td>CCU → IXR → BBI → BLR</td>\n",
       "      <td>05:50</td>\n",
       "      <td>906</td>\n",
       "      <td>336</td>\n",
       "      <td>2 stops</td>\n",
       "      <td>8</td>\n",
       "      <td>7662</td>\n",
       "    </tr>\n",
       "    <tr>\n",
       "      <th>2</th>\n",
       "      <td>4</td>\n",
       "      <td>2</td>\n",
       "      <td>1</td>\n",
       "      <td>DEL → LKO → BOM → COK</td>\n",
       "      <td>09:25</td>\n",
       "      <td>413</td>\n",
       "      <td>106</td>\n",
       "      <td>2 stops</td>\n",
       "      <td>8</td>\n",
       "      <td>13882</td>\n",
       "    </tr>\n",
       "    <tr>\n",
       "      <th>3</th>\n",
       "      <td>3</td>\n",
       "      <td>3</td>\n",
       "      <td>0</td>\n",
       "      <td>CCU → NAG → BLR</td>\n",
       "      <td>18:05</td>\n",
       "      <td>1324</td>\n",
       "      <td>311</td>\n",
       "      <td>1 stop</td>\n",
       "      <td>8</td>\n",
       "      <td>6218</td>\n",
       "    </tr>\n",
       "    <tr>\n",
       "      <th>4</th>\n",
       "      <td>3</td>\n",
       "      <td>0</td>\n",
       "      <td>5</td>\n",
       "      <td>BLR → NAG → DEL</td>\n",
       "      <td>16:50</td>\n",
       "      <td>1237</td>\n",
       "      <td>303</td>\n",
       "      <td>1 stop</td>\n",
       "      <td>8</td>\n",
       "      <td>13302</td>\n",
       "    </tr>\n",
       "  </tbody>\n",
       "</table>\n",
       "</div>"
      ],
      "text/plain": [
       "   Airline  Source  Destination                  Route Dep_Time  Arrival_Time  \\\n",
       "0        3       0            5              BLR → DEL    22:20           233   \n",
       "1        1       3            0  CCU → IXR → BBI → BLR    05:50           906   \n",
       "2        4       2            1  DEL → LKO → BOM → COK    09:25           413   \n",
       "3        3       3            0        CCU → NAG → BLR    18:05          1324   \n",
       "4        3       0            5        BLR → NAG → DEL    16:50          1237   \n",
       "\n",
       "   Duration Total_Stops  Additional_Info  Price  \n",
       "0       240    non-stop                8   3897  \n",
       "1       336     2 stops                8   7662  \n",
       "2       106     2 stops                8  13882  \n",
       "3       311      1 stop                8   6218  \n",
       "4       303      1 stop                8  13302  "
      ]
     },
     "execution_count": 98,
     "metadata": {},
     "output_type": "execute_result"
    }
   ],
   "source": [
    "df.head()"
   ]
  },
  {
   "cell_type": "code",
   "execution_count": 99,
   "id": "6a28aac1",
   "metadata": {},
   "outputs": [],
   "source": [
    "from sklearn.preprocessing import LabelEncoder\n",
    "LE=LabelEncoder()\n",
    "df['Dep_Time']=LE.fit_transform(df['Dep_Time'])"
   ]
  },
  {
   "cell_type": "code",
   "execution_count": 100,
   "id": "a0580972",
   "metadata": {},
   "outputs": [
    {
     "data": {
      "text/plain": [
       "array([211,  31,  70, 164, 149,  66, 172,  55,  65,  91,  74, 188,  94,\n",
       "       198, 154, 147,  63, 118, 187, 141, 120, 207,  16, 201, 205,  45,\n",
       "        46,  75, 125,  83, 130, 121,  42, 195,  88,  30, 173, 218,  86,\n",
       "        72, 199, 221, 181,  64, 137,  34, 129, 117,  32, 111,  23,  38,\n",
       "       157,  58, 183,  39, 119,   7,  73,  59, 189, 110,   9, 150, 193,\n",
       "        25, 182, 184,  35, 178,  19, 106, 165, 155, 134, 217,  98, 127,\n",
       "        96,  92, 126, 175,  33, 220,  52, 108, 103, 131, 105, 167, 145,\n",
       "         3,  43, 107, 176,   4, 151,  77, 179, 135, 100, 142, 191, 212,\n",
       "       197,  28,  24,  41, 132,   2,  60,  47,  27, 123,  26,  80, 160,\n",
       "       109, 209,  21, 161, 200,  37, 140, 190, 156,  71,  51,  11,  85,\n",
       "       153,  67, 171, 133, 215, 128, 122, 112, 210,  87, 143, 186,  44,\n",
       "       174,  54,  53,  79,  57,  93, 196, 162, 148, 166,  15,  61, 177,\n",
       "       185, 159,  18, 158,  76,  22, 163,  12, 192, 216, 213, 202,  56,\n",
       "       152,  50, 138,  68, 139,  95, 208, 169,   1, 180, 194, 214,  82,\n",
       "       219,  97,  84,  89, 102, 124,  48,   5, 170,  69, 206, 116,   6,\n",
       "         0,  17, 115, 168,  36,   8, 101, 113,  40,  78,  62,  14, 203,\n",
       "       146,  10, 144,  29, 136, 114,  49,  20, 104,  81,  99,  90, 204,\n",
       "        13])"
      ]
     },
     "execution_count": 100,
     "metadata": {},
     "output_type": "execute_result"
    }
   ],
   "source": [
    "df.Dep_Time.unique()"
   ]
  },
  {
   "cell_type": "code",
   "execution_count": 101,
   "id": "97a05b60",
   "metadata": {},
   "outputs": [
    {
     "data": {
      "text/html": [
       "<div>\n",
       "<style scoped>\n",
       "    .dataframe tbody tr th:only-of-type {\n",
       "        vertical-align: middle;\n",
       "    }\n",
       "\n",
       "    .dataframe tbody tr th {\n",
       "        vertical-align: top;\n",
       "    }\n",
       "\n",
       "    .dataframe thead th {\n",
       "        text-align: right;\n",
       "    }\n",
       "</style>\n",
       "<table border=\"1\" class=\"dataframe\">\n",
       "  <thead>\n",
       "    <tr style=\"text-align: right;\">\n",
       "      <th></th>\n",
       "      <th>Airline</th>\n",
       "      <th>Source</th>\n",
       "      <th>Destination</th>\n",
       "      <th>Route</th>\n",
       "      <th>Dep_Time</th>\n",
       "      <th>Arrival_Time</th>\n",
       "      <th>Duration</th>\n",
       "      <th>Total_Stops</th>\n",
       "      <th>Additional_Info</th>\n",
       "      <th>Price</th>\n",
       "    </tr>\n",
       "  </thead>\n",
       "  <tbody>\n",
       "    <tr>\n",
       "      <th>0</th>\n",
       "      <td>3</td>\n",
       "      <td>0</td>\n",
       "      <td>5</td>\n",
       "      <td>BLR → DEL</td>\n",
       "      <td>211</td>\n",
       "      <td>233</td>\n",
       "      <td>240</td>\n",
       "      <td>non-stop</td>\n",
       "      <td>8</td>\n",
       "      <td>3897</td>\n",
       "    </tr>\n",
       "    <tr>\n",
       "      <th>1</th>\n",
       "      <td>1</td>\n",
       "      <td>3</td>\n",
       "      <td>0</td>\n",
       "      <td>CCU → IXR → BBI → BLR</td>\n",
       "      <td>31</td>\n",
       "      <td>906</td>\n",
       "      <td>336</td>\n",
       "      <td>2 stops</td>\n",
       "      <td>8</td>\n",
       "      <td>7662</td>\n",
       "    </tr>\n",
       "    <tr>\n",
       "      <th>2</th>\n",
       "      <td>4</td>\n",
       "      <td>2</td>\n",
       "      <td>1</td>\n",
       "      <td>DEL → LKO → BOM → COK</td>\n",
       "      <td>70</td>\n",
       "      <td>413</td>\n",
       "      <td>106</td>\n",
       "      <td>2 stops</td>\n",
       "      <td>8</td>\n",
       "      <td>13882</td>\n",
       "    </tr>\n",
       "    <tr>\n",
       "      <th>3</th>\n",
       "      <td>3</td>\n",
       "      <td>3</td>\n",
       "      <td>0</td>\n",
       "      <td>CCU → NAG → BLR</td>\n",
       "      <td>164</td>\n",
       "      <td>1324</td>\n",
       "      <td>311</td>\n",
       "      <td>1 stop</td>\n",
       "      <td>8</td>\n",
       "      <td>6218</td>\n",
       "    </tr>\n",
       "    <tr>\n",
       "      <th>4</th>\n",
       "      <td>3</td>\n",
       "      <td>0</td>\n",
       "      <td>5</td>\n",
       "      <td>BLR → NAG → DEL</td>\n",
       "      <td>149</td>\n",
       "      <td>1237</td>\n",
       "      <td>303</td>\n",
       "      <td>1 stop</td>\n",
       "      <td>8</td>\n",
       "      <td>13302</td>\n",
       "    </tr>\n",
       "  </tbody>\n",
       "</table>\n",
       "</div>"
      ],
      "text/plain": [
       "   Airline  Source  Destination                  Route  Dep_Time  \\\n",
       "0        3       0            5              BLR → DEL       211   \n",
       "1        1       3            0  CCU → IXR → BBI → BLR        31   \n",
       "2        4       2            1  DEL → LKO → BOM → COK        70   \n",
       "3        3       3            0        CCU → NAG → BLR       164   \n",
       "4        3       0            5        BLR → NAG → DEL       149   \n",
       "\n",
       "   Arrival_Time  Duration Total_Stops  Additional_Info  Price  \n",
       "0           233       240    non-stop                8   3897  \n",
       "1           906       336     2 stops                8   7662  \n",
       "2           413       106     2 stops                8  13882  \n",
       "3          1324       311      1 stop                8   6218  \n",
       "4          1237       303      1 stop                8  13302  "
      ]
     },
     "execution_count": 101,
     "metadata": {},
     "output_type": "execute_result"
    }
   ],
   "source": [
    "df.head()"
   ]
  },
  {
   "cell_type": "code",
   "execution_count": 102,
   "id": "29a7d3e3",
   "metadata": {},
   "outputs": [
    {
     "data": {
      "text/plain": [
       "Index(['Airline', 'Source', 'Destination', 'Route', 'Dep_Time', 'Arrival_Time',\n",
       "       'Duration', 'Total_Stops', 'Additional_Info', 'Price'],\n",
       "      dtype='object')"
      ]
     },
     "execution_count": 102,
     "metadata": {},
     "output_type": "execute_result"
    }
   ],
   "source": [
    "df.columns"
   ]
  },
  {
   "cell_type": "code",
   "execution_count": 103,
   "id": "ac65f130",
   "metadata": {},
   "outputs": [],
   "source": [
    "df.drop(['Route','Total_Stops'],axis=1,inplace=True)"
   ]
  },
  {
   "cell_type": "code",
   "execution_count": 104,
   "id": "06352c65",
   "metadata": {},
   "outputs": [
    {
     "data": {
      "text/html": [
       "<div>\n",
       "<style scoped>\n",
       "    .dataframe tbody tr th:only-of-type {\n",
       "        vertical-align: middle;\n",
       "    }\n",
       "\n",
       "    .dataframe tbody tr th {\n",
       "        vertical-align: top;\n",
       "    }\n",
       "\n",
       "    .dataframe thead th {\n",
       "        text-align: right;\n",
       "    }\n",
       "</style>\n",
       "<table border=\"1\" class=\"dataframe\">\n",
       "  <thead>\n",
       "    <tr style=\"text-align: right;\">\n",
       "      <th></th>\n",
       "      <th>Airline</th>\n",
       "      <th>Source</th>\n",
       "      <th>Destination</th>\n",
       "      <th>Dep_Time</th>\n",
       "      <th>Arrival_Time</th>\n",
       "      <th>Duration</th>\n",
       "      <th>Additional_Info</th>\n",
       "      <th>Price</th>\n",
       "    </tr>\n",
       "  </thead>\n",
       "  <tbody>\n",
       "    <tr>\n",
       "      <th>0</th>\n",
       "      <td>3</td>\n",
       "      <td>0</td>\n",
       "      <td>5</td>\n",
       "      <td>211</td>\n",
       "      <td>233</td>\n",
       "      <td>240</td>\n",
       "      <td>8</td>\n",
       "      <td>3897</td>\n",
       "    </tr>\n",
       "    <tr>\n",
       "      <th>1</th>\n",
       "      <td>1</td>\n",
       "      <td>3</td>\n",
       "      <td>0</td>\n",
       "      <td>31</td>\n",
       "      <td>906</td>\n",
       "      <td>336</td>\n",
       "      <td>8</td>\n",
       "      <td>7662</td>\n",
       "    </tr>\n",
       "    <tr>\n",
       "      <th>2</th>\n",
       "      <td>4</td>\n",
       "      <td>2</td>\n",
       "      <td>1</td>\n",
       "      <td>70</td>\n",
       "      <td>413</td>\n",
       "      <td>106</td>\n",
       "      <td>8</td>\n",
       "      <td>13882</td>\n",
       "    </tr>\n",
       "    <tr>\n",
       "      <th>3</th>\n",
       "      <td>3</td>\n",
       "      <td>3</td>\n",
       "      <td>0</td>\n",
       "      <td>164</td>\n",
       "      <td>1324</td>\n",
       "      <td>311</td>\n",
       "      <td>8</td>\n",
       "      <td>6218</td>\n",
       "    </tr>\n",
       "    <tr>\n",
       "      <th>4</th>\n",
       "      <td>3</td>\n",
       "      <td>0</td>\n",
       "      <td>5</td>\n",
       "      <td>149</td>\n",
       "      <td>1237</td>\n",
       "      <td>303</td>\n",
       "      <td>8</td>\n",
       "      <td>13302</td>\n",
       "    </tr>\n",
       "  </tbody>\n",
       "</table>\n",
       "</div>"
      ],
      "text/plain": [
       "   Airline  Source  Destination  Dep_Time  Arrival_Time  Duration  \\\n",
       "0        3       0            5       211           233       240   \n",
       "1        1       3            0        31           906       336   \n",
       "2        4       2            1        70           413       106   \n",
       "3        3       3            0       164          1324       311   \n",
       "4        3       0            5       149          1237       303   \n",
       "\n",
       "   Additional_Info  Price  \n",
       "0                8   3897  \n",
       "1                8   7662  \n",
       "2                8  13882  \n",
       "3                8   6218  \n",
       "4                8  13302  "
      ]
     },
     "execution_count": 104,
     "metadata": {},
     "output_type": "execute_result"
    }
   ],
   "source": [
    "df.head()"
   ]
  },
  {
   "cell_type": "markdown",
   "id": "106a60ae",
   "metadata": {},
   "source": [
    "# Missing Value Handaling Method"
   ]
  },
  {
   "cell_type": "code",
   "execution_count": 105,
   "id": "c48c8f5a",
   "metadata": {},
   "outputs": [
    {
     "data": {
      "text/plain": [
       "Airline            0\n",
       "Source             0\n",
       "Destination        0\n",
       "Dep_Time           0\n",
       "Arrival_Time       0\n",
       "Duration           0\n",
       "Additional_Info    0\n",
       "Price              0\n",
       "dtype: int64"
      ]
     },
     "execution_count": 105,
     "metadata": {},
     "output_type": "execute_result"
    }
   ],
   "source": [
    "df.isnull().sum()"
   ]
  },
  {
   "cell_type": "code",
   "execution_count": 106,
   "id": "c6114c5f",
   "metadata": {},
   "outputs": [],
   "source": [
    "df[\"Airline\"]=df[\"Airline\"].fillna(df[\"Airline\"].mean())\n",
    "df[\"Source\"]=df[\"Source\"].fillna(df[\"Source\"].median())"
   ]
  },
  {
   "cell_type": "markdown",
   "id": "82a46a44",
   "metadata": {},
   "source": [
    "# Checking Skewness"
   ]
  },
  {
   "cell_type": "code",
   "execution_count": 108,
   "id": "d5830850",
   "metadata": {},
   "outputs": [
    {
     "data": {
      "text/plain": [
       "Airline            0.731095\n",
       "Source            -0.424054\n",
       "Destination        1.244169\n",
       "Dep_Time           0.195055\n",
       "Arrival_Time      -0.606530\n",
       "Duration          -0.213427\n",
       "Additional_Info   -1.779838\n",
       "Price              1.812552\n",
       "dtype: float64"
      ]
     },
     "execution_count": 108,
     "metadata": {},
     "output_type": "execute_result"
    }
   ],
   "source": [
    "df.skew()"
   ]
  },
  {
   "cell_type": "markdown",
   "id": "a9f82fc0",
   "metadata": {},
   "source": [
    "Dataset contains the skewness values"
   ]
  },
  {
   "cell_type": "markdown",
   "id": "72977922",
   "metadata": {},
   "source": [
    "# Removing The Outliers "
   ]
  },
  {
   "cell_type": "code",
   "execution_count": 109,
   "id": "53ce475e",
   "metadata": {},
   "outputs": [
    {
     "data": {
      "text/plain": [
       "array([[0.41067545, 1.65844074, 2.41666505, ..., 0.42287466, 0.49989167,\n",
       "        1.12554821],\n",
       "       [1.26099927, 0.89005213, 0.97382594, ..., 1.30672664, 0.49989167,\n",
       "        0.30904789],\n",
       "       [0.01448647, 0.04055451, 0.29572775, ..., 0.81083539, 0.49989167,\n",
       "        1.03985835],\n",
       "       ...,\n",
       "       [0.01448647, 1.65844074, 0.38237045, ..., 0.79114632, 0.49989167,\n",
       "        0.40295085],\n",
       "       [2.56545795, 1.65844074, 2.41666505, ..., 0.40446108, 0.49989167,\n",
       "        0.77224576],\n",
       "       [1.26099927, 0.04055451, 0.29572775, ..., 1.40800134, 0.49989167,\n",
       "        0.57815073]])"
      ]
     },
     "execution_count": 109,
     "metadata": {},
     "output_type": "execute_result"
    }
   ],
   "source": [
    "from scipy.stats import zscore\n",
    "z=np.abs(zscore(df))\n",
    "z"
   ]
  },
  {
   "cell_type": "markdown",
   "id": "755b6f29",
   "metadata": {},
   "source": [
    "Here removing the outliers of df"
   ]
  },
  {
   "cell_type": "code",
   "execution_count": 110,
   "id": "08951e17",
   "metadata": {},
   "outputs": [
    {
     "name": "stdout",
     "output_type": "stream",
     "text": [
      "(array([  123,   396,   486,   510,   597,   628,   657,   785,   785,\n",
      "         826,   936,   946,   959,   975,  1043,  1196,  1246,  1341,\n",
      "        1424,  1466,  1478,  1629,  1654,  1785,  1918,  2055,  2079,\n",
      "        2099,  2108,  2405,  2481,  2495,  2495,  2556,  2556,  2618,\n",
      "        2635,  2693,  2924,  2924,  3032,  3032,  3111,  3111,  3257,\n",
      "        3400,  3535,  3700,  3700,  3788,  4012,  4521,  4521,  4676,\n",
      "        4829,  5013,  5013,  5136,  5372,  5372,  5439,  5628,  5662,\n",
      "        5701,  5710,  5719,  5738,  5745,  5856,  5986,  6024,  6314,\n",
      "        6336,  6407,  6576,  6576,  6588,  6605,  6991,  7351,  7356,\n",
      "        7377,  7537,  7554,  7617,  7713,  7724,  7724,  7756,  7902,\n",
      "        8020,  8080,  8451,  8470,  8536,  8598,  8856,  8940,  8957,\n",
      "        8957,  8990,  9019,  9019,  9193,  9239,  9632,  9657,  9715,\n",
      "        9974, 10052, 10113, 10160, 10182, 10189, 10353, 10364, 10364,\n",
      "       10383, 10439, 10511, 10511], dtype=int64), array([7, 7, 7, 7, 7, 7, 7, 6, 7, 7, 7, 7, 7, 7, 6, 7, 7, 7, 7, 7, 7, 7,\n",
      "       7, 7, 7, 7, 6, 7, 7, 6, 6, 6, 7, 6, 7, 7, 7, 7, 6, 7, 6, 7, 6, 7,\n",
      "       7, 7, 7, 6, 7, 6, 7, 6, 7, 7, 7, 6, 7, 7, 6, 7, 7, 6, 7, 7, 7, 7,\n",
      "       7, 7, 7, 7, 6, 7, 6, 7, 6, 7, 7, 7, 7, 7, 7, 7, 7, 7, 7, 7, 6, 7,\n",
      "       7, 7, 7, 7, 7, 7, 7, 7, 7, 7, 6, 7, 7, 6, 7, 7, 7, 7, 6, 7, 7, 7,\n",
      "       7, 7, 7, 7, 7, 6, 7, 7, 7, 6, 7], dtype=int64))\n"
     ]
    }
   ],
   "source": [
    "threshold=3\n",
    "print(np.where(z>3))"
   ]
  },
  {
   "cell_type": "code",
   "execution_count": 111,
   "id": "c6d4237e",
   "metadata": {},
   "outputs": [
    {
     "data": {
      "text/html": [
       "<div>\n",
       "<style scoped>\n",
       "    .dataframe tbody tr th:only-of-type {\n",
       "        vertical-align: middle;\n",
       "    }\n",
       "\n",
       "    .dataframe tbody tr th {\n",
       "        vertical-align: top;\n",
       "    }\n",
       "\n",
       "    .dataframe thead th {\n",
       "        text-align: right;\n",
       "    }\n",
       "</style>\n",
       "<table border=\"1\" class=\"dataframe\">\n",
       "  <thead>\n",
       "    <tr style=\"text-align: right;\">\n",
       "      <th></th>\n",
       "      <th>Airline</th>\n",
       "      <th>Source</th>\n",
       "      <th>Destination</th>\n",
       "      <th>Dep_Time</th>\n",
       "      <th>Arrival_Time</th>\n",
       "      <th>Duration</th>\n",
       "      <th>Additional_Info</th>\n",
       "      <th>Price</th>\n",
       "    </tr>\n",
       "  </thead>\n",
       "  <tbody>\n",
       "    <tr>\n",
       "      <th>0</th>\n",
       "      <td>3</td>\n",
       "      <td>0</td>\n",
       "      <td>5</td>\n",
       "      <td>211</td>\n",
       "      <td>233</td>\n",
       "      <td>240</td>\n",
       "      <td>8</td>\n",
       "      <td>3897</td>\n",
       "    </tr>\n",
       "    <tr>\n",
       "      <th>1</th>\n",
       "      <td>1</td>\n",
       "      <td>3</td>\n",
       "      <td>0</td>\n",
       "      <td>31</td>\n",
       "      <td>906</td>\n",
       "      <td>336</td>\n",
       "      <td>8</td>\n",
       "      <td>7662</td>\n",
       "    </tr>\n",
       "    <tr>\n",
       "      <th>2</th>\n",
       "      <td>4</td>\n",
       "      <td>2</td>\n",
       "      <td>1</td>\n",
       "      <td>70</td>\n",
       "      <td>413</td>\n",
       "      <td>106</td>\n",
       "      <td>8</td>\n",
       "      <td>13882</td>\n",
       "    </tr>\n",
       "    <tr>\n",
       "      <th>3</th>\n",
       "      <td>3</td>\n",
       "      <td>3</td>\n",
       "      <td>0</td>\n",
       "      <td>164</td>\n",
       "      <td>1324</td>\n",
       "      <td>311</td>\n",
       "      <td>8</td>\n",
       "      <td>6218</td>\n",
       "    </tr>\n",
       "    <tr>\n",
       "      <th>4</th>\n",
       "      <td>3</td>\n",
       "      <td>0</td>\n",
       "      <td>5</td>\n",
       "      <td>149</td>\n",
       "      <td>1237</td>\n",
       "      <td>303</td>\n",
       "      <td>8</td>\n",
       "      <td>13302</td>\n",
       "    </tr>\n",
       "    <tr>\n",
       "      <th>...</th>\n",
       "      <td>...</td>\n",
       "      <td>...</td>\n",
       "      <td>...</td>\n",
       "      <td>...</td>\n",
       "      <td>...</td>\n",
       "      <td>...</td>\n",
       "      <td>...</td>\n",
       "      <td>...</td>\n",
       "    </tr>\n",
       "    <tr>\n",
       "      <th>10678</th>\n",
       "      <td>0</td>\n",
       "      <td>3</td>\n",
       "      <td>0</td>\n",
       "      <td>183</td>\n",
       "      <td>1259</td>\n",
       "      <td>236</td>\n",
       "      <td>8</td>\n",
       "      <td>4107</td>\n",
       "    </tr>\n",
       "    <tr>\n",
       "      <th>10679</th>\n",
       "      <td>1</td>\n",
       "      <td>3</td>\n",
       "      <td>0</td>\n",
       "      <td>193</td>\n",
       "      <td>1305</td>\n",
       "      <td>237</td>\n",
       "      <td>8</td>\n",
       "      <td>4145</td>\n",
       "    </tr>\n",
       "    <tr>\n",
       "      <th>10680</th>\n",
       "      <td>4</td>\n",
       "      <td>0</td>\n",
       "      <td>2</td>\n",
       "      <td>58</td>\n",
       "      <td>824</td>\n",
       "      <td>280</td>\n",
       "      <td>8</td>\n",
       "      <td>7229</td>\n",
       "    </tr>\n",
       "    <tr>\n",
       "      <th>10681</th>\n",
       "      <td>10</td>\n",
       "      <td>0</td>\n",
       "      <td>5</td>\n",
       "      <td>92</td>\n",
       "      <td>938</td>\n",
       "      <td>238</td>\n",
       "      <td>8</td>\n",
       "      <td>12648</td>\n",
       "    </tr>\n",
       "    <tr>\n",
       "      <th>10682</th>\n",
       "      <td>1</td>\n",
       "      <td>2</td>\n",
       "      <td>1</td>\n",
       "      <td>85</td>\n",
       "      <td>1124</td>\n",
       "      <td>347</td>\n",
       "      <td>8</td>\n",
       "      <td>11753</td>\n",
       "    </tr>\n",
       "  </tbody>\n",
       "</table>\n",
       "<p>10578 rows × 8 columns</p>\n",
       "</div>"
      ],
      "text/plain": [
       "       Airline  Source  Destination  Dep_Time  Arrival_Time  Duration  \\\n",
       "0            3       0            5       211           233       240   \n",
       "1            1       3            0        31           906       336   \n",
       "2            4       2            1        70           413       106   \n",
       "3            3       3            0       164          1324       311   \n",
       "4            3       0            5       149          1237       303   \n",
       "...        ...     ...          ...       ...           ...       ...   \n",
       "10678        0       3            0       183          1259       236   \n",
       "10679        1       3            0       193          1305       237   \n",
       "10680        4       0            2        58           824       280   \n",
       "10681       10       0            5        92           938       238   \n",
       "10682        1       2            1        85          1124       347   \n",
       "\n",
       "       Additional_Info  Price  \n",
       "0                    8   3897  \n",
       "1                    8   7662  \n",
       "2                    8  13882  \n",
       "3                    8   6218  \n",
       "4                    8  13302  \n",
       "...                ...    ...  \n",
       "10678                8   4107  \n",
       "10679                8   4145  \n",
       "10680                8   7229  \n",
       "10681                8  12648  \n",
       "10682                8  11753  \n",
       "\n",
       "[10578 rows x 8 columns]"
      ]
     },
     "execution_count": 111,
     "metadata": {},
     "output_type": "execute_result"
    }
   ],
   "source": [
    "df_new=df[(z<3).all(axis=1)]\n",
    "df_new"
   ]
  },
  {
   "cell_type": "markdown",
   "id": "21b810d8",
   "metadata": {},
   "source": [
    "Here new dataset contains 10578 rows and 8 columns\n",
    "\n"
   ]
  },
  {
   "cell_type": "code",
   "execution_count": 112,
   "id": "70b815c9",
   "metadata": {},
   "outputs": [
    {
     "data": {
      "text/plain": [
       "(10683, 8)"
      ]
     },
     "execution_count": 112,
     "metadata": {},
     "output_type": "execute_result"
    }
   ],
   "source": [
    "df.shape"
   ]
  },
  {
   "cell_type": "code",
   "execution_count": 114,
   "id": "9328795a",
   "metadata": {},
   "outputs": [
    {
     "data": {
      "text/plain": [
       "(10578, 8)"
      ]
     },
     "execution_count": 114,
     "metadata": {},
     "output_type": "execute_result"
    }
   ],
   "source": [
    "df_new.shape"
   ]
  },
  {
   "cell_type": "markdown",
   "id": "709e36da",
   "metadata": {},
   "source": [
    "# StandardScalar Method"
   ]
  },
  {
   "cell_type": "code",
   "execution_count": 116,
   "id": "4b8d1c73",
   "metadata": {},
   "outputs": [],
   "source": [
    "from sklearn.preprocessing import StandardScaler\n",
    "\n",
    "scaler = StandardScaler()\n",
    "scaledX = scaler.fit_transform(df)"
   ]
  },
  {
   "cell_type": "code",
   "execution_count": 117,
   "id": "fda4d300",
   "metadata": {},
   "outputs": [
    {
     "data": {
      "text/plain": [
       "array([[-0.41067545, -1.65844074,  2.41666505, ...,  0.42287466,\n",
       "         0.49989167, -1.12554821],\n",
       "       [-1.26099927,  0.89005213, -0.97382594, ...,  1.30672664,\n",
       "         0.49989167, -0.30904789],\n",
       "       [ 0.01448647,  0.04055451, -0.29572775, ..., -0.81083539,\n",
       "         0.49989167,  1.03985835],\n",
       "       ...,\n",
       "       [ 0.01448647, -1.65844074,  0.38237045, ...,  0.79114632,\n",
       "         0.49989167, -0.40295085],\n",
       "       [ 2.56545795, -1.65844074,  2.41666505, ...,  0.40446108,\n",
       "         0.49989167,  0.77224576],\n",
       "       [-1.26099927,  0.04055451, -0.29572775, ...,  1.40800134,\n",
       "         0.49989167,  0.57815073]])"
      ]
     },
     "execution_count": 117,
     "metadata": {},
     "output_type": "execute_result"
    }
   ],
   "source": [
    "scaledX"
   ]
  },
  {
   "cell_type": "code",
   "execution_count": 118,
   "id": "1e3bc371",
   "metadata": {},
   "outputs": [],
   "source": [
    "from sklearn.decomposition import PCA\n",
    "\n",
    "testpca = PCA()\n",
    "Y = testpca.fit(scaledX)"
   ]
  },
  {
   "cell_type": "code",
   "execution_count": 119,
   "id": "5f7cfb14",
   "metadata": {},
   "outputs": [
    {
     "data": {
      "text/plain": [
       "array([0.2076876 , 0.14460308, 0.13320377, 0.12959327, 0.12464396,\n",
       "       0.10903691, 0.10426519, 0.04696621])"
      ]
     },
     "execution_count": 119,
     "metadata": {},
     "output_type": "execute_result"
    }
   ],
   "source": [
    "Y.explained_variance_ratio_"
   ]
  },
  {
   "cell_type": "code",
   "execution_count": 120,
   "id": "f7bbce28",
   "metadata": {},
   "outputs": [
    {
     "data": {
      "text/plain": [
       "array([ 20.76875986,  35.22906744,  48.54944475,  61.50877202,\n",
       "        73.97316832,  84.8768598 ,  95.30337909, 100.        ])"
      ]
     },
     "execution_count": 120,
     "metadata": {},
     "output_type": "execute_result"
    }
   ],
   "source": [
    "var_cumu = np.cumsum(Y.explained_variance_ratio_)*100\n",
    "var_cumu"
   ]
  },
  {
   "cell_type": "code",
   "execution_count": 121,
   "id": "9db1b91d",
   "metadata": {},
   "outputs": [
    {
     "name": "stdout",
     "output_type": "stream",
     "text": [
      "Number of components explaining 99% variance: 7\n"
     ]
    }
   ],
   "source": [
    "k = np.argmax(var_cumu>99)\n",
    "print(\"Number of components explaining 99% variance:\",k)"
   ]
  },
  {
   "cell_type": "code",
   "execution_count": 122,
   "id": "8a0fa416",
   "metadata": {},
   "outputs": [
    {
     "data": {
      "image/png": "[encoded data removed]",
      "text/plain": [
       "<Figure size 432x288 with 1 Axes>"
      ]
     },
     "metadata": {
      "needs_background": "light"
     },
     "output_type": "display_data"
    }
   ],
   "source": [
    "plt.ylabel('Cumulative Expalined varience')\n",
    "plt.xlabel('Principle components')\n",
    "plt.axvline(x=k, color=\"k\",linestyle=\"--\")\n",
    "plt.axhline(y=9, color=\"r\",linestyle=\"--\")\n",
    "\n",
    "plt.plot(var_cumu)\n",
    "plt.show()"
   ]
  },
  {
   "cell_type": "markdown",
   "id": "49329a8d",
   "metadata": {},
   "source": [
    "# Model Building"
   ]
  },
  {
   "cell_type": "code",
   "execution_count": 123,
   "id": "54054841",
   "metadata": {},
   "outputs": [],
   "source": [
    "x_train = df.drop(['Source'],axis=1)\n",
    "y_train = df.Source"
   ]
  },
  {
   "cell_type": "code",
   "execution_count": 124,
   "id": "dd4b4c17",
   "metadata": {},
   "outputs": [
    {
     "data": {
      "text/html": [
       "<div>\n",
       "<style scoped>\n",
       "    .dataframe tbody tr th:only-of-type {\n",
       "        vertical-align: middle;\n",
       "    }\n",
       "\n",
       "    .dataframe tbody tr th {\n",
       "        vertical-align: top;\n",
       "    }\n",
       "\n",
       "    .dataframe thead th {\n",
       "        text-align: right;\n",
       "    }\n",
       "</style>\n",
       "<table border=\"1\" class=\"dataframe\">\n",
       "  <thead>\n",
       "    <tr style=\"text-align: right;\">\n",
       "      <th></th>\n",
       "      <th>Airline</th>\n",
       "      <th>Destination</th>\n",
       "      <th>Dep_Time</th>\n",
       "      <th>Arrival_Time</th>\n",
       "      <th>Duration</th>\n",
       "      <th>Additional_Info</th>\n",
       "      <th>Price</th>\n",
       "    </tr>\n",
       "  </thead>\n",
       "  <tbody>\n",
       "    <tr>\n",
       "      <th>0</th>\n",
       "      <td>3</td>\n",
       "      <td>5</td>\n",
       "      <td>211</td>\n",
       "      <td>233</td>\n",
       "      <td>240</td>\n",
       "      <td>8</td>\n",
       "      <td>3897</td>\n",
       "    </tr>\n",
       "    <tr>\n",
       "      <th>1</th>\n",
       "      <td>1</td>\n",
       "      <td>0</td>\n",
       "      <td>31</td>\n",
       "      <td>906</td>\n",
       "      <td>336</td>\n",
       "      <td>8</td>\n",
       "      <td>7662</td>\n",
       "    </tr>\n",
       "    <tr>\n",
       "      <th>2</th>\n",
       "      <td>4</td>\n",
       "      <td>1</td>\n",
       "      <td>70</td>\n",
       "      <td>413</td>\n",
       "      <td>106</td>\n",
       "      <td>8</td>\n",
       "      <td>13882</td>\n",
       "    </tr>\n",
       "    <tr>\n",
       "      <th>3</th>\n",
       "      <td>3</td>\n",
       "      <td>0</td>\n",
       "      <td>164</td>\n",
       "      <td>1324</td>\n",
       "      <td>311</td>\n",
       "      <td>8</td>\n",
       "      <td>6218</td>\n",
       "    </tr>\n",
       "    <tr>\n",
       "      <th>4</th>\n",
       "      <td>3</td>\n",
       "      <td>5</td>\n",
       "      <td>149</td>\n",
       "      <td>1237</td>\n",
       "      <td>303</td>\n",
       "      <td>8</td>\n",
       "      <td>13302</td>\n",
       "    </tr>\n",
       "  </tbody>\n",
       "</table>\n",
       "</div>"
      ],
      "text/plain": [
       "   Airline  Destination  Dep_Time  Arrival_Time  Duration  Additional_Info  \\\n",
       "0        3            5       211           233       240                8   \n",
       "1        1            0        31           906       336                8   \n",
       "2        4            1        70           413       106                8   \n",
       "3        3            0       164          1324       311                8   \n",
       "4        3            5       149          1237       303                8   \n",
       "\n",
       "   Price  \n",
       "0   3897  \n",
       "1   7662  \n",
       "2  13882  \n",
       "3   6218  \n",
       "4  13302  "
      ]
     },
     "execution_count": 124,
     "metadata": {},
     "output_type": "execute_result"
    }
   ],
   "source": [
    "x_train.head()"
   ]
  },
  {
   "cell_type": "code",
   "execution_count": 125,
   "id": "31915353",
   "metadata": {},
   "outputs": [
    {
     "data": {
      "text/plain": [
       "0    0\n",
       "1    3\n",
       "2    2\n",
       "3    3\n",
       "4    0\n",
       "Name: Source, dtype: int32"
      ]
     },
     "execution_count": 125,
     "metadata": {},
     "output_type": "execute_result"
    }
   ],
   "source": [
    "y_train.head()"
   ]
  },
  {
   "cell_type": "code",
   "execution_count": 126,
   "id": "f9fca6b9",
   "metadata": {},
   "outputs": [
    {
     "data": {
      "text/plain": [
       "(10683, 7)"
      ]
     },
     "execution_count": 126,
     "metadata": {},
     "output_type": "execute_result"
    }
   ],
   "source": [
    "x_train.shape"
   ]
  },
  {
   "cell_type": "code",
   "execution_count": 127,
   "id": "16d3f8c2",
   "metadata": {},
   "outputs": [
    {
     "data": {
      "text/plain": [
       "(10683,)"
      ]
     },
     "execution_count": 127,
     "metadata": {},
     "output_type": "execute_result"
    }
   ],
   "source": [
    "y_train.shape"
   ]
  },
  {
   "cell_type": "markdown",
   "id": "a08be74d",
   "metadata": {},
   "source": [
    "# Regressor Methods"
   ]
  },
  {
   "cell_type": "code",
   "execution_count": 128,
   "id": "aedb6a64",
   "metadata": {},
   "outputs": [],
   "source": [
    "from sklearn.model_selection import train_test_split\n",
    "\n",
    "from sklearn.metrics import accuracy_score"
   ]
  },
  {
   "cell_type": "code",
   "execution_count": 129,
   "id": "134617d0",
   "metadata": {},
   "outputs": [],
   "source": [
    "x= df.drop(['Source'],axis=1)\n",
    "y = df[\"Source\"]\n",
    "x_train, x_test, y_train, y_test=train_test_split(x, y, random_state=0, test_size=0.2)"
   ]
  },
  {
   "cell_type": "code",
   "execution_count": 130,
   "id": "2eb00831",
   "metadata": {},
   "outputs": [
    {
     "name": "stdout",
     "output_type": "stream",
     "text": [
      "0.11788454892243297\n",
      "0.06943577811935481\n",
      "0.11908137705738524\n",
      "0.06943577811935481\n",
      "0.09674216804911331\n",
      "0.0673625993842474\n",
      "0.0\n",
      "0.09526510164590819\n",
      "0.09526510164590819\n",
      "0.09819701913032057\n",
      "0.0673625993842474\n",
      "0.13681408610843315\n",
      "0.01684064984606185\n",
      "0.0\n",
      "0.0673625993842474\n",
      "0.11788454892243297\n",
      "0.09674216804911331\n",
      "0.06943577811935481\n",
      "0.07144882623443113\n",
      "0.01684064984606185\n",
      "0.11908137705738524\n",
      "0.06943577811935481\n",
      "0.09674216804911331\n",
      "0.09526510164590819\n",
      "0.09819701913032057\n",
      "0.0673625993842474\n",
      "0.0673625993842474\n",
      "0.11908137705738524\n",
      "0.0\n",
      "0.11788454892243297\n",
      "0.07144882623443113\n",
      "0.0673625993842474\n",
      "0.09526510164590819\n",
      "0.11788454892243297\n",
      "0.06943577811935481\n",
      "0.09526510164590819\n",
      "0.09526510164590819\n",
      "0.0673625993842474\n",
      "0.09819701913032057\n",
      "0.09819701913032057\n",
      "0.07340669082253741\n",
      "0.023816275411477048\n",
      "0.023816275411477048\n",
      "0.12375299717919484\n",
      "0.09526510164590819\n",
      "0.06943577811935481\n",
      "0.09674216804911331\n",
      "0.07531367568213133\n",
      "0.01684064984606185\n",
      "0.06943577811935481\n",
      "0.06943577811935481\n",
      "0.0\n",
      "0.0\n",
      "0.06943577811935481\n",
      "0.1347251987684948\n",
      "0.01684064984606185\n",
      "0.0673625993842474\n",
      "0.09674216804911331\n",
      "0.0673625993842474\n",
      "0.01684064984606185\n",
      "0.01684064984606185\n",
      "0.0\n",
      "0.01684064984606185\n",
      "0.023816275411477048\n",
      "0.07340669082253741\n",
      "0.0336812996921237\n",
      "0.01684064984606185\n",
      "0.023816275411477048\n",
      "0.0673625993842474\n",
      "0.07144882623443113\n",
      "0.15249857033260467\n",
      "0.01684064984606185\n",
      "0.0\n",
      "0.09674216804911331\n",
      "0.09819701913032057\n",
      "0.1347251987684948\n",
      "0.11908137705738524\n",
      "0.07144882623443113\n",
      "0.023816275411477048\n",
      "0.06943577811935481\n",
      "0.09526510164590819\n",
      "0.09526510164590819\n",
      "0.06943577811935481\n",
      "0.01684064984606185\n",
      "0.02916886116585612\n",
      "0.0\n",
      "0.0\n",
      "0.0\n",
      "0.0\n",
      "0.07340669082253741\n",
      "0.06943577811935481\n",
      "0.0\n",
      "0.06943577811935481\n",
      "0.0673625993842474\n",
      "0.07144882623443113\n",
      "0.0\n",
      "0.06943577811935481\n",
      "0.07144882623443113\n",
      "0.07340669082253741\n",
      "0.09819701913032057\n",
      "0.0673625993842474\n",
      "0.09819701913032057\n",
      "0.09674216804911331\n",
      "0.11667544466342449\n",
      "0.06943577811935481\n",
      "0.09674216804911331\n",
      "0.07144882623443113\n",
      "0.0673625993842474\n",
      "0.0\n",
      "0.0\n",
      "0.0\n",
      "0.01684064984606185\n",
      "0.0336812996921237\n",
      "0.07144882623443113\n",
      "0.09963062808854618\n",
      "0.11788454892243297\n",
      "0.07144882623443113\n",
      "0.01684064984606185\n",
      "0.06943577811935481\n",
      "0.0\n",
      "0.0673625993842474\n",
      "0.09526510164590819\n",
      "0.0673625993842474\n",
      "0.0\n",
      "0.023816275411477048\n",
      "0.09963062808854618\n",
      "0.06943577811935481\n",
      "0.02916886116585612\n",
      "0.023816275411477048\n",
      "0.0673625993842474\n",
      "0.02916886116585612\n",
      "0.09526510164590819\n",
      "0.0\n",
      "0.11788454892243297\n",
      "0.11788454892243297\n",
      "0.023816275411477048\n",
      "0.01684064984606185\n",
      "0.15062735136426267\n",
      "0.0673625993842474\n",
      "0.09674216804911331\n",
      "0.01684064984606185\n",
      "0.1347251987684948\n",
      "0.0\n",
      "0.0673625993842474\n",
      "0.06943577811935481\n",
      "0.09526510164590819\n",
      "0.09963062808854618\n",
      "0.023816275411477048\n",
      "0.0673625993842474\n",
      "0.0\n",
      "0.023816275411477048\n",
      "0.0\n",
      "0.02916886116585612\n",
      "0.1667139278803393\n",
      "0.0\n",
      "0.07144882623443113\n",
      "0.09819701913032057\n",
      "0.09819701913032057\n",
      "0.01684064984606185\n",
      "0.01684064984606185\n",
      "0.0\n",
      "0.0673625993842474\n",
      "0.0\n",
      "0.06943577811935481\n",
      "0.0673625993842474\n",
      "0.1347251987684948\n",
      "0.12260178148622533\n",
      "0.0\n",
      "0.06943577811935481\n",
      "0.07144882623443113\n",
      "0.07340669082253741\n",
      "0.01684064984606185\n",
      "0.09526510164590819\n",
      "0.0673625993842474\n",
      "0.1347251987684948\n",
      "0.0\n",
      "0.0\n",
      "0.13887155623870961\n",
      "0.023816275411477048\n",
      "0.09819701913032057\n",
      "0.0\n",
      "0.06943577811935481\n",
      "0.0\n",
      "0.15342562185217318\n",
      "0.09963062808854618\n",
      "0.01684064984606185\n",
      "0.0673625993842474\n",
      "0.09674216804911331\n",
      "0.17901856344484482\n",
      "0.0673625993842474\n",
      "0.09526510164590819\n",
      "0.0673625993842474\n",
      "0.09526510164590819\n",
      "0.11788454892243297\n",
      "0.09819701913032057\n",
      "0.01684064984606185\n",
      "0.01684064984606185\n",
      "0.01684064984606185\n",
      "0.0673625993842474\n",
      "0.01684064984606185\n"
     ]
    }
   ],
   "source": [
    "from sklearn.metrics import mean_squared_error\n",
    "for i in range(200):\n",
    "    x_train, x_test, y_train, y_test = train_test_split(x, y, test_size=0.33, random_state=i)\n",
    "    from sklearn.tree import DecisionTreeRegressor\n",
    "    lm=DecisionTreeRegressor()\n",
    "    lm.fit(x_train,y_train)\n",
    "    y_pred=lm.predict(x_test)\n",
    "    mse=mean_squared_error(y_test,y_pred)\n",
    "    rmse = np.sqrt(mse)\n",
    "    print(rmse)"
   ]
  },
  {
   "cell_type": "code",
   "execution_count": 131,
   "id": "97042d96",
   "metadata": {},
   "outputs": [
    {
     "data": {
      "text/plain": [
       "DecisionTreeRegressor()"
      ]
     },
     "execution_count": 131,
     "metadata": {},
     "output_type": "execute_result"
    }
   ],
   "source": [
    "from sklearn.tree import DecisionTreeRegressor\n",
    "regressor = DecisionTreeRegressor()\n",
    "regressor.fit(x_train,y_train)"
   ]
  },
  {
   "cell_type": "code",
   "execution_count": 132,
   "id": "780f793d",
   "metadata": {},
   "outputs": [],
   "source": [
    "y_pred = regressor.predict(x_test)"
   ]
  },
  {
   "cell_type": "code",
   "execution_count": 133,
   "id": "bcfd6021",
   "metadata": {},
   "outputs": [
    {
     "data": {
      "text/plain": [
       "array([3., 2., 3., ..., 2., 3., 4.])"
      ]
     },
     "execution_count": 133,
     "metadata": {},
     "output_type": "execute_result"
    }
   ],
   "source": [
    "y_pred"
   ]
  },
  {
   "cell_type": "code",
   "execution_count": 134,
   "id": "0870e0b4",
   "metadata": {},
   "outputs": [
    {
     "data": {
      "text/plain": [
       "100.0"
      ]
     },
     "execution_count": 134,
     "metadata": {},
     "output_type": "execute_result"
    }
   ],
   "source": [
    "dt_accuracy = round(regressor.score(x_train,y_train)*100,2)\n",
    "dt_accuracy"
   ]
  },
  {
   "cell_type": "markdown",
   "id": "e098c512",
   "metadata": {},
   "source": [
    "The Test Accuracy of DecisionTreeRegressor is 100"
   ]
  },
  {
   "cell_type": "code",
   "execution_count": 135,
   "id": "bba061d8",
   "metadata": {},
   "outputs": [
    {
     "data": {
      "text/plain": [
       "RandomForestRegressor()"
      ]
     },
     "execution_count": 135,
     "metadata": {},
     "output_type": "execute_result"
    }
   ],
   "source": [
    "from sklearn.ensemble import RandomForestRegressor\n",
    "regressor = RandomForestRegressor()\n",
    "regressor.fit(x_train,y_train)"
   ]
  },
  {
   "cell_type": "code",
   "execution_count": 136,
   "id": "5f992988",
   "metadata": {},
   "outputs": [
    {
     "data": {
      "text/plain": [
       "array([3.  , 2.  , 3.  , ..., 2.  , 3.  , 3.96])"
      ]
     },
     "execution_count": 136,
     "metadata": {},
     "output_type": "execute_result"
    }
   ],
   "source": [
    "y_pred = regressor.predict(x_test)\n",
    "y_pred"
   ]
  },
  {
   "cell_type": "code",
   "execution_count": 137,
   "id": "9b11819b",
   "metadata": {},
   "outputs": [
    {
     "data": {
      "text/plain": [
       "99.96"
      ]
     },
     "execution_count": 137,
     "metadata": {},
     "output_type": "execute_result"
    }
   ],
   "source": [
    "rf_accuracy = round(regressor.score(x_train,y_train)*100,2)\n",
    "rf_accuracy"
   ]
  },
  {
   "cell_type": "code",
   "execution_count": 138,
   "id": "3081a88c",
   "metadata": {},
   "outputs": [
    {
     "data": {
      "text/plain": [
       "LinearRegression()"
      ]
     },
     "execution_count": 138,
     "metadata": {},
     "output_type": "execute_result"
    }
   ],
   "source": [
    "from sklearn.linear_model import LinearRegression\n",
    "regressor = LinearRegression()\n",
    "regressor.fit(x_train,y_train)"
   ]
  },
  {
   "cell_type": "code",
   "execution_count": 139,
   "id": "826415b4",
   "metadata": {},
   "outputs": [
    {
     "data": {
      "text/plain": [
       "array([2.58589889, 1.78149605, 2.78661624, ..., 2.61326875, 2.30429324,\n",
       "       1.32403676])"
      ]
     },
     "execution_count": 139,
     "metadata": {},
     "output_type": "execute_result"
    }
   ],
   "source": [
    "y_pred = regressor.predict(x_test)\n",
    "y_pred"
   ]
  },
  {
   "cell_type": "code",
   "execution_count": 140,
   "id": "d5d539a3",
   "metadata": {},
   "outputs": [
    {
     "data": {
      "text/plain": [
       "38.17"
      ]
     },
     "execution_count": 140,
     "metadata": {},
     "output_type": "execute_result"
    }
   ],
   "source": [
    "lr_accuracy = round(regressor.score(x_train,y_train)*100,2)\n",
    "lr_accuracy"
   ]
  },
  {
   "cell_type": "code",
   "execution_count": 141,
   "id": "62e11473",
   "metadata": {},
   "outputs": [
    {
     "data": {
      "text/plain": [
       "GaussianNB()"
      ]
     },
     "execution_count": 141,
     "metadata": {},
     "output_type": "execute_result"
    }
   ],
   "source": [
    "from sklearn.naive_bayes import GaussianNB\n",
    "regressor = GaussianNB()\n",
    "regressor.fit(x_train,y_train)"
   ]
  },
  {
   "cell_type": "code",
   "execution_count": 142,
   "id": "4f587958",
   "metadata": {},
   "outputs": [
    {
     "data": {
      "text/plain": [
       "array([3, 2, 3, ..., 2, 3, 4])"
      ]
     },
     "execution_count": 142,
     "metadata": {},
     "output_type": "execute_result"
    }
   ],
   "source": [
    "y_pred = regressor.predict(x_test)\n",
    "y_pred"
   ]
  },
  {
   "cell_type": "code",
   "execution_count": 143,
   "id": "3630b7ee",
   "metadata": {},
   "outputs": [
    {
     "data": {
      "text/plain": [
       "99.46"
      ]
     },
     "execution_count": 143,
     "metadata": {},
     "output_type": "execute_result"
    }
   ],
   "source": [
    "nb_accuracy = round(regressor.score(x_train,y_train)*100,2)\n",
    "nb_accuracy"
   ]
  },
  {
   "cell_type": "markdown",
   "id": "118d8e72",
   "metadata": {},
   "source": [
    "The Test Accuracy of GaussianNB is 99.46"
   ]
  },
  {
   "cell_type": "code",
   "execution_count": 144,
   "id": "fba78c6f",
   "metadata": {},
   "outputs": [
    {
     "data": {
      "text/plain": [
       "SVR()"
      ]
     },
     "execution_count": 144,
     "metadata": {},
     "output_type": "execute_result"
    }
   ],
   "source": [
    "from sklearn.svm import SVR\n",
    "regressor = SVR()\n",
    "regressor.fit(x_train,y_train)"
   ]
  },
  {
   "cell_type": "code",
   "execution_count": 145,
   "id": "14decda0",
   "metadata": {},
   "outputs": [
    {
     "data": {
      "text/plain": [
       "array([2.21643584, 2.09116445, 1.99192579, ..., 2.11599819, 2.10227686,\n",
       "       2.13312899])"
      ]
     },
     "execution_count": 145,
     "metadata": {},
     "output_type": "execute_result"
    }
   ],
   "source": [
    "y_pred = regressor.predict(x_test)\n",
    "y_pred"
   ]
  },
  {
   "cell_type": "code",
   "execution_count": 146,
   "id": "be9d9b3d",
   "metadata": {},
   "outputs": [
    {
     "data": {
      "text/plain": [
       "1.26"
      ]
     },
     "execution_count": 146,
     "metadata": {},
     "output_type": "execute_result"
    }
   ],
   "source": [
    "svm_accuracy = round(regressor.score(x_train,y_train)*100,2)\n",
    "svm_accuracy"
   ]
  },
  {
   "cell_type": "markdown",
   "id": "15821c54",
   "metadata": {},
   "source": [
    "The Test Accuracy of SVR is 1.26"
   ]
  },
  {
   "cell_type": "code",
   "execution_count": 147,
   "id": "10e69be2",
   "metadata": {},
   "outputs": [
    {
     "data": {
      "text/plain": [
       "KNeighborsRegressor()"
      ]
     },
     "execution_count": 147,
     "metadata": {},
     "output_type": "execute_result"
    }
   ],
   "source": [
    "from sklearn.neighbors import KNeighborsRegressor\n",
    "regressor = KNeighborsRegressor()\n",
    "regressor.fit(x_train,y_train)"
   ]
  },
  {
   "cell_type": "code",
   "execution_count": 148,
   "id": "136d6e78",
   "metadata": {},
   "outputs": [
    {
     "data": {
      "text/plain": [
       "array([3. , 2.2, 2. , ..., 2. , 3. , 2. ])"
      ]
     },
     "execution_count": 148,
     "metadata": {},
     "output_type": "execute_result"
    }
   ],
   "source": [
    "y_pred = regressor.predict(x_test)\n",
    "y_pred"
   ]
  },
  {
   "cell_type": "code",
   "execution_count": 149,
   "id": "f053cd95",
   "metadata": {},
   "outputs": [
    {
     "data": {
      "text/plain": [
       "75.24"
      ]
     },
     "execution_count": 149,
     "metadata": {},
     "output_type": "execute_result"
    }
   ],
   "source": [
    "knn_accuracy = round(regressor.score(x_train,y_train)*100,2)\n",
    "knn_accuracy"
   ]
  },
  {
   "cell_type": "markdown",
   "id": "4b9c02d5",
   "metadata": {},
   "source": [
    "The Test Accuracy of KNN regressor is 75.24"
   ]
  },
  {
   "cell_type": "markdown",
   "id": "cab2456d",
   "metadata": {},
   "source": [
    "# Cross validation methods"
   ]
  },
  {
   "cell_type": "code",
   "execution_count": 150,
   "id": "e294c08d",
   "metadata": {},
   "outputs": [],
   "source": [
    "from sklearn.model_selection import cross_val_score"
   ]
  },
  {
   "cell_type": "code",
   "execution_count": 151,
   "id": "70c2aaec",
   "metadata": {},
   "outputs": [
    {
     "name": "stdout",
     "output_type": "stream",
     "text": [
      "0.997495481472955\n"
     ]
    }
   ],
   "source": [
    "from sklearn.tree import DecisionTreeRegressor\n",
    "regressor = DecisionTreeRegressor()\n",
    "print(cross_val_score(regressor,x,y,cv=5).mean())"
   ]
  },
  {
   "cell_type": "code",
   "execution_count": 152,
   "id": "ce8f2d30",
   "metadata": {},
   "outputs": [
    {
     "name": "stdout",
     "output_type": "stream",
     "text": [
      "0.9972137738845428\n"
     ]
    }
   ],
   "source": [
    "from sklearn.ensemble import RandomForestRegressor\n",
    "regressor = RandomForestRegressor()\n",
    "print(cross_val_score(regressor,x,y,cv=5).mean())"
   ]
  },
  {
   "cell_type": "code",
   "execution_count": 153,
   "id": "2c31f524",
   "metadata": {},
   "outputs": [
    {
     "name": "stdout",
     "output_type": "stream",
     "text": [
      "0.01524583972267517\n"
     ]
    }
   ],
   "source": [
    "from sklearn.svm import SVR\n",
    "regressor = SVR()\n",
    "print(cross_val_score(regressor,x,y,cv=5).mean())"
   ]
  },
  {
   "cell_type": "code",
   "execution_count": 154,
   "id": "5fc65469",
   "metadata": {},
   "outputs": [
    {
     "name": "stdout",
     "output_type": "stream",
     "text": [
      "0.3853045693095879\n"
     ]
    }
   ],
   "source": [
    "from sklearn.linear_model import LinearRegression\n",
    "regressor = LinearRegression()\n",
    "print(cross_val_score(regressor,x,y,cv=5).mean())"
   ]
  },
  {
   "cell_type": "code",
   "execution_count": 155,
   "id": "49065e21",
   "metadata": {},
   "outputs": [
    {
     "name": "stdout",
     "output_type": "stream",
     "text": [
      "0.6409912908501054\n"
     ]
    }
   ],
   "source": [
    "from sklearn.neighbors import KNeighborsRegressor\n",
    "regressor = KNeighborsRegressor()\n",
    "print(cross_val_score(regressor,x,y,cv=5).mean())"
   ]
  },
  {
   "cell_type": "code",
   "execution_count": 156,
   "id": "e4a49c4f",
   "metadata": {},
   "outputs": [
    {
     "name": "stdout",
     "output_type": "stream",
     "text": [
      "0.9944773204061137\n"
     ]
    }
   ],
   "source": [
    "from sklearn.naive_bayes import GaussianNB\n",
    "regressor = GaussianNB()\n",
    "print(cross_val_score(regressor,x,y,cv=5).mean())"
   ]
  },
  {
   "cell_type": "markdown",
   "id": "10b71f87",
   "metadata": {},
   "source": [
    "# Hyperparameter Tunnings"
   ]
  },
  {
   "cell_type": "code",
   "execution_count": 157,
   "id": "60b8fc11",
   "metadata": {},
   "outputs": [],
   "source": [
    "from sklearn.model_selection import GridSearchCV"
   ]
  },
  {
   "cell_type": "code",
   "execution_count": 158,
   "id": "aa3bdb63",
   "metadata": {},
   "outputs": [],
   "source": [
    "parameter = {\"max_depth\":[1,3,5,7,9,11,12],\n",
    "             'criterion':['mse','friedman_mse']}"
   ]
  },
  {
   "cell_type": "code",
   "execution_count": 159,
   "id": "a912d724",
   "metadata": {},
   "outputs": [],
   "source": [
    "GCV = GridSearchCV(DecisionTreeRegressor(),parameter,cv=5)"
   ]
  },
  {
   "cell_type": "code",
   "execution_count": 160,
   "id": "901e6b2c",
   "metadata": {},
   "outputs": [
    {
     "data": {
      "text/plain": [
       "GridSearchCV(cv=5, estimator=DecisionTreeRegressor(),\n",
       "             param_grid={'criterion': ['mse', 'friedman_mse'],\n",
       "                         'max_depth': [1, 3, 5, 7, 9, 11, 12]})"
      ]
     },
     "execution_count": 160,
     "metadata": {},
     "output_type": "execute_result"
    }
   ],
   "source": [
    "GCV.fit(x_train,y_train)"
   ]
  },
  {
   "cell_type": "code",
   "execution_count": 161,
   "id": "9a5c5dc6",
   "metadata": {},
   "outputs": [
    {
     "data": {
      "text/plain": [
       "{'criterion': 'friedman_mse', 'max_depth': 9}"
      ]
     },
     "execution_count": 161,
     "metadata": {},
     "output_type": "execute_result"
    }
   ],
   "source": [
    "GCV.best_params_"
   ]
  },
  {
   "cell_type": "markdown",
   "id": "854fb50f",
   "metadata": {},
   "source": [
    "# Evalute The Final Model"
   ]
  },
  {
   "cell_type": "code",
   "execution_count": 162,
   "id": "ecd02b39",
   "metadata": {},
   "outputs": [
    {
     "name": "stdout",
     "output_type": "stream",
     "text": [
      "99.95854993178548\n"
     ]
    }
   ],
   "source": [
    "from sklearn.tree import DecisionTreeRegressor\n",
    "regressor = DecisionTreeRegressor()\n",
    "regressor.fit(x_train,y_train)\n",
    "Final_mod = DecisionTreeRegressor()\n",
    "Final_mod.fit(x_train,y_train)\n",
    "pred = Final_mod.predict(x_test)\n",
    "print((regressor.score(x_test,y_test)*100))"
   ]
  },
  {
   "cell_type": "markdown",
   "id": "52c36f36",
   "metadata": {},
   "source": [
    "# Saving The Model"
   ]
  },
  {
   "cell_type": "code",
   "execution_count": 163,
   "id": "32c33a03",
   "metadata": {},
   "outputs": [
    {
     "data": {
      "text/plain": [
       "['FinalModle.pkl']"
      ]
     },
     "execution_count": 163,
     "metadata": {},
     "output_type": "execute_result"
    }
   ],
   "source": [
    "import joblib\n",
    "joblib.dump(Final_mod,\"FinalModle.pkl\")"
   ]
  },
  {
   "cell_type": "markdown",
   "id": "ffa8cda0",
   "metadata": {},
   "source": [
    "# Prediction Method"
   ]
  },
  {
   "cell_type": "code",
   "execution_count": 164,
   "id": "ae4a7687",
   "metadata": {},
   "outputs": [
    {
     "name": "stdout",
     "output_type": "stream",
     "text": [
      "[3. 2. 3. 3. 2. 2. 0. 2. 3. 2. 0. 2. 3. 2. 3. 0. 0. 2. 2. 0. 2. 3. 0. 0.\n",
      " 0. 2. 0. 2. 2. 3. 3. 3. 1. 2. 3. 3.]\n",
      "[3 2 3 3 2 2 0 2 3 2 0 2 3 2 3 0 0 2 2 0 2 3 0 0 0 2 0 2 2 3 3 3 1 2 3 3]\n"
     ]
    }
   ],
   "source": [
    "Final_mod = DecisionTreeRegressor()\n",
    "Final_mod.fit(x_train,y_train)\n",
    "pred = Final_mod.predict(x_test)\n",
    "preds = regressor.predict(x_test)\n",
    "print(preds[:36])\n",
    "print(y_test[:36].values)"
   ]
  },
  {
   "cell_type": "markdown",
   "id": "798acb1a",
   "metadata": {},
   "source": [
    "# The train and test data is balanced most regressor methods hit the 99% accuracy with the datset."
   ]
  },
  {
   "cell_type": "code",
   "execution_count": null,
   "id": "26ec976c",
   "metadata": {},
   "outputs": [],
   "source": []
  }
 ],
 "metadata": {
  "kernelspec": {
   "display_name": "Python 3",
   "language": "python",
   "name": "python3"
  },
  "language_info": {
   "codemirror_mode": {
    "name": "ipython",
    "version": 3
   },
   "file_extension": ".py",
   "mimetype": "text/x-python",
   "name": "python",
   "nbconvert_exporter": "python",
   "pygments_lexer": "ipython3",
   "version": "3.8.8"
  }
 },
 "nbformat": 4,
 "nbformat_minor": 5
}
